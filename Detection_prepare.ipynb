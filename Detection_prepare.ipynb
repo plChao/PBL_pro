{
 "cells": [
  {
   "cell_type": "code",
   "execution_count": 1,
   "metadata": {},
   "outputs": [],
   "source": [
    "import os\n",
    "import csv\n",
    "import cv2\n",
    "import math\n",
    "import time\n",
    "import json\n",
    "import glob\n",
    "import shutil\n",
    "import seaborn as sn\n",
    "import seaborn as sns\n",
    "import pandas as pd\n",
    "import numpy as np\n",
    "import matplotlib.pyplot as plt\n",
    "\n",
    "from PBL_detection import *\n",
    "from tqdm.notebook import tqdm as tqdm"
   ]
  },
  {
   "cell_type": "code",
   "execution_count": null,
   "metadata": {},
   "outputs": [],
   "source": []
  },
  {
   "cell_type": "code",
   "execution_count": 2,
   "metadata": {},
   "outputs": [],
   "source": [
    "def folder_builder(parent_path,folder_name,Rebuild):\n",
    "    if os.path.exists(os.path.join(parent_path, folder_name)) and not Rebuild:\n",
    "        print('\"{}\" folder is exist,if want to rebuild please modify \"Rebuild\" parameter.'.format(folder_name))\n",
    "    else:\n",
    "        if os.path.exists(os.path.join(parent_path, folder_name)):\n",
    "            shutil.rmtree(os.path.join(parent_path, folder_name))\n",
    "        try:\n",
    "            os.makedirs(os.path.join(parent_path, folder_name))\n",
    "            print('\"{}\" folder build successful'.format(folder_name))\n",
    "        except:\n",
    "            print('folder build error')"
   ]
  },
  {
   "cell_type": "code",
   "execution_count": null,
   "metadata": {},
   "outputs": [],
   "source": []
  },
  {
   "cell_type": "code",
   "execution_count": 3,
   "metadata": {},
   "outputs": [
    {
     "name": "stdout",
     "output_type": "stream",
     "text": [
      "This folder is exist,if want to rebuild please modify \"Rebuild\" parameter.\n"
     ]
    }
   ],
   "source": [
    "#First time Rebuild = True\n",
    "Rebuild = False\n",
    "folder_build_path = './'\n",
    "sub_folder_name_list = ['preprocess','Data']\n",
    "\n",
    "if not Rebuild and os.path.exists(folder_build_path):\n",
    "    print('This folder is exist,if want to rebuild please modify \"Rebuild\" parameter.')\n",
    "else:\n",
    "    for sub_folder_name in sub_folder_name_list:\n",
    "        folder_builder(folder_build_path,sub_folder_name,Rebuild)\n",
    "    print('Initial the all folder.')"
   ]
  },
  {
   "cell_type": "code",
   "execution_count": null,
   "metadata": {},
   "outputs": [],
   "source": []
  },
  {
   "cell_type": "code",
   "execution_count": 2,
   "metadata": {},
   "outputs": [
    {
     "data": {
      "text/html": [
       "<div>\n",
       "<style scoped>\n",
       "    .dataframe tbody tr th:only-of-type {\n",
       "        vertical-align: middle;\n",
       "    }\n",
       "\n",
       "    .dataframe tbody tr th {\n",
       "        vertical-align: top;\n",
       "    }\n",
       "\n",
       "    .dataframe thead th {\n",
       "        text-align: right;\n",
       "    }\n",
       "</style>\n",
       "<table border=\"1\" class=\"dataframe\">\n",
       "  <thead>\n",
       "    <tr style=\"text-align: right;\">\n",
       "      <th></th>\n",
       "      <th>folder_name</th>\n",
       "      <th>image_name</th>\n",
       "      <th>tooth_side</th>\n",
       "      <th>stage</th>\n",
       "      <th>bone_loss</th>\n",
       "    </tr>\n",
       "  </thead>\n",
       "  <tbody>\n",
       "    <tr>\n",
       "      <th>0</th>\n",
       "      <td>701509 061919 x</td>\n",
       "      <td>NN_190619_104716_EA3E9</td>\n",
       "      <td>9M</td>\n",
       "      <td>1.0</td>\n",
       "      <td>1.0</td>\n",
       "    </tr>\n",
       "    <tr>\n",
       "      <th>1</th>\n",
       "      <td>701509 061919 x</td>\n",
       "      <td>NN_190619_104716_EA3E9</td>\n",
       "      <td>9D</td>\n",
       "      <td>1.0</td>\n",
       "      <td>2.0</td>\n",
       "    </tr>\n",
       "    <tr>\n",
       "      <th>2</th>\n",
       "      <td>701509 061919 x</td>\n",
       "      <td>NN_190619_104716_EA3E9</td>\n",
       "      <td>10M</td>\n",
       "      <td>3.0</td>\n",
       "      <td>2.0</td>\n",
       "    </tr>\n",
       "    <tr>\n",
       "      <th>3</th>\n",
       "      <td>701509 061919 x</td>\n",
       "      <td>NN_190619_104716_EA3E9</td>\n",
       "      <td>10D</td>\n",
       "      <td>3.0</td>\n",
       "      <td>2.0</td>\n",
       "    </tr>\n",
       "    <tr>\n",
       "      <th>4</th>\n",
       "      <td>701509 061919 x</td>\n",
       "      <td>NN_190619_104720_EA3E7</td>\n",
       "      <td>7D</td>\n",
       "      <td>1.0</td>\n",
       "      <td>1.0</td>\n",
       "    </tr>\n",
       "  </tbody>\n",
       "</table>\n",
       "</div>"
      ],
      "text/plain": [
       "       folder_name              image_name tooth_side  stage  bone_loss\n",
       "0  701509 061919 x  NN_190619_104716_EA3E9         9M    1.0        1.0\n",
       "1  701509 061919 x  NN_190619_104716_EA3E9         9D    1.0        2.0\n",
       "2  701509 061919 x  NN_190619_104716_EA3E9        10M    3.0        2.0\n",
       "3  701509 061919 x  NN_190619_104716_EA3E9        10D    3.0        2.0\n",
       "4  701509 061919 x  NN_190619_104720_EA3E7         7D    1.0        1.0"
      ]
     },
     "execution_count": 2,
     "metadata": {},
     "output_type": "execute_result"
    }
   ],
   "source": [
    "csv_lawrence_path = '../csv_file/HV_stage_majority_20210201.csv'\n",
    "csv_lawrence_file = pd.read_csv(csv_lawrence_path)\n",
    "csv_lawrence_file.head()"
   ]
  },
  {
   "cell_type": "code",
   "execution_count": 3,
   "metadata": {},
   "outputs": [
    {
     "name": "stdout",
     "output_type": "stream",
     "text": [
      "Get  2523 patients radiograp in lawrence CSV file\n",
      "NN_150318_095217_C0ACDC\n"
     ]
    }
   ],
   "source": [
    "all_radiograp_list = list(set(csv_lawrence_file['image_name']))\n",
    "print('Get ',len(all_radiograp_list),'patients radiograp in lawrence CSV file')\n",
    "print(all_radiograp_list[0])"
   ]
  },
  {
   "cell_type": "code",
   "execution_count": 7,
   "metadata": {},
   "outputs": [
    {
     "data": {
      "application/vnd.jupyter.widget-view+json": {
       "model_id": "bf2947aebdb040678b3cfc508a9a7c66",
       "version_major": 2,
       "version_minor": 0
      },
      "text/plain": [
       "HBox(children=(IntProgress(value=0, max=2523), HTML(value='')))"
      ]
     },
     "metadata": {},
     "output_type": "display_data"
    },
    {
     "name": "stdout",
     "output_type": "stream",
     "text": [
      "\n",
      "2511\n",
      "12\n",
      "Check\n"
     ]
    },
    {
     "data": {
      "application/vnd.jupyter.widget-view+json": {
       "model_id": "528dbf857ea343cb9de38b060c1beb83",
       "version_major": 2,
       "version_minor": 0
      },
      "text/plain": [
       "HBox(children=(IntProgress(value=0, max=2523), HTML(value='')))"
      ]
     },
     "metadata": {},
     "output_type": "display_data"
    },
    {
     "name": "stdout",
     "output_type": "stream",
     "text": [
      "NN_180426_104742_16EDB4\n",
      "NN_141121_093244_16ED98\n",
      "NN_141121_093345_16ED97\n",
      " NN_180921_142943_9B1076\n",
      "NN_180426_100748_16EDAB\n",
      "NN_180426_100749_16EDB9\n",
      "NN_171019_153422_C07107\n",
      "NN_180426_104705_16EDAD\n",
      "NN_180426_104708_16EDB7\n",
      "NN_171019_155156_C07101\n",
      "NN_141121_093257_16ED95\n",
      "NN_180426_100727_16EDBE\n",
      "\n",
      "12\n"
     ]
    }
   ],
   "source": [
    "# source_path_list = glob.glob('/root/notebooks/lawrence_compare_all/ALL_radiograp/*.PNG')\n",
    "\n",
    "# save_path = './1_o_image'\n",
    "\n",
    "# count = 0\n",
    "# count_mis = 0\n",
    "\n",
    "# for img_name in tqdm(all_radiograp_list, total = len(all_radiograp_list)):\n",
    "#     tareget_img_list = [img_path for img_path in source_path_list if img_name in img_path]\n",
    "#     if len(tareget_img_list) >= 1:\n",
    "#         #print(img_name , '> 1')\n",
    "#         count+=1\n",
    "#         #shutil.copyfile(tareget_img_list[0], os.path.join(save_path, img_name+'.PNG'))\n",
    "#     elif len(tareget_img_list) == 0:\n",
    "#         count_mis+=1\n",
    "#         #print(img_name , '= 0')\n",
    "# print(count)\n",
    "# print(count_mis)\n",
    "\n",
    "\n",
    "# count = 0\n",
    "# count_mis = 0\n",
    "# print('Check')\n",
    "# #check\n",
    "# check_path_list = glob.glob('./1_o_image/*.PNG')\n",
    "# for img_name in tqdm(all_radiograp_list, total = len(all_radiograp_list)):\n",
    "#     tareget_img_list = [img_path for img_path in check_path_list if img_name in img_path]\n",
    "#     if len(tareget_img_list) < 1:\n",
    "#         count_mis+=1\n",
    "#         print(img_name)\n",
    "# print(count_mis)"
   ]
  },
  {
   "cell_type": "code",
   "execution_count": 6,
   "metadata": {},
   "outputs": [
    {
     "data": {
      "application/vnd.jupyter.widget-view+json": {
       "model_id": "74b5af8a7d9d459f805a2565667fd8e5",
       "version_major": 2,
       "version_minor": 0
      },
      "text/plain": [
       "HBox(children=(IntProgress(value=0, max=2523), HTML(value='')))"
      ]
     },
     "metadata": {},
     "output_type": "display_data"
    },
    {
     "name": "stdout",
     "output_type": "stream",
     "text": [
      "\n",
      "2511\n",
      "12\n",
      "Check\n"
     ]
    },
    {
     "data": {
      "application/vnd.jupyter.widget-view+json": {
       "model_id": "be2ac77d014544d7a622026fd0317b93",
       "version_major": 2,
       "version_minor": 0
      },
      "text/plain": [
       "HBox(children=(IntProgress(value=0, max=2523), HTML(value='')))"
      ]
     },
     "metadata": {},
     "output_type": "display_data"
    },
    {
     "name": "stdout",
     "output_type": "stream",
     "text": [
      "NN_180426_104742_16EDB4\n",
      "NN_141121_093244_16ED98\n",
      "NN_141121_093345_16ED97\n",
      " NN_180921_142943_9B1076\n",
      "NN_180426_100748_16EDAB\n",
      "NN_180426_100749_16EDB9\n",
      "NN_171019_153422_C07107\n",
      "NN_180426_104705_16EDAD\n",
      "NN_180426_104708_16EDB7\n",
      "NN_171019_155156_C07101\n",
      "NN_141121_093257_16ED95\n",
      "NN_180426_100727_16EDBE\n",
      "\n",
      "12\n"
     ]
    }
   ],
   "source": [
    "# source_path_list = glob.glob('/root/notebooks/lawrence_compare_all/PBL_detection/1_seg_image/*.PNG')\n",
    "\n",
    "# save_path = './1_seg_image'\n",
    "\n",
    "# count = 0\n",
    "# count_mis = 0\n",
    "\n",
    "# for img_name in tqdm(all_radiograp_list, total = len(all_radiograp_list)):\n",
    "#     tareget_img_list = [img_path for img_path in source_path_list if img_name in img_path]\n",
    "#     if len(tareget_img_list) >= 1:\n",
    "#         #print(img_name , '> 1')\n",
    "#         count+=1\n",
    "#         #shutil.copyfile(tareget_img_list[0], os.path.join(save_path, img_name+'.PNG'))\n",
    "#     elif len(tareget_img_list) == 0:\n",
    "#         count_mis+=1\n",
    "#         #print(img_name , '= 0')\n",
    "# print(count)\n",
    "# print(count_mis)\n",
    "\n",
    "\n",
    "# count = 0\n",
    "# count_mis = 0\n",
    "# seg_loss_list= []\n",
    "# print('Check')\n",
    "# #check\n",
    "# check_path_list = glob.glob('./1_seg_image/*.PNG')\n",
    "# for img_name in tqdm(all_radiograp_list, total = len(all_radiograp_list)):\n",
    "#     tareget_img_list = [img_path for img_path in check_path_list if img_name in img_path]\n",
    "#     if len(tareget_img_list) < 1:\n",
    "#         count_mis+=1\n",
    "#         seg_loss_list.append(img_name)\n",
    "#         print(img_name)\n",
    "# print(count_mis)"
   ]
  },
  {
   "cell_type": "code",
   "execution_count": 9,
   "metadata": {},
   "outputs": [
    {
     "name": "stdout",
     "output_type": "stream",
     "text": [
      "9051\n"
     ]
    },
    {
     "data": {
      "application/vnd.jupyter.widget-view+json": {
       "model_id": "0eabb0a2571149e59215c584567752b4",
       "version_major": 2,
       "version_minor": 0
      },
      "text/plain": [
       "HBox(children=(IntProgress(value=0, max=2523), HTML(value='')))"
      ]
     },
     "metadata": {},
     "output_type": "display_data"
    },
    {
     "name": "stdout",
     "output_type": "stream",
     "text": [
      "\n",
      "2498\n",
      "9051\n",
      "25\n",
      "Check\n"
     ]
    },
    {
     "data": {
      "application/vnd.jupyter.widget-view+json": {
       "model_id": "421b5b2b8a1c4d63888050957a26293d",
       "version_major": 2,
       "version_minor": 0
      },
      "text/plain": [
       "HBox(children=(IntProgress(value=0, max=2523), HTML(value='')))"
      ]
     },
     "metadata": {},
     "output_type": "display_data"
    },
    {
     "name": "stdout",
     "output_type": "stream",
     "text": [
      "\n",
      "25\n"
     ]
    }
   ],
   "source": [
    "source_path_list = glob.glob('/root/notebooks/lawrence_compare_all/mask_0505_size/*.PNG')\n",
    "print(len(source_path_list))\n",
    "save_path = './1_roots_mask'\n",
    "\n",
    "count = 0\n",
    "count_r_name = 0\n",
    "count_root = 0\n",
    "count_miss_root = 0\n",
    "\n",
    "for img_name in tqdm(all_radiograp_list, total = len(all_radiograp_list)):\n",
    "    tareget_img_list = [img_path_ for img_path_ in source_path_list if img_name in img_path_]\n",
    "    if len(tareget_img_list) >= 1:\n",
    "        #print(img_name , '> 1')\n",
    "        count+=1\n",
    "        for root_img in tareget_img_list:\n",
    "            count_root+=1\n",
    "            shutil.copyfile(root_img, os.path.join(save_path, root_img.split('/')[-1]))\n",
    "    elif len(tareget_img_list) == 0:\n",
    "        count_miss_root+=1\n",
    "        #print(img_name , '= 0')\n",
    "print(count)\n",
    "print(count_root)\n",
    "print(count_miss_root)\n",
    "\n",
    "count = 0\n",
    "count_mis = 0\n",
    "seg_loss_list= []\n",
    "print('Check')\n",
    "#check\n",
    "check_path_list = glob.glob('./1_roots_mask/*.PNG')\n",
    "for img_name in tqdm(all_radiograp_list, total = len(all_radiograp_list)):\n",
    "    tareget_img_list = [img_path for img_path in check_path_list if img_name in img_path]\n",
    "    if len(tareget_img_list) < 1:\n",
    "        count_mis+=1\n",
    "        seg_loss_list.append(img_name)\n",
    "        #print(img_name)\n",
    "print(count_mis)"
   ]
  },
  {
   "cell_type": "code",
   "execution_count": 44,
   "metadata": {},
   "outputs": [
    {
     "name": "stdout",
     "output_type": "stream",
     "text": [
      "106\n"
     ]
    }
   ],
   "source": [
    "print(len(seg_loss_list))"
   ]
  },
  {
   "cell_type": "code",
   "execution_count": 77,
   "metadata": {},
   "outputs": [],
   "source": [
    "# source_path_list = glob.glob('/root/notebooks/lawrence_compare_all/PBL_detection/1_o_image/*.PNG')\n",
    "# print(len(source_path_list))\n",
    "# save_path = '/root/notebooks/lawrence_compare_all/o_img_1024'\n",
    "\n",
    "# count+=0\n",
    "\n",
    "# for img_name in tqdm(seg_loss_list, total=len(seg_loss_list)):\n",
    "#     target_list = [img_path for img_path in source_path_list if img_name in img_path]\n",
    "#     if len(target_list)>0:\n",
    "#         count+=1\n",
    "#         o_img = cv2.imread(target_list[0])\n",
    "#         o_img_resize = cv2.resize(o_img,(1024,1024))\n",
    "#         cv2.imwrite(os.path.join(save_path,target_list[0].split('/')[-1]),o_img_resize)\n",
    "    \n",
    "# print(count)"
   ]
  },
  {
   "cell_type": "code",
   "execution_count": 55,
   "metadata": {},
   "outputs": [
    {
     "name": "stdout",
     "output_type": "stream",
     "text": [
      "4963\n"
     ]
    },
    {
     "data": {
      "application/vnd.jupyter.widget-view+json": {
       "model_id": "d6cb8482831e4b0c982ae97df45e28c6",
       "version_major": 2,
       "version_minor": 0
      },
      "text/plain": [
       "HBox(children=(IntProgress(value=0, max=106), HTML(value='')))"
      ]
     },
     "metadata": {},
     "output_type": "display_data"
    },
    {
     "name": "stdout",
     "output_type": "stream",
     "text": [
      "\n",
      "94\n",
      "0\n"
     ]
    }
   ],
   "source": [
    "# source_path_list = glob.glob('/root/notebooks/tooth_thsis_experiment/PBL_detection/preprocess/seg_img_1024/*.PNG')\n",
    "# print(len(source_path_list))\n",
    "# save_path = '../seg'\n",
    "\n",
    "# count=0\n",
    "# count_miss=0 \n",
    "\n",
    "# for img_name in tqdm(seg_loss_list, total=len(seg_loss_list)):\n",
    "#     target_list = [img_path for img_path in source_path_list if img_name in img_path]\n",
    "#     if len(target_list)>0:\n",
    "#         count+=1\n",
    "#         shutil.copyfile(target_list[0], os.path.join(save_path,target_list[0].split('/')[-1]))\n",
    "#     else:\n",
    "#         count_miss+1\n",
    "# print(count)\n",
    "# print(count_miss)"
   ]
  },
  {
   "cell_type": "code",
   "execution_count": 5,
   "metadata": {},
   "outputs": [],
   "source": [
    "# patient_list = glob.glob('./Data/patient_folder/*')\n",
    "# file_list = glob.glob('./Data/patient_folder/*/*/*.PNG')\n",
    "    \n",
    "\n",
    "# show_patient_info(patient_list,file_list)\n",
    "# assert len(file_list)>0 ,\"Loading data error\""
   ]
  },
  {
   "cell_type": "code",
   "execution_count": null,
   "metadata": {},
   "outputs": [],
   "source": []
  },
  {
   "cell_type": "code",
   "execution_count": 6,
   "metadata": {},
   "outputs": [],
   "source": [
    "# #First time Rebuild = True\n",
    "# Rebuild = False\n",
    "# folder_build_path = './preprocess'\n",
    "# sub_folder_name_list = ['o_img','seg_img','root_mask_img']\n",
    "\n",
    "# if not Rebuild and os.path.exists(folder_build_path):\n",
    "#     print('This folder is exist,if want to rebuild please modify \"Rebuild\" parameter.')\n",
    "# else:\n",
    "#     for sub_folder_name in sub_folder_name_list:\n",
    "#         folder_builder(folder_build_path,sub_folder_name,Rebuild)\n",
    "#     print('Initial the all folder.')"
   ]
  },
  {
   "cell_type": "code",
   "execution_count": 7,
   "metadata": {},
   "outputs": [],
   "source": [
    "# o_img_save_path = './preprocess/o_img'\n",
    "\n",
    "# for img_path in tqdm(file_list,total=len(file_list)):\n",
    "#     img_name = img_path.split('/')[-1]\n",
    "#     shutil.copyfile(img_path, os.path.join(o_img_save_path,img_name))"
   ]
  },
  {
   "cell_type": "markdown",
   "metadata": {},
   "source": [
    "# copy predict segmentation image & resize"
   ]
  },
  {
   "cell_type": "code",
   "execution_count": 71,
   "metadata": {},
   "outputs": [
    {
     "name": "stdout",
     "output_type": "stream",
     "text": [
      "94 2511\n"
     ]
    }
   ],
   "source": [
    "seg_img_path = '/root/notebooks/lawrence_compare_all/seg_1024/*.PNG'\n",
    "seg_img_path_list = glob.glob(seg_img_path)\n",
    "seg_img_path_list.sort()\n",
    "\n",
    "o_img_path = '/root/notebooks/lawrence_compare_all/PBL_detection/1_o_image/*.PNG'\n",
    "o_img_path_list = glob.glob(o_img_path)\n",
    "# o_img_path_list_FM =[path for path in o_img_path_list if 'FM' not in path]\n",
    "# o_img_path_list_FM.sort()\n",
    "\n",
    "print(len(seg_img_path_list),len(o_img_path_list))"
   ]
  },
  {
   "cell_type": "code",
   "execution_count": 79,
   "metadata": {},
   "outputs": [
    {
     "data": {
      "application/vnd.jupyter.widget-view+json": {
       "model_id": "6b50cd5e653b426a81f7400ab1056572",
       "version_major": 2,
       "version_minor": 0
      },
      "text/plain": [
       "HBox(children=(IntProgress(value=0, max=94), HTML(value='')))"
      ]
     },
     "metadata": {},
     "output_type": "display_data"
    },
    {
     "name": "stdout",
     "output_type": "stream",
     "text": [
      "\n",
      "1\n"
     ]
    }
   ],
   "source": [
    "# save_path = './1_seg_image'\n",
    "# count = 0\n",
    "# for seg_img_path in tqdm(seg_img_path_list,total=len(seg_img_path_list)):\n",
    "#     img_name = seg_img_path.split('/')[-1][:-4]\n",
    "#     if os.path.isfile(os.path.join(save_path,img_name)):\n",
    "#         continue\n",
    "#     o_img_path = [img_path for img_path in o_img_path_list if img_name in img_path]\n",
    "#     if len(o_img_path)>0:\n",
    "#         count+=1\n",
    "#         o_img = cv2.imread(o_img_path[0])\n",
    "#         seg_img = cv2.imread(seg_img_path)\n",
    "#         seg_img_resize = cv2.resize(seg_img,(o_img.shape[1],o_img.shape[0]),interpolation = cv2.INTER_NEAREST)\n",
    "#         cv2.imwrite(os.path.join(save_path, img_name+'.PNG'),seg_img_resize)\n",
    "#     else:\n",
    "#         print(img_name)\n",
    "# print(count)"
   ]
  },
  {
   "cell_type": "code",
   "execution_count": 10,
   "metadata": {},
   "outputs": [],
   "source": [
    "# save_path = './1_seg_image'\n",
    "\n",
    "# for seg_img_path in tqdm(seg_img_path_list,total=len(seg_img_path_list)):\n",
    "#     img_name = seg_img_path.split('/')[-1]\n",
    "#     o_img_path = [img_path for img_path in o_img_path_list if img_name in img_path]\n",
    "#     o_img = cv2.imread(o_img_path[0])\n",
    "#     seg_img = cv2.imread(seg_img_path)\n",
    "#     seg_img_resize = cv2.resize(seg_img,(o_img.shape[1],o_img.shape[0]),interpolation = cv2.INTER_NEAREST)\n",
    "#     cv2.imwrite(os.path.join(save_path,img_name),seg_img_resize)"
   ]
  },
  {
   "cell_type": "code",
   "execution_count": 11,
   "metadata": {},
   "outputs": [],
   "source": [
    "# seg_img_path = './preprocess/seg_img/*.PNG'\n",
    "# seg_img_path_list = glob.glob(seg_img_path)\n",
    "# seg_img_path_list.sort()\n",
    "\n",
    "# o_img_path = './Data/patient_folder/*/*/*.PNG'\n",
    "# o_img_path_list = glob.glob(o_img_path)\n",
    "# o_img_path_list_FM =[path for path in o_img_path_list if 'FM' not in path]\n",
    "# o_img_path_list_FM.sort()\n",
    "\n",
    "# print(len(seg_img_path_list),len(o_img_path_list_FM))"
   ]
  },
  {
   "cell_type": "code",
   "execution_count": 12,
   "metadata": {},
   "outputs": [],
   "source": [
    "# save_path = './preprocess/seg_img_resize'\n",
    "\n",
    "# for seg_img_path in tqdm(seg_img_path_list,total=len(seg_img_path_list)):\n",
    "#     img_name = seg_img_path.split('/')[-1]\n",
    "#     o_img_path = [img_path for img_path in o_img_path_list if img_name in img_path]\n",
    "#     o_img = cv2.imread(o_img_path[0])\n",
    "#     seg_img = cv2.imread(seg_img_path)\n",
    "#     seg_img_resize = cv2.resize(seg_img,(o_img.shape[1],o_img.shape[0]),interpolation = cv2.INTER_NEAREST)\n",
    "#     cv2.imwrite(os.path.join(save_path,img_name),seg_img_resize)"
   ]
  },
  {
   "cell_type": "code",
   "execution_count": 13,
   "metadata": {},
   "outputs": [],
   "source": [
    "# save_path = './preprocess/seg_img_resize_quator'\n",
    "\n",
    "# for seg_img_path in tqdm(seg_img_path_list,total=len(seg_img_path_list)):\n",
    "#     img_name = seg_img_path.split('/')[-1]\n",
    "#     o_img_path = [img_path for img_path in o_img_path_list if img_name in img_path]\n",
    "#     o_img = cv2.imread(o_img_path[0])\n",
    "#     seg_img = cv2.imread(seg_img_path)\n",
    "#     seg_img_resize = cv2.resize(seg_img,(int(o_img.shape[1]/4),int(o_img.shape[0]/4)),interpolation = cv2.INTER_NEAREST)\n",
    "#     cv2.imwrite(os.path.join(save_path,img_name),seg_img_resize)"
   ]
  },
  {
   "cell_type": "code",
   "execution_count": 14,
   "metadata": {},
   "outputs": [],
   "source": [
    "# root_img_path = './preprocess/mask/*.png'\n",
    "# root_img_path_list = glob.glob(root_img_path)\n",
    "# root_img_path_list.sort()\n",
    "# print(len(root_img_path_list))\n",
    "# root_img_path_list_name = [img_path.split('/')[-1][:-6] for img_path in root_img_path_list] \n",
    "# print(root_img_path_list_name[0])\n",
    "# root_img_path_list_name_set = list(set(root_img_path_list_name))\n",
    "# print(len(root_img_path_list_name_set))"
   ]
  },
  {
   "cell_type": "code",
   "execution_count": 15,
   "metadata": {},
   "outputs": [],
   "source": [
    "# save_path = './preprocess/root_mask_img'\n",
    "\n",
    "# for root_img_path in tqdm(root_img_path_list,total=len(root_img_path_list)):\n",
    "#     img_name = root_img_path.split('/')[-1]\n",
    "#     #print(img_name)\n",
    "#     o_img_path = [img_path for img_path in o_img_path_list if img_name[:-6] in img_path]\n",
    "#     if o_img_path != []:\n",
    "#         o_img = cv2.imread(o_img_path[0])\n",
    "#         root_img = cv2.imread(root_img_path)\n",
    "#         root_img_resize = cv2.resize(root_img,(o_img.shape[1],o_img.shape[0]),interpolation = cv2.INTER_NEAREST)\n",
    "#         cv2.imwrite(os.path.join(save_path,img_name[:-3]+'PNG'),root_img_resize)"
   ]
  },
  {
   "cell_type": "code",
   "execution_count": null,
   "metadata": {},
   "outputs": [],
   "source": []
  },
  {
   "cell_type": "code",
   "execution_count": null,
   "metadata": {},
   "outputs": [],
   "source": []
  },
  {
   "cell_type": "code",
   "execution_count": null,
   "metadata": {},
   "outputs": [],
   "source": []
  }
 ],
 "metadata": {
  "kernelspec": {
   "display_name": "Python 3",
   "language": "python",
   "name": "python3"
  },
  "language_info": {
   "codemirror_mode": {
    "name": "ipython",
    "version": 3
   },
   "file_extension": ".py",
   "mimetype": "text/x-python",
   "name": "python",
   "nbconvert_exporter": "python",
   "pygments_lexer": "ipython3",
   "version": "3.6.7"
  }
 },
 "nbformat": 4,
 "nbformat_minor": 4
}
