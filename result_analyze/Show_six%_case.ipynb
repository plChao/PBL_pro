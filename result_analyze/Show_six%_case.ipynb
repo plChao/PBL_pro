{
 "cells": [
  {
   "cell_type": "code",
   "execution_count": 1,
   "metadata": {},
   "outputs": [],
   "source": [
    "import os\n",
    "import csv\n",
    "import cv2\n",
    "import math\n",
    "import time\n",
    "import json\n",
    "import glob\n",
    "import shutil\n",
    "import seaborn as sn\n",
    "import seaborn as sns\n",
    "import pandas as pd\n",
    "import numpy as np\n",
    "import matplotlib.pyplot as plt\n",
    "\n",
    "from tqdm.notebook import tqdm as tqdm\n",
    "from tabulate import tabulate"
   ]
  },
  {
   "cell_type": "code",
   "execution_count": 2,
   "metadata": {},
   "outputs": [],
   "source": [
    "Match_result_csv_path = '../csv_file/PBL_match_result_all_cej_bone_fold1.csv'\n",
    "Match_result_csv = pd.read_csv(Match_result_csv_path)\n",
    "\n",
    "show_csv = Match_result_csv[['image_name','tooth_side','stage','PBL_predict_tooth','PBL_value','PBL_stage','tooth_path']]"
   ]
  },
  {
   "cell_type": "code",
   "execution_count": 3,
   "metadata": {},
   "outputs": [
    {
     "data": {
      "text/html": [
       "<div>\n",
       "<style scoped>\n",
       "    .dataframe tbody tr th:only-of-type {\n",
       "        vertical-align: middle;\n",
       "    }\n",
       "\n",
       "    .dataframe tbody tr th {\n",
       "        vertical-align: top;\n",
       "    }\n",
       "\n",
       "    .dataframe thead th {\n",
       "        text-align: right;\n",
       "    }\n",
       "</style>\n",
       "<table border=\"1\" class=\"dataframe\">\n",
       "  <thead>\n",
       "    <tr style=\"text-align: right;\">\n",
       "      <th></th>\n",
       "      <th>Unnamed: 0</th>\n",
       "      <th>image_name</th>\n",
       "      <th>tooth_side</th>\n",
       "      <th>stage</th>\n",
       "      <th>PBL_predict_tooth</th>\n",
       "      <th>PBL_value</th>\n",
       "      <th>PBL_stage</th>\n",
       "      <th>tooth_path</th>\n",
       "      <th>CEJ_points</th>\n",
       "      <th>Bone_level_points</th>\n",
       "    </tr>\n",
       "  </thead>\n",
       "  <tbody>\n",
       "    <tr>\n",
       "      <th>0</th>\n",
       "      <td>0</td>\n",
       "      <td>NN_190619_104716_EA3E9</td>\n",
       "      <td>9M</td>\n",
       "      <td>1.0</td>\n",
       "      <td>9_L</td>\n",
       "      <td>12.255</td>\n",
       "      <td>1</td>\n",
       "      <td>NN_190619_104716_EA3E9_0.PNG</td>\n",
       "      <td>1</td>\n",
       "      <td>1</td>\n",
       "    </tr>\n",
       "    <tr>\n",
       "      <th>1</th>\n",
       "      <td>1</td>\n",
       "      <td>NN_190619_104716_EA3E9</td>\n",
       "      <td>9D</td>\n",
       "      <td>1.0</td>\n",
       "      <td>9_R</td>\n",
       "      <td>9.233</td>\n",
       "      <td>1</td>\n",
       "      <td>NN_190619_104716_EA3E9_0.PNG</td>\n",
       "      <td>1</td>\n",
       "      <td>1</td>\n",
       "    </tr>\n",
       "    <tr>\n",
       "      <th>2</th>\n",
       "      <td>2</td>\n",
       "      <td>NN_190619_104716_EA3E9</td>\n",
       "      <td>10M</td>\n",
       "      <td>3.0</td>\n",
       "      <td>10_L</td>\n",
       "      <td>27.999</td>\n",
       "      <td>2</td>\n",
       "      <td>NN_190619_104716_EA3E9_1.PNG</td>\n",
       "      <td>1</td>\n",
       "      <td>1</td>\n",
       "    </tr>\n",
       "    <tr>\n",
       "      <th>3</th>\n",
       "      <td>3</td>\n",
       "      <td>NN_190619_104716_EA3E9</td>\n",
       "      <td>10D</td>\n",
       "      <td>3.0</td>\n",
       "      <td>10_R</td>\n",
       "      <td>70.792</td>\n",
       "      <td>3</td>\n",
       "      <td>NN_190619_104716_EA3E9_1.PNG</td>\n",
       "      <td>1</td>\n",
       "      <td>1</td>\n",
       "    </tr>\n",
       "    <tr>\n",
       "      <th>4</th>\n",
       "      <td>4</td>\n",
       "      <td>NN_190619_104720_EA3E7</td>\n",
       "      <td>7D</td>\n",
       "      <td>1.0</td>\n",
       "      <td>7_L</td>\n",
       "      <td>32.519</td>\n",
       "      <td>2</td>\n",
       "      <td>NN_190619_104720_EA3E7_1.PNG</td>\n",
       "      <td>1</td>\n",
       "      <td>1</td>\n",
       "    </tr>\n",
       "  </tbody>\n",
       "</table>\n",
       "</div>"
      ],
      "text/plain": [
       "   Unnamed: 0              image_name tooth_side  stage PBL_predict_tooth  \\\n",
       "0           0  NN_190619_104716_EA3E9         9M    1.0               9_L   \n",
       "1           1  NN_190619_104716_EA3E9         9D    1.0               9_R   \n",
       "2           2  NN_190619_104716_EA3E9        10M    3.0              10_L   \n",
       "3           3  NN_190619_104716_EA3E9        10D    3.0              10_R   \n",
       "4           4  NN_190619_104720_EA3E7         7D    1.0               7_L   \n",
       "\n",
       "  PBL_value PBL_stage                    tooth_path CEJ_points  \\\n",
       "0    12.255         1  NN_190619_104716_EA3E9_0.PNG          1   \n",
       "1     9.233         1  NN_190619_104716_EA3E9_0.PNG          1   \n",
       "2    27.999         2  NN_190619_104716_EA3E9_1.PNG          1   \n",
       "3    70.792         3  NN_190619_104716_EA3E9_1.PNG          1   \n",
       "4    32.519         2  NN_190619_104720_EA3E7_1.PNG          1   \n",
       "\n",
       "  Bone_level_points  \n",
       "0                 1  \n",
       "1                 1  \n",
       "2                 1  \n",
       "3                 1  \n",
       "4                 1  "
      ]
     },
     "execution_count": 3,
     "metadata": {},
     "output_type": "execute_result"
    }
   ],
   "source": [
    "Match_result_csv.head()"
   ]
  },
  {
   "cell_type": "code",
   "execution_count": 4,
   "metadata": {},
   "outputs": [
    {
     "name": "stdout",
     "output_type": "stream",
     "text": [
      "[0.0, 1.0, 2.0, 3.0]\n",
      "['3', nan, '-999', 'No_match', '0', '1', '2']\n"
     ]
    }
   ],
   "source": [
    "stage_set = list(set(Match_result_csv['stage']))\n",
    "print(stage_set)\n",
    "PBL_stage_set = list(set(Match_result_csv['PBL_stage']))\n",
    "print(PBL_stage_set)"
   ]
  },
  {
   "cell_type": "code",
   "execution_count": 15,
   "metadata": {},
   "outputs": [
    {
     "name": "stdout",
     "output_type": "stream",
     "text": [
      "2973\n",
      "0 0 0\n"
     ]
    }
   ],
   "source": [
    "folder_path = '../'\n",
    "o_image_folder = os.path.join(folder_path,'1_o_image')\n",
    "o_image_path_list = glob.glob(o_image_folder+'/*.PNG')\n",
    "o_image_path_list.sort()\n",
    "\n",
    "s_image_folder = os.path.join(folder_path,'1_seg_image')\n",
    "s_image_path_list = glob.glob(s_image_folder+'/*.PNG')\n",
    "s_image_path_list.sort()\n",
    "\n",
    "seg_image_folder = os.path.join(folder_path,'3_pattern_detection_result')\n",
    "seg_image_point_path_list = glob.glob(seg_image_folder+'/*.PNG')\n",
    "seg_image_point_path_list.sort()\n",
    "\n",
    "seg_fill_image_folder = os.path.join(folder_path,'2_seg_img_with_cej')\n",
    "seg_fill_image_point_path_list = glob.glob(seg_fill_image_folder+'/*.PNG')\n",
    "seg_fill_image_point_path_list.sort()\n",
    "\n",
    "#seg_image_folder = os.path.join(folder_path,'4_result_with_label')\n",
    "seg_image_folder = os.path.join(folder_path,'3_pattern_detection_result')\n",
    "seg_image_info_path_list = glob.glob(seg_image_folder+'/*.PNG')\n",
    "seg_image_info_path_list.sort()\n",
    "\n",
    "json_save_path = '../../../json_file/*.json'\n",
    "json_file_list = glob.glob(json_save_path)\n",
    "print(len(json_file_list))\n",
    "\n",
    "print(len(o_image_path_list),len(seg_image_info_path_list),len(seg_image_point_path_list))"
   ]
  },
  {
   "cell_type": "code",
   "execution_count": 6,
   "metadata": {},
   "outputs": [],
   "source": [
    "## PBL_stage,CEJ_points,Bone_level_points should be string\n",
    "target_case = {'image_name':None,'stage':3,'PBL_stage':None,'CEJ_points':None,'Bone_level_points':None}"
   ]
  },
  {
   "cell_type": "code",
   "execution_count": 7,
   "metadata": {},
   "outputs": [],
   "source": [
    "if target_case['stage'] == 3:\n",
    "    PBL_value_range = [(0, 27)]\n",
    "elif target_case['stage'] == 2:\n",
    "    PBL_value_range = [(0, 9), (39,1000)]\n",
    "elif target_case['stage'] == 1:\n",
    "    PBL_value_range = [(21, 1000)]\n",
    "elif target_case['stage'] == 0:\n",
    "    PBL_value_range = [(21, 1000)]"
   ]
  },
  {
   "cell_type": "code",
   "execution_count": 8,
   "metadata": {},
   "outputs": [
    {
     "data": {
      "text/html": [
       "<div>\n",
       "<style scoped>\n",
       "    .dataframe tbody tr th:only-of-type {\n",
       "        vertical-align: middle;\n",
       "    }\n",
       "\n",
       "    .dataframe tbody tr th {\n",
       "        vertical-align: top;\n",
       "    }\n",
       "\n",
       "    .dataframe thead th {\n",
       "        text-align: right;\n",
       "    }\n",
       "</style>\n",
       "<table border=\"1\" class=\"dataframe\">\n",
       "  <thead>\n",
       "    <tr style=\"text-align: right;\">\n",
       "      <th></th>\n",
       "      <th>Unnamed: 0</th>\n",
       "      <th>image_name</th>\n",
       "      <th>tooth_side</th>\n",
       "      <th>stage</th>\n",
       "      <th>PBL_predict_tooth</th>\n",
       "      <th>PBL_value</th>\n",
       "      <th>PBL_stage</th>\n",
       "      <th>tooth_path</th>\n",
       "      <th>CEJ_points</th>\n",
       "      <th>Bone_level_points</th>\n",
       "    </tr>\n",
       "  </thead>\n",
       "  <tbody>\n",
       "    <tr>\n",
       "      <th>0</th>\n",
       "      <td>0</td>\n",
       "      <td>NN_190619_104716_EA3E9</td>\n",
       "      <td>9M</td>\n",
       "      <td>1.0</td>\n",
       "      <td>9_L</td>\n",
       "      <td>12.255</td>\n",
       "      <td>1</td>\n",
       "      <td>NN_190619_104716_EA3E9_0.PNG</td>\n",
       "      <td>1</td>\n",
       "      <td>1</td>\n",
       "    </tr>\n",
       "    <tr>\n",
       "      <th>1</th>\n",
       "      <td>1</td>\n",
       "      <td>NN_190619_104716_EA3E9</td>\n",
       "      <td>9D</td>\n",
       "      <td>1.0</td>\n",
       "      <td>9_R</td>\n",
       "      <td>9.233</td>\n",
       "      <td>1</td>\n",
       "      <td>NN_190619_104716_EA3E9_0.PNG</td>\n",
       "      <td>1</td>\n",
       "      <td>1</td>\n",
       "    </tr>\n",
       "    <tr>\n",
       "      <th>2</th>\n",
       "      <td>2</td>\n",
       "      <td>NN_190619_104716_EA3E9</td>\n",
       "      <td>10M</td>\n",
       "      <td>3.0</td>\n",
       "      <td>10_L</td>\n",
       "      <td>27.999</td>\n",
       "      <td>2</td>\n",
       "      <td>NN_190619_104716_EA3E9_1.PNG</td>\n",
       "      <td>1</td>\n",
       "      <td>1</td>\n",
       "    </tr>\n",
       "    <tr>\n",
       "      <th>3</th>\n",
       "      <td>3</td>\n",
       "      <td>NN_190619_104716_EA3E9</td>\n",
       "      <td>10D</td>\n",
       "      <td>3.0</td>\n",
       "      <td>10_R</td>\n",
       "      <td>70.792</td>\n",
       "      <td>3</td>\n",
       "      <td>NN_190619_104716_EA3E9_1.PNG</td>\n",
       "      <td>1</td>\n",
       "      <td>1</td>\n",
       "    </tr>\n",
       "    <tr>\n",
       "      <th>4</th>\n",
       "      <td>4</td>\n",
       "      <td>NN_190619_104720_EA3E7</td>\n",
       "      <td>7D</td>\n",
       "      <td>1.0</td>\n",
       "      <td>7_L</td>\n",
       "      <td>32.519</td>\n",
       "      <td>2</td>\n",
       "      <td>NN_190619_104720_EA3E7_1.PNG</td>\n",
       "      <td>1</td>\n",
       "      <td>1</td>\n",
       "    </tr>\n",
       "  </tbody>\n",
       "</table>\n",
       "</div>"
      ],
      "text/plain": [
       "   Unnamed: 0              image_name tooth_side  stage PBL_predict_tooth  \\\n",
       "0           0  NN_190619_104716_EA3E9         9M    1.0               9_L   \n",
       "1           1  NN_190619_104716_EA3E9         9D    1.0               9_R   \n",
       "2           2  NN_190619_104716_EA3E9        10M    3.0              10_L   \n",
       "3           3  NN_190619_104716_EA3E9        10D    3.0              10_R   \n",
       "4           4  NN_190619_104720_EA3E7         7D    1.0               7_L   \n",
       "\n",
       "  PBL_value PBL_stage                    tooth_path CEJ_points  \\\n",
       "0    12.255         1  NN_190619_104716_EA3E9_0.PNG          1   \n",
       "1     9.233         1  NN_190619_104716_EA3E9_0.PNG          1   \n",
       "2    27.999         2  NN_190619_104716_EA3E9_1.PNG          1   \n",
       "3    70.792         3  NN_190619_104716_EA3E9_1.PNG          1   \n",
       "4    32.519         2  NN_190619_104720_EA3E7_1.PNG          1   \n",
       "\n",
       "  Bone_level_points  \n",
       "0                 1  \n",
       "1                 1  \n",
       "2                 1  \n",
       "3                 1  \n",
       "4                 1  "
      ]
     },
     "execution_count": 8,
     "metadata": {},
     "output_type": "execute_result"
    }
   ],
   "source": [
    "Match_result_csv.head()"
   ]
  },
  {
   "cell_type": "code",
   "execution_count": 9,
   "metadata": {},
   "outputs": [],
   "source": [
    "# print(PBL_value_range[1][0],PBL_value_range[1][1])"
   ]
  },
  {
   "cell_type": "code",
   "execution_count": 10,
   "metadata": {},
   "outputs": [
    {
     "name": "stderr",
     "output_type": "stream",
     "text": [
      "/opt/conda/lib/python3.6/site-packages/ipykernel_launcher.py:16: SettingWithCopyWarning: \n",
      "A value is trying to be set on a copy of a slice from a DataFrame.\n",
      "Try using .loc[row_indexer,col_indexer] = value instead\n",
      "\n",
      "See the caveats in the documentation: http://pandas.pydata.org/pandas-docs/stable/indexing.html#indexing-view-versus-copy\n",
      "  app.launch_new_instance()\n"
     ]
    }
   ],
   "source": [
    "target_table = Match_result_csv\n",
    "\n",
    "for key in target_case:\n",
    "    if target_case[key] != None:\n",
    "        target_table = target_table.loc[(target_table[key] == target_case[key])]\n",
    "\n",
    "if target_case['stage']==2:\n",
    "    type_ = 0# 0:(0%~9%) 1:(>39%)\n",
    "    target_table['PBL_value'] = pd.to_numeric(target_table['PBL_value'], errors='coerce')\n",
    "    target_table = target_table.dropna()\n",
    "#     show_table1 = target_table.loc[(target_table['PBL_value'] > PBL_value_range[0][0]) & (target_table['PBL_value'] < PBL_value_range[0][1])]\n",
    "#     show_table2 = target_table.loc[(target_table['PBL_value'] > PBL_value_range[1][0]) & (target_table['PBL_value'] < PBL_value_range[1][1])]\n",
    "#     show_table = pd.concat([show_table1, show_table2])\n",
    "    show_table = target_table.loc[(target_table['PBL_value'] > PBL_value_range[type_][0]) & (target_table['PBL_value'] < PBL_value_range[type_][1])]\n",
    "else:\n",
    "    target_table['PBL_value'] = pd.to_numeric(target_table['PBL_value'], errors='coerce')\n",
    "    target_table = target_table.dropna()\n",
    "    show_table = target_table.loc[(target_table['PBL_value'] > PBL_value_range[0][0]) & (target_table['PBL_value'] < PBL_value_range[0][1])]\n"
   ]
  },
  {
   "cell_type": "code",
   "execution_count": 11,
   "metadata": {},
   "outputs": [
    {
     "name": "stdout",
     "output_type": "stream",
     "text": [
      "56\n"
     ]
    }
   ],
   "source": [
    "\n",
    "target_table = show_table\n",
    "target_table_img_name = target_table['image_name']\n",
    "target_name_list = list(set(list(target_table_img_name)))\n",
    "target_name_list.sort()\n",
    "print(len(target_name_list))\n",
    "\n",
    "# 0:11張14邊 tooth,  1:166張220邊 tooth,  2: low74張86邊tooth  , high 39張53邊 tooth ,  3:64張82邊 tooth"
   ]
  },
  {
   "cell_type": "code",
   "execution_count": 14,
   "metadata": {},
   "outputs": [
    {
     "name": "stdout",
     "output_type": "stream",
     "text": [
      "56\n"
     ]
    },
    {
     "data": {
      "application/vnd.jupyter.widget-view+json": {
       "model_id": "dd9b7c9507054e299f9f2e3543d3ac27",
       "version_major": 2,
       "version_minor": 0
      },
      "text/plain": [
       "HBox(children=(FloatProgress(value=0.0, max=56.0), HTML(value='')))"
      ]
     },
     "metadata": {},
     "output_type": "display_data"
    },
    {
     "name": "stdout",
     "output_type": "stream",
     "text": [
      "0 : NN_071019_103621_C073B3\n",
      "+------+--------------+---------+---------------------+-------------+-------------+-------------------------------+\n",
      "|      | tooth_side   |   stage | PBL_predict_tooth   |   PBL_value |   PBL_stage | tooth_path                    |\n",
      "|------+--------------+---------+---------------------+-------------+-------------+-------------------------------|\n",
      "| 9941 | 14D          |       3 | 14_R                |       0     |           0 | NN_071019_103621_C073B3_2.PNG |\n",
      "| 9943 | 15D          |       3 | 15_R                |       8.155 |           1 | NN_071019_103621_C073B3_3.PNG |\n",
      "+------+--------------+---------+---------------------+-------------+-------------+-------------------------------+\n",
      "Root in json: ['13_LR', '14_LR', '15_LR']\n",
      "[]\n"
     ]
    },
    {
     "ename": "NameError",
     "evalue": "name 'o_img' is not defined",
     "output_type": "error",
     "traceback": [
      "\u001b[0;31m---------------------------------------------------------------------------\u001b[0m",
      "\u001b[0;31mNameError\u001b[0m                                 Traceback (most recent call last)",
      "\u001b[0;32m<ipython-input-14-e3d44a67631a>\u001b[0m in \u001b[0;36m<module>\u001b[0;34m\u001b[0m\n\u001b[1;32m     49\u001b[0m         \u001b[0mshow_img_list\u001b[0m \u001b[0;34m=\u001b[0m \u001b[0mlist\u001b[0m\u001b[0;34m(\u001b[0m\u001b[0mtarget_csv\u001b[0m\u001b[0;34m[\u001b[0m\u001b[0;34m'tooth_path'\u001b[0m\u001b[0;34m]\u001b[0m\u001b[0;34m)\u001b[0m\u001b[0;34m\u001b[0m\u001b[0;34m\u001b[0m\u001b[0m\n\u001b[1;32m     50\u001b[0m         \u001b[0;32mfor\u001b[0m \u001b[0mp_img_name\u001b[0m \u001b[0;32min\u001b[0m \u001b[0mshow_img_list\u001b[0m\u001b[0;34m:\u001b[0m\u001b[0;34m\u001b[0m\u001b[0;34m\u001b[0m\u001b[0m\n\u001b[0;32m---> 51\u001b[0;31m             \u001b[0mblank_image\u001b[0m \u001b[0;34m=\u001b[0m \u001b[0mnp\u001b[0m\u001b[0;34m.\u001b[0m\u001b[0mzeros\u001b[0m\u001b[0;34m(\u001b[0m\u001b[0;34m(\u001b[0m\u001b[0mo_img\u001b[0m\u001b[0;34m.\u001b[0m\u001b[0mshape\u001b[0m\u001b[0;34m[\u001b[0m\u001b[0;36m0\u001b[0m\u001b[0;34m]\u001b[0m\u001b[0;34m,\u001b[0m \u001b[0mo_img\u001b[0m\u001b[0;34m.\u001b[0m\u001b[0mshape\u001b[0m\u001b[0;34m[\u001b[0m\u001b[0;36m1\u001b[0m\u001b[0;34m]\u001b[0m\u001b[0;34m,\u001b[0m \u001b[0;36m3\u001b[0m\u001b[0;34m)\u001b[0m\u001b[0;34m,\u001b[0m \u001b[0mnp\u001b[0m\u001b[0;34m.\u001b[0m\u001b[0muint8\u001b[0m\u001b[0;34m)\u001b[0m\u001b[0;34m\u001b[0m\u001b[0;34m\u001b[0m\u001b[0m\n\u001b[0m\u001b[1;32m     52\u001b[0m             \u001b[0mtarget_info\u001b[0m \u001b[0;34m=\u001b[0m \u001b[0;34m[\u001b[0m\u001b[0mimg_path\u001b[0m \u001b[0;32mfor\u001b[0m \u001b[0mimg_path\u001b[0m \u001b[0;32min\u001b[0m \u001b[0mseg_image_info_path_list\u001b[0m \u001b[0;32mif\u001b[0m \u001b[0mp_img_name\u001b[0m\u001b[0;34m[\u001b[0m\u001b[0;34m:\u001b[0m\u001b[0;34m-\u001b[0m\u001b[0;36m4\u001b[0m\u001b[0;34m]\u001b[0m \u001b[0;32min\u001b[0m \u001b[0mimg_path\u001b[0m\u001b[0;34m]\u001b[0m\u001b[0;34m\u001b[0m\u001b[0;34m\u001b[0m\u001b[0m\n\u001b[1;32m     53\u001b[0m             \u001b[0mtarget_pattern\u001b[0m \u001b[0;34m=\u001b[0m \u001b[0;34m[\u001b[0m\u001b[0mimg_path\u001b[0m \u001b[0;32mfor\u001b[0m \u001b[0mimg_path\u001b[0m \u001b[0;32min\u001b[0m \u001b[0mseg_fill_image_point_path_list\u001b[0m \u001b[0;32mif\u001b[0m \u001b[0mp_img_name\u001b[0m\u001b[0;34m[\u001b[0m\u001b[0;34m:\u001b[0m\u001b[0;34m-\u001b[0m\u001b[0;36m4\u001b[0m\u001b[0;34m]\u001b[0m \u001b[0;32min\u001b[0m \u001b[0mimg_path\u001b[0m\u001b[0;34m]\u001b[0m\u001b[0;34m\u001b[0m\u001b[0;34m\u001b[0m\u001b[0m\n",
      "\u001b[0;31mNameError\u001b[0m: name 'o_img' is not defined"
     ]
    }
   ],
   "source": [
    "target_table_img_name = target_table['image_name']\n",
    "target_name_list = list(set(list(target_table_img_name)))\n",
    "target_name_list.sort()\n",
    "print(len(target_name_list))\n",
    "target_name_list = target_name_list[:]\n",
    "\n",
    "#assert target_case['PBL_stage'] != 'No_match','Cannot be No_match'\n",
    "count = 0\n",
    "\n",
    "if target_case['PBL_stage']!='No_match':\n",
    "    for index,image_name in tqdm(enumerate(target_name_list),total=len(target_name_list)):\n",
    "        print(index,\":\",image_name)\n",
    "        Match_tooth_json = [json_path for json_path in json_file_list if image_name in json_path]\n",
    "        target_o = [img_path for img_path in o_image_path_list if image_name in img_path]\n",
    "        target_s = [img_path for img_path in s_image_path_list if image_name in img_path]\n",
    "        target_info = [img_path for img_path in seg_image_info_path_list if image_name in img_path]\n",
    "        target_pattern = [img_path for img_path in seg_fill_image_point_path_list if image_name in img_path]\n",
    "        \n",
    "        target_csv = show_csv.loc[(show_csv['image_name'] == image_name)]\n",
    "        target_csv = target_csv.loc[(target_csv['stage'] == target_case['stage'])]\n",
    "        target_csv['PBL_value'] = pd.to_numeric(target_csv['PBL_value'], errors='coerce')\n",
    "        target_csv = target_csv.dropna()\n",
    "#         if target_case['stage']==2 and type_==1:\n",
    "#             target_csv = target_csv.loc[(target_csv['PBL_value'] > PBL_value_range[1][0]) & (target_csv['PBL_value'] < PBL_value_range[1][1])]\n",
    "#         else:\n",
    "#             target_csv = target_csv.loc[(target_csv['PBL_value'] > PBL_value_range[0][0]) & (target_csv['PBL_value'] < PBL_value_range[0][1])]\n",
    "# #         target_table = show_table\n",
    "        target_csv = target_csv[['tooth_side','stage','PBL_predict_tooth','PBL_value','PBL_stage','tooth_path']]\n",
    "        print(tabulate(target_csv, headers='keys', tablefmt='psql'))\n",
    "        count+=len(target_csv)\n",
    "        if Match_tooth_json != []:\n",
    "            tooth_in_json_list = []\n",
    "            with open(Match_tooth_json[0], 'r') as file:\n",
    "                json_file = json.load(file)\n",
    "                for tooth in json_file['shapes']:\n",
    "                    title = tooth['label']\n",
    "                    tooth_in_json_list.append(title)\n",
    "            print('Root in json:',tooth_in_json_list)\n",
    "        print(target_o)\n",
    "        if target_o != []:\n",
    "            o_img = cv2.imread(target_o[0],0)\n",
    "            s_img = cv2.imread(target_s[0])\n",
    "            plt.figure(figsize=(12,12))\n",
    "            plt.subplot(121)\n",
    "            plt.imshow(o_img,cmap='gray')\n",
    "            plt.subplot(122)\n",
    "            plt.imshow(cv2.cvtColor(s_img,cv2.COLOR_BGR2RGB))\n",
    "            plt.show()\n",
    "        show_img_list = list(target_csv['tooth_path'])\n",
    "        for p_img_name in show_img_list:\n",
    "            blank_image = np.zeros((o_img.shape[0], o_img.shape[1], 3), np.uint8)\n",
    "            target_info = [img_path for img_path in seg_image_info_path_list if p_img_name[:-4] in img_path]\n",
    "            target_pattern = [img_path for img_path in seg_fill_image_point_path_list if p_img_name[:-4] in img_path]\n",
    "            target_info_img = blank_image.copy()\n",
    "            target_pattern_img = blank_image.copy()\n",
    "            if target_info!=[]:\n",
    "                target_info_img = cv2.cvtColor(cv2.imread(target_info[0]),cv2.COLOR_BGR2RGB)\n",
    "            if target_pattern!=[]:\n",
    "                target_pattern_img = cv2.cvtColor(cv2.imread(target_pattern[0]),cv2.COLOR_BGR2RGB) \n",
    "            plt.figure(figsize=(12,21))\n",
    "            plt.subplot(121)\n",
    "            plt.imshow(target_info_img)\n",
    "            plt.subplot(122)\n",
    "            plt.imshow(target_pattern_img)\n",
    "            plt.show()\n",
    "            \n",
    "print(count)"
   ]
  },
  {
   "cell_type": "code",
   "execution_count": null,
   "metadata": {},
   "outputs": [],
   "source": []
  },
  {
   "cell_type": "code",
   "execution_count": null,
   "metadata": {},
   "outputs": [],
   "source": []
  },
  {
   "cell_type": "code",
   "execution_count": null,
   "metadata": {},
   "outputs": [],
   "source": [
    "img_path_list = glob.glob('/root/notebooks/tooth_thsis_experiment/PBL_detection/Data/atient_folder/*/*/*.PNG')\n",
    "print(len(img_path_list))"
   ]
  },
  {
   "cell_type": "code",
   "execution_count": null,
   "metadata": {},
   "outputs": [],
   "source": [
    "for path in tqdm(img_path_list, total=len(img_path_list)):\n",
    "    os.remove(path)"
   ]
  },
  {
   "cell_type": "code",
   "execution_count": null,
   "metadata": {},
   "outputs": [],
   "source": [
    "# json_list = glob.glob('/root/notebooks/tooth_thsis_experiment/PBL_detection/Data/atient_folder/*/*/*.json')\n",
    "# print(len(json_list))\n",
    "\n",
    "# # json_list = glob.glob('/root/notebooks/tooth_thsis_experiment/PBL_detection/Data/patient_folder/*/*/*.json')\n",
    "# # print(len(json_list))"
   ]
  },
  {
   "cell_type": "code",
   "execution_count": null,
   "metadata": {},
   "outputs": [],
   "source": [
    "# save_path = '/root/notebooks/tooth_thsis_experiment/PBL_detection/Data/json_file/'\n",
    "\n",
    "# for path in tqdm(json_list, total=len(json_list)):\n",
    "#     json_name = path.split('/')[-1]\n",
    "#     shutil.copyfile(path, os.path.join(save_path, json_name))"
   ]
  },
  {
   "cell_type": "code",
   "execution_count": null,
   "metadata": {},
   "outputs": [],
   "source": [
    "2977"
   ]
  },
  {
   "cell_type": "code",
   "execution_count": null,
   "metadata": {},
   "outputs": [],
   "source": [
    "# json_list = glob.glob('/root/notebooks/tooth_thsis_experiment/PBL_detection/Data/json_file/*.json')\n",
    "# print(len(json_list))"
   ]
  },
  {
   "cell_type": "code",
   "execution_count": null,
   "metadata": {},
   "outputs": [],
   "source": []
  }
 ],
 "metadata": {
  "kernelspec": {
   "display_name": "Python 3",
   "language": "python",
   "name": "python3"
  },
  "language_info": {
   "codemirror_mode": {
    "name": "ipython",
    "version": 3
   },
   "file_extension": ".py",
   "mimetype": "text/x-python",
   "name": "python",
   "nbconvert_exporter": "python",
   "pygments_lexer": "ipython3",
   "version": "3.6.7"
  }
 },
 "nbformat": 4,
 "nbformat_minor": 4
}
