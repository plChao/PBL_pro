{
 "cells": [
  {
   "cell_type": "markdown",
   "metadata": {},
   "source": [
    "## Import using package"
   ]
  },
  {
   "cell_type": "code",
   "execution_count": null,
   "metadata": {},
   "outputs": [],
   "source": [
    "import os\n",
    "import cv2\n",
    "import csv\n",
    "import time\n",
    "import json\n",
    "import glob\n",
    "import pandas as pd\n",
    "import numpy as np\n",
    "import matplotlib.pyplot as plt\n",
    "import glob\n",
    "\n",
    "from tqdm.notebook import tqdm as tqdm"
   ]
  },
  {
   "cell_type": "code",
   "execution_count": null,
   "metadata": {},
   "outputs": [],
   "source": [
    "train_img_path_lis = glob.glob(\"../../../0801_Unet_test/0801/train_0801/image/*.PNG\")\n",
    "train_img_name_lis = [os.path.basename(x) for x in train_img_path_lis ]"
   ]
  },
  {
   "cell_type": "code",
   "execution_count": null,
   "metadata": {},
   "outputs": [],
   "source": [
    "# path config \n",
    "result_file_path = '../csv_file/PBL_match_result_fold4.csv'\n",
    "\n",
    "# middle csv config\n",
    "Resave = True\n",
    "csv_file_path = '../csv_file/PBL_result_all_cej_bone_fold4.csv'\n",
    "Dentist_predict_result_csv_path = '../../data/2_ground_truth/HV_stage_GT.csv'\n",
    "# Dentist label excel"
   ]
  },
  {
   "cell_type": "code",
   "execution_count": null,
   "metadata": {},
   "outputs": [],
   "source": [
    "csv_path1 = '../PBL_result_1.csv'\n",
    "csv_file1 = pd.read_csv(csv_path1)\n",
    "csv_path2 = '../PBL_result_2.csv'\n",
    "csv_file2 = pd.read_csv(csv_path2)\n",
    "csv_path3 = '../PBL_result_3.csv'\n",
    "csv_file3 = pd.read_csv(csv_path3)\n",
    "csv_path4 = '../PBL_result_4.csv'\n",
    "csv_file4 = pd.read_csv(csv_path4)\n",
    "csv_path5 = '../PBL_result_5.csv'\n",
    "csv_file5 = pd.read_csv(csv_path5)"
   ]
  },
  {
   "cell_type": "code",
   "execution_count": null,
   "metadata": {},
   "outputs": [],
   "source": [
    "def append_list_as_row(file_name, list_of_elem):\n",
    "    # Open file in append mode\n",
    "    with open(file_name, 'a+', newline='') as write_obj:\n",
    "        # Create a writer object from csv module\n",
    "        csv_writer = csv.writer(write_obj)\n",
    "        # Add contents of list as last row in the csv file\n",
    "        csv_writer.writerow(list_of_elem)"
   ]
  },
  {
   "cell_type": "code",
   "execution_count": null,
   "metadata": {},
   "outputs": [],
   "source": [
    "#initial csv file\n",
    "if not Resave and os.path.exists(csv_file_path):\n",
    "    print('This csv file is exist,if want to resave please modify \"Resave\" parameter.')\n",
    "else:\n",
    "    print('Initial the csv.')\n",
    "    with open(csv_file_path, 'w', newline='\\n') as csvfile:\n",
    "        csv_writer = csv.writer(csvfile)\n",
    "        csv_writer.writerow(['Image_name', 'Tooth_num', 'LPBL(%)', 'L_Stage(int)', 'RPBL(%)', 'R_Stage(int)','Dis_L','Dis_R','Dis_root','points_info','tooth_pbl_line_path'])"
   ]
  },
  {
   "cell_type": "code",
   "execution_count": null,
   "metadata": {},
   "outputs": [],
   "source": [
    "csv_file_list = [csv_file1, csv_file2, csv_file3, csv_file4, csv_file5]\n",
    "\n",
    "\n",
    "for csv_file in tqdm(csv_file_list, total = len(csv_file_list)):\n",
    "    for index, row in csv_file.iterrows():\n",
    "        #排除 data pollution\n",
    "        if row['Image_name'] in train_img_name_lis:\n",
    "            print(\"train data skip\")\n",
    "            continue\n",
    "        img_name = row['Image_name']\n",
    "        fill_up_name = row['Tooth_num']\n",
    "        LPBL = row['LPBL(%)']\n",
    "        L_Stage = row['L_Stage(int)']\n",
    "        RPBL = row['RPBL(%)']\n",
    "        R_Stage = row['R_Stage(int)']\n",
    "        Dis_L = row['Dis_L']\n",
    "        Dis_R = row['Dis_R']\n",
    "        Dis_root = row['Dis_root']\n",
    "        points_info = row['points_info']\n",
    "        tooth_pbl_line_path = row['tooth_pbl_line_path']\n",
    "        row_contents = [img_name, fill_up_name, LPBL, L_Stage , RPBL, R_Stage,Dis_L,Dis_R,Dis_root,points_info,tooth_pbl_line_path]\n",
    "        append_list_as_row(csv_file_path, row_contents)"
   ]
  },
  {
   "cell_type": "code",
   "execution_count": null,
   "metadata": {},
   "outputs": [],
   "source": []
  },
  {
   "cell_type": "code",
   "execution_count": null,
   "metadata": {},
   "outputs": [],
   "source": [
    "def PolygonArea(corners):\n",
    "    n = len(corners) # of corners\n",
    "    area = 0.0\n",
    "    for i in range(n):\n",
    "        j = (i + 1) % n\n",
    "        area += corners[i][0] * corners[j][1]\n",
    "        area -= corners[j][0] * corners[i][1]\n",
    "    area = abs(area) / 2.0\n",
    "    return area\n",
    "\n",
    "def point_in_box(point_boxs_list,check_point):\n",
    "    point_pair_list = [[point_boxs_list[i-1],point_boxs_list[i]] for i in range(len(point_boxs_list))]\n",
    "    box_area = PolygonArea(point_boxs_list)\n",
    "    count_area = 0\n",
    "    for edge in point_pair_list:\n",
    "        edge.append(check_point)\n",
    "        count_area = PolygonArea(edge)+count_area\n",
    "    if count_area - box_area < 1:\n",
    "        return True\n",
    "    else:\n",
    "        return False\n",
    "    \n",
    "def show_pixel_set(img_nparray):\n",
    "    a = img_nparray\n",
    "    unique, counts = np.unique(a, return_counts=True)\n",
    "    return dict(zip(unique, counts))\n",
    "\n",
    "def get_check_point(img_path):\n",
    "    img = cv2.imread(img_path)\n",
    "    img = cv2.cvtColor(np.where(img == 255,255.,0.).astype('uint8'), cv2.COLOR_BGR2GRAY)\n",
    "    # plt.imshow(img)\n",
    "    # plt.show()\n",
    "    img = np.where(img == 76,255,0)\n",
    "    # plt.imshow(img)\n",
    "    # plt.show()\n",
    "    return (np.mean(np.nonzero(img)[1]),np.mean(np.nonzero(img)[0]))\n",
    "\n",
    "#print_ = False\n",
    "def get_DM(num,side):\n",
    "    '''\n",
    "    tooth_num:\n",
    "    if tooth_num <= 8 and tooth_num >= 25:\n",
    "        L = D  \n",
    "        R = M\n",
    "    else:\n",
    "        L = M\n",
    "        R = D        \n",
    "    '''\n",
    "    if ((int(num) <= 8 or int(num) >= 25) and side =='L') or (25 > int(num) > 8 and side =='R'):\n",
    "        return '{}D'.format(num)\n",
    "    else:\n",
    "        return '{}M'.format(num)\n",
    "    \n",
    "def replac_value(image_name,M_tooth_info_b,D_info):\n",
    "    D_info.loc[(D_info['image_name'] == '{}'.format(image_name)),'PBL_predict_tooth'] = '{}'.format('No_match')\n",
    "    D_info.loc[(D_info['image_name'] == '{}'.format(image_name)),'PBL_value'] = '{}'.format('No_match')\n",
    "    D_info.loc[(D_info['image_name'] == '{}'.format(image_name)),'PBL_stage'] = '{}'.format('No_match')\n",
    "    D_info.loc[(D_info['image_name'] == '{}'.format(image_name)),'tooth_path'] = '{}'.format('No_match')\n",
    "    D_info.loc[(D_info['image_name'] == '{}'.format(image_name)),'CEJ_points'] = '{}'.format('No_match')\n",
    "    D_info.loc[(D_info['image_name'] == '{}'.format(image_name)),'Bone_level_points'] = '{}'.format('No_match')\n",
    "    for tooth in M_tooth_info_b['match_tooth']:\n",
    "        if tooth != 'No_match':\n",
    "            tooth_num = tooth.split('_')[0]\n",
    "            tooth_side = tooth.split('_')[1]\n",
    "            tooth_left = get_DM(tooth_num,'L') if 'L' in tooth_side else None\n",
    "            tooth_right = get_DM(tooth_num,'R') if 'R' in tooth_side else None\n",
    "\n",
    "            LPBL = M_tooth_info_b.loc[M_tooth_info_b['match_tooth'] == '{}'.format(tooth)]['LPBL(%)'].values[0]\n",
    "            L_Stage = M_tooth_info_b.loc[M_tooth_info_b['match_tooth'] == '{}'.format(tooth)]['L_Stage(int)']\n",
    "            RPBL = M_tooth_info_b.loc[M_tooth_info_b['match_tooth'] == '{}'.format(tooth)]['RPBL(%)'].values[0]\n",
    "            R_Stage = M_tooth_info_b.loc[M_tooth_info_b['match_tooth'] == '{}'.format(tooth)]['R_Stage(int)']\n",
    "            tooth_path = M_tooth_info_b.loc[M_tooth_info_b['match_tooth'] == '{}'.format(tooth)]['Tooth_num'].values[0]\n",
    "            \n",
    "            tooth_info = M_tooth_info_b.loc[M_tooth_info_b['match_tooth'] == '{}'.format(tooth)]['points_info'].values[0][1:-1]\n",
    "            #print(tooth_info)\n",
    "            tooth_info_list = tooth_info.split(',')\n",
    "            L_points_info = tuple((tooth_info_list[0],tooth_info_list[1]))\n",
    "            R_points_info = tuple((tooth_info_list[2],tooth_info_list[3]))\n",
    "            D_info.loc[(D_info['image_name'] == '{}'.format(image_name)) & (D_info['tooth_side'] == '{}'.format(tooth_left)), 'PBL_predict_tooth'] = '{}'.format(tooth_num+'_L') \n",
    "            D_info.loc[(D_info['image_name'] == '{}'.format(image_name)) & (D_info['tooth_side'] == '{}'.format(tooth_right)), 'PBL_predict_tooth'] = '{}'.format(tooth_num+'_R')\n",
    "            D_info.loc[(D_info['image_name'] == '{}'.format(image_name)) & (D_info['tooth_side'] == '{}'.format(tooth_left)), 'PBL_value'] = '{}'.format(LPBL,'.3f') \n",
    "            D_info.loc[(D_info['image_name'] == '{}'.format(image_name)) & (D_info['tooth_side'] == '{}'.format(tooth_right)), 'PBL_value'] = '{}'.format(RPBL,'.3f')\n",
    "            D_info.loc[(D_info['image_name'] == '{}'.format(image_name)) & (D_info['tooth_side'] == '{}'.format(tooth_left)), 'PBL_stage'] = '{}'.format(L_Stage.values[0])\n",
    "            D_info.loc[(D_info['image_name'] == '{}'.format(image_name)) & (D_info['tooth_side'] == '{}'.format(tooth_right)), 'PBL_stage'] = '{}'.format(R_Stage.values[0])\n",
    "            D_info.loc[(D_info['image_name'] == '{}'.format(image_name)) & (D_info['tooth_side'] == '{}'.format(tooth_left)), 'tooth_path'] = '{}'.format(tooth_path) \n",
    "            D_info.loc[(D_info['image_name'] == '{}'.format(image_name)) & (D_info['tooth_side'] == '{}'.format(tooth_right)), 'tooth_path'] = '{}'.format(tooth_path) \n",
    "            \n",
    "            D_info.loc[(D_info['image_name'] == '{}'.format(image_name)) & (D_info['tooth_side'] == '{}'.format(tooth_left)), 'CEJ_points'] = '{}'.format(int(tooth_info_list[0])) \n",
    "            D_info.loc[(D_info['image_name'] == '{}'.format(image_name)) & (D_info['tooth_side'] == '{}'.format(tooth_right)), 'CEJ_points'] = '{}'.format(int(tooth_info_list[2]))  \n",
    "            D_info.loc[(D_info['image_name'] == '{}'.format(image_name)) & (D_info['tooth_side'] == '{}'.format(tooth_left)), 'Bone_level_points'] = '{}'.format(int(tooth_info_list[1])) \n",
    "            D_info.loc[(D_info['image_name'] == '{}'.format(image_name)) & (D_info['tooth_side'] == '{}'.format(tooth_right)), 'Bone_level_points'] = '{}'.format(int(tooth_info_list[3]))     \n",
    "    return D_info\n"
   ]
  },
  {
   "cell_type": "markdown",
   "metadata": {},
   "source": [
    "## Load model_detection csv & dentist_prediction "
   ]
  },
  {
   "cell_type": "code",
   "execution_count": null,
   "metadata": {},
   "outputs": [],
   "source": [
    "#Model_detection_result_csv_path = '/root/notebooks/tooth_project/tooth_xray_segmention/PBL_detection/csv_file/PBL_result_512.csv'\n",
    "Model_detection_result_csv_path = csv_file_path"
   ]
  },
  {
   "cell_type": "code",
   "execution_count": null,
   "metadata": {},
   "outputs": [],
   "source": [
    "Model_detection = pd.read_csv(Model_detection_result_csv_path)\n",
    "Dentist_predict = pd.read_csv(Dentist_predict_result_csv_path)"
   ]
  },
  {
   "cell_type": "markdown",
   "metadata": {},
   "source": [
    "## Show info check non_Null"
   ]
  },
  {
   "cell_type": "code",
   "execution_count": null,
   "metadata": {},
   "outputs": [],
   "source": [
    "# Model_detection.info()\n",
    "# print('------------------------------------------------')\n",
    "# Dentist_predict.info()"
   ]
  },
  {
   "cell_type": "markdown",
   "metadata": {},
   "source": [
    "## Show the first three data"
   ]
  },
  {
   "cell_type": "code",
   "execution_count": null,
   "metadata": {},
   "outputs": [],
   "source": [
    "Model_detection.head(3)"
   ]
  },
  {
   "cell_type": "code",
   "execution_count": null,
   "metadata": {},
   "outputs": [],
   "source": [
    "Dentist_predict.head(3)"
   ]
  },
  {
   "cell_type": "code",
   "execution_count": null,
   "metadata": {},
   "outputs": [],
   "source": [
    "D_tooth_info = Dentist_predict\n",
    "D_tooth_info[\"PBL_predict_tooth\"] = np.nan\n",
    "D_tooth_info[\"PBL_value\"] = np.nan\n",
    "D_tooth_info[\"PBL_stage\"] = np.nan\n",
    "D_tooth_info[\"tooth_path\"] = np.nan\n",
    "D_tooth_info[\"CEJ_points\"] = np.nan\n",
    "D_tooth_info[\"Bone_level_points\"] = np.nan\n",
    "D_tooth_info.head(3)"
   ]
  },
  {
   "cell_type": "code",
   "execution_count": null,
   "metadata": {},
   "outputs": [],
   "source": []
  },
  {
   "cell_type": "markdown",
   "metadata": {},
   "source": [
    "## Check comparsion image name"
   ]
  },
  {
   "cell_type": "code",
   "execution_count": null,
   "metadata": {},
   "outputs": [],
   "source": [
    "# json_save_path = '../json_file/*.json'\n",
    "# json_file_list = glob.glob(json_save_path)\n",
    "# assert len(json_file_list) > 0, 'wrong json path'\n",
    "# print(Model_detection.columns)\n",
    "# Model_detection['tooth_side'] = \"\"\n",
    "# for index, row in Model_detection[:5].iterrows():\n",
    "#     img_path = row['tooth_pbl_line_path']\n",
    "#     # check_path = ('.'+img_path).replace(\"3_keypoint_test/2_seg_img_with_cej\",\"2_seg_img_with_cej\")\n",
    "#     check_path = ('.'+img_path)\n",
    "#     check_point = get_check_point(check_path)\n",
    "#     json_file_path = [json_name for json_name in json_file_list if row['Image_name'] in json_name]\n",
    "#     if json_file_path != []:\n",
    "#         with open(json_file_path[0], 'r') as file:\n",
    "#             json_file = json.load(file)\n",
    "#         for tooth in json_file['shapes']:\n",
    "#             check_in_box = point_in_box(tooth['points'], check_point)\n",
    "#             if check_in_box:   \n",
    "#                 Model_detection.loc[index, 'tooth_side'] = tooth['label']\n",
    "#                 break\n",
    "#     else:\n",
    "#         print(row['Image_name'], 'have no json file')\n",
    "# print(Model_detection.head(5))"
   ]
  },
  {
   "cell_type": "code",
   "execution_count": null,
   "metadata": {},
   "outputs": [],
   "source": [
    "list_image_name = list(set(list(Model_detection['Image_name'])))\n",
    "list_image_name.sort()\n",
    "# list_image_name = list_image_name[:2]\n",
    "\n",
    "json_save_path = '../../data/json_file/*.json'\n",
    "json_file_list = glob.glob(json_save_path)\n",
    "assert len(json_file_list) > 0, 'wrong json path'\n",
    "\n",
    "\n",
    "show = True\n",
    "json_ = True\n",
    "\n",
    "count = 0\n",
    "\n",
    "for image_name in tqdm(list_image_name ,total=len(list_image_name)):\n",
    "    match_tooth = []\n",
    "    M_tooth_info = Model_detection.loc[(Model_detection['Image_name'] == image_name)]\n",
    "    if True:\n",
    "        for index, img_path in enumerate(M_tooth_info[['tooth_pbl_line_path'][0]]):\n",
    "            check_in_box = False\n",
    "            True_tooth_label = \"No_match\"\n",
    "            if json_:\n",
    "                #check_path = ('.'+img_path).replace(\"3_pattern_detection_result\",\"2_seg_img_with_cej\")\n",
    "                check_path = ('.'+img_path).replace(\"3_keypoint_test/2_seg_img_with_cej\",\"2_seg_img_with_cej\")\n",
    "                check_point = get_check_point(check_path)\n",
    "                json_file_path = [json_name for json_name in json_file_list if image_name in json_name]\n",
    "                if json_file_path != []:\n",
    "                    with open(json_file_path[0], 'r') as file:\n",
    "                        json_file = json.load(file)\n",
    "                    for tooth in json_file['shapes']:\n",
    "                        check_in_box = point_in_box(tooth['points'],check_point)\n",
    "                        if check_in_box:   \n",
    "                            True_tooth_label = tooth['label']\n",
    "                            break\n",
    "            count += 1\n",
    "            match_tooth.append(True_tooth_label)\n",
    "    tooth = match_tooth\n",
    "    M_tooth_info['match_tooth'] = tooth\n",
    "    D_tooth_info = replac_value(image_name, M_tooth_info, D_tooth_info)\n",
    "print(count)"
   ]
  },
  {
   "cell_type": "code",
   "execution_count": null,
   "metadata": {},
   "outputs": [],
   "source": [
    "print(len(json_file_list))"
   ]
  },
  {
   "cell_type": "code",
   "execution_count": null,
   "metadata": {},
   "outputs": [],
   "source": [
    "D_tooth_info_b = D_tooth_info[['image_name','tooth_side','stage','PBL_predict_tooth','PBL_value','PBL_stage','tooth_path','CEJ_points','Bone_level_points']]\n",
    "M_tooth_info_b = M_tooth_info[['Image_name','LPBL(%)','L_Stage(int)','RPBL(%)','R_Stage(int)']]"
   ]
  },
  {
   "cell_type": "code",
   "execution_count": null,
   "metadata": {},
   "outputs": [],
   "source": [
    "D_tooth_info_b = pd.DataFrame(D_tooth_info_b)\n",
    "D_tooth_info_b.to_csv(result_file_path)"
   ]
  },
  {
   "cell_type": "code",
   "execution_count": null,
   "metadata": {},
   "outputs": [],
   "source": [
    "Dentist_predict_image_name = Dentist_predict[\"image_name\"]"
   ]
  },
  {
   "cell_type": "code",
   "execution_count": null,
   "metadata": {},
   "outputs": [],
   "source": [
    "Dentist_predict_image_name.head()"
   ]
  },
  {
   "cell_type": "code",
   "execution_count": null,
   "metadata": {},
   "outputs": [],
   "source": [
    "# Test\n",
    "df = pd.read_csv('../csv_file/PBL_match_result_fold4.csv')\n",
    "print(df.columns)\n",
    "print(len(df))\n",
    "# Test A\n",
    "assert len(df) == len(df.drop_duplicates())\n",
    "# Test B\n",
    "new_df = df.drop(columns=['Unnamed: 0'])\n",
    "# new_df = df.drop(columns=['Unnamed: 0.1'])\n",
    "new_df = new_df.drop_duplicates()\n",
    "print(len(new_df))\n",
    "assert len(df) == len(new_df)"
   ]
  },
  {
   "cell_type": "code",
   "execution_count": null,
   "metadata": {},
   "outputs": [],
   "source": []
  }
 ],
 "metadata": {
  "kernelspec": {
   "display_name": "Python 3",
   "language": "python",
   "name": "python3"
  },
  "language_info": {
   "codemirror_mode": {
    "name": "ipython",
    "version": 3
   },
   "file_extension": ".py",
   "mimetype": "text/x-python",
   "name": "python",
   "nbconvert_exporter": "python",
   "pygments_lexer": "ipython3",
   "version": "3.6.7"
  }
 },
 "nbformat": 4,
 "nbformat_minor": 4
}
