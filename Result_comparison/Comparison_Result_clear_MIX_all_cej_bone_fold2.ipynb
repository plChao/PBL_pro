{
 "cells": [
  {
   "cell_type": "code",
   "execution_count": 1,
   "metadata": {},
   "outputs": [],
   "source": [
    "import cv2\n",
    "import math\n",
    "import time\n",
    "import json\n",
    "import glob\n",
    "import seaborn as sn\n",
    "import seaborn as sns\n",
    "import pandas as pd\n",
    "import numpy as np\n",
    "import matplotlib.pyplot as plt\n",
    "\n",
    "from tqdm import tqdm"
   ]
  },
  {
   "cell_type": "code",
   "execution_count": 2,
   "metadata": {},
   "outputs": [],
   "source": [
    "def plot_confusion_matrix(confusion_matrix,index,columns,x_label,y_label):\n",
    "    df_cm = pd.DataFrame(confusion_matrix, index, columns)\n",
    "    sn.heatmap(df_cm, annot=True, annot_kws={\"size\": 16}, fmt='g')\n",
    "    #sns.set(font_scale=1.4)\n",
    "    #sns.heatmap(df_cm, annot=True, annot_kws={\"size\": 16}, cmap='YlGnBu', fmt='g') # font size\n",
    "    accuracy = sum(sum(np.eye(confusion_matrix.shape[0], dtype=int)*confusion_matrix))/sum(sum(confusion_matrix))\n",
    "    plt.title(\"Accuracy:{}% ,Total:{}\\nComparison Matrix\".format(round(accuracy*100,1),sum(sum(confusion_matrix))))\n",
    "    plt.xlabel('{}'.format(x_label) , fontsize=18)\n",
    "    plt.ylabel('{}'.format(y_label), fontsize=18)\n",
    "    plt.show()\n",
    "        \n",
    "def get_precision_recallrate(array,raw):\n",
    "    for index,class_ in enumerate(raw):\n",
    "        class_predict_num = sum(array[:,index])\n",
    "        class_true_num = sum(array[index])\n",
    "        precision = array[index,index]/class_predict_num\n",
    "        recall = array[index][index]/class_true_num\n",
    "        print('Class {} Precision:{}% Recall_rate:{}%'.format(class_,round(precision*100,1),round(recall*100,1)))\n",
    "\n",
    "def confusion_matrix_balance(confusion_matrix):\n",
    "    max_sum = max([sum(row) for row in confusion_matrix])\n",
    "    balance = confusion_matrix.copy()\n",
    "    for index,row in enumerate(confusion_matrix):\n",
    "        row = (row*max_sum/sum(row)).astype('int64')\n",
    "        balance[index] = row\n",
    "    return balance\n",
    "\n",
    "def combine_class_in_matrix(confusion_matrix,index_list,max_column):\n",
    "    combine_matrix = confusion_matrix.copy()\n",
    "    for column in index_list:\n",
    "        for ele in column[:-1]:\n",
    "            combine_matrix[column[-1]] = confusion_matrix[column[-1]]+confusion_matrix[ele]\n",
    "    for index,row in enumerate(combine_matrix):\n",
    "        for column in index_list:\n",
    "            for ele in column[:-1]:\n",
    "                row[column[-1]] = row[column[-1]]+row[ele]\n",
    "                combine_matrix[index] = row\n",
    "    remain_list = [i for i in range(max_column+1)]\n",
    "    for column in index_list:\n",
    "        remain_list.remove(column[-1])\n",
    "    for i in remain_list:\n",
    "        for index in range(max_column+1):\n",
    "            combine_matrix[i][index]=0\n",
    "            combine_matrix[index][i]=0\n",
    "    index = 0\n",
    "    for column in combine_matrix:\n",
    "        if(column.any()==0):\n",
    "            combine_matrix = np.delete(combine_matrix, index, axis=0)\n",
    "            combine_matrix = np.delete(combine_matrix, index, axis=1)\n",
    "        else:\n",
    "            index+=1\n",
    "    return combine_matrix\n",
    "\n"
   ]
  },
  {
   "cell_type": "code",
   "execution_count": 3,
   "metadata": {},
   "outputs": [
    {
     "name": "stdout",
     "output_type": "stream",
     "text": [
      "9335\n",
      "592\n",
      "590\n"
     ]
    }
   ],
   "source": [
    "# if specify path, exclud the img in the path\n",
    "Exclude_Train_data_path = ''\n",
    "\n",
    "Match_result_csv_path = '../csv_file/PBL_match_result_fold4.csv'\n",
    "Match_result_csv = pd.read_csv(Match_result_csv_path)\n",
    "# print(Match_result_csv.columns)\n",
    "print(len(Match_result_csv))\n",
    "\n",
    "Match_result_dropna = Match_result_csv.dropna()\n",
    "print(len(Match_result_dropna))\n",
    "Match_result_dropna = Match_result_dropna.drop(columns=['Unnamed: 0'])\n",
    "Match_result_dropna = Match_result_dropna.drop_duplicates()\n",
    "Match_result_dropna.to_csv('../csv_file/PBL_match_result_fold4_dropna.csv')\n",
    "\n",
    "print(len(Match_result_dropna))"
   ]
  },
  {
   "cell_type": "code",
   "execution_count": null,
   "metadata": {},
   "outputs": [],
   "source": []
  },
  {
   "cell_type": "code",
   "execution_count": 4,
   "metadata": {},
   "outputs": [
    {
     "data": {
      "text/html": [
       "<div>\n",
       "<style scoped>\n",
       "    .dataframe tbody tr th:only-of-type {\n",
       "        vertical-align: middle;\n",
       "    }\n",
       "\n",
       "    .dataframe tbody tr th {\n",
       "        vertical-align: top;\n",
       "    }\n",
       "\n",
       "    .dataframe thead th {\n",
       "        text-align: right;\n",
       "    }\n",
       "</style>\n",
       "<table border=\"1\" class=\"dataframe\">\n",
       "  <thead>\n",
       "    <tr style=\"text-align: right;\">\n",
       "      <th></th>\n",
       "      <th>Unnamed: 0</th>\n",
       "      <th>image_name</th>\n",
       "      <th>tooth_side</th>\n",
       "      <th>stage</th>\n",
       "      <th>PBL_predict_tooth</th>\n",
       "      <th>PBL_value</th>\n",
       "      <th>PBL_stage</th>\n",
       "      <th>tooth_path</th>\n",
       "      <th>CEJ_points</th>\n",
       "      <th>Bone_level_points</th>\n",
       "    </tr>\n",
       "  </thead>\n",
       "  <tbody>\n",
       "    <tr>\n",
       "      <th>0</th>\n",
       "      <td>0</td>\n",
       "      <td>NN_190619_104716_EA3E9</td>\n",
       "      <td>9M</td>\n",
       "      <td>1.0</td>\n",
       "      <td>9_L</td>\n",
       "      <td>1.6780000000000002</td>\n",
       "      <td>1</td>\n",
       "      <td>NN_190619_104716_EA3E9_0.PNG</td>\n",
       "      <td>1</td>\n",
       "      <td>1</td>\n",
       "    </tr>\n",
       "    <tr>\n",
       "      <th>1</th>\n",
       "      <td>1</td>\n",
       "      <td>NN_190619_104716_EA3E9</td>\n",
       "      <td>9D</td>\n",
       "      <td>1.0</td>\n",
       "      <td>9_R</td>\n",
       "      <td>9.963</td>\n",
       "      <td>1</td>\n",
       "      <td>NN_190619_104716_EA3E9_0.PNG</td>\n",
       "      <td>1</td>\n",
       "      <td>1</td>\n",
       "    </tr>\n",
       "    <tr>\n",
       "      <th>2</th>\n",
       "      <td>2</td>\n",
       "      <td>NN_190619_104716_EA3E9</td>\n",
       "      <td>10M</td>\n",
       "      <td>3.0</td>\n",
       "      <td>10_L</td>\n",
       "      <td>46.874</td>\n",
       "      <td>3</td>\n",
       "      <td>NN_190619_104716_EA3E9_1.PNG</td>\n",
       "      <td>1</td>\n",
       "      <td>1</td>\n",
       "    </tr>\n",
       "    <tr>\n",
       "      <th>3</th>\n",
       "      <td>3</td>\n",
       "      <td>NN_190619_104716_EA3E9</td>\n",
       "      <td>10D</td>\n",
       "      <td>3.0</td>\n",
       "      <td>10_R</td>\n",
       "      <td>70.362</td>\n",
       "      <td>3</td>\n",
       "      <td>NN_190619_104716_EA3E9_1.PNG</td>\n",
       "      <td>1</td>\n",
       "      <td>1</td>\n",
       "    </tr>\n",
       "    <tr>\n",
       "      <th>4</th>\n",
       "      <td>4</td>\n",
       "      <td>NN_190619_104720_EA3E7</td>\n",
       "      <td>7D</td>\n",
       "      <td>1.0</td>\n",
       "      <td>7_L</td>\n",
       "      <td>29.976</td>\n",
       "      <td>2</td>\n",
       "      <td>NN_190619_104720_EA3E7_1.PNG</td>\n",
       "      <td>1</td>\n",
       "      <td>1</td>\n",
       "    </tr>\n",
       "  </tbody>\n",
       "</table>\n",
       "</div>"
      ],
      "text/plain": [
       "   Unnamed: 0              image_name tooth_side  stage PBL_predict_tooth  \\\n",
       "0           0  NN_190619_104716_EA3E9         9M    1.0               9_L   \n",
       "1           1  NN_190619_104716_EA3E9         9D    1.0               9_R   \n",
       "2           2  NN_190619_104716_EA3E9        10M    3.0              10_L   \n",
       "3           3  NN_190619_104716_EA3E9        10D    3.0              10_R   \n",
       "4           4  NN_190619_104720_EA3E7         7D    1.0               7_L   \n",
       "\n",
       "            PBL_value PBL_stage                    tooth_path CEJ_points  \\\n",
       "0  1.6780000000000002         1  NN_190619_104716_EA3E9_0.PNG          1   \n",
       "1               9.963         1  NN_190619_104716_EA3E9_0.PNG          1   \n",
       "2              46.874         3  NN_190619_104716_EA3E9_1.PNG          1   \n",
       "3              70.362         3  NN_190619_104716_EA3E9_1.PNG          1   \n",
       "4              29.976         2  NN_190619_104720_EA3E7_1.PNG          1   \n",
       "\n",
       "  Bone_level_points  \n",
       "0                 1  \n",
       "1                 1  \n",
       "2                 1  \n",
       "3                 1  \n",
       "4                 1  "
      ]
     },
     "execution_count": 4,
     "metadata": {},
     "output_type": "execute_result"
    }
   ],
   "source": [
    "Match_result_csv.head()"
   ]
  },
  {
   "cell_type": "code",
   "execution_count": 5,
   "metadata": {},
   "outputs": [
    {
     "name": "stdout",
     "output_type": "stream",
     "text": [
      "9335\n",
      "2523\n"
     ]
    }
   ],
   "source": [
    "Match_result_dropna_tabel = Match_result_csv[\"image_name\"]\n",
    "print(len(Match_result_dropna_tabel))\n",
    "Match_result_dropna_list  = list(set(Match_result_dropna_tabel))\n",
    "print(len(Match_result_dropna_list))"
   ]
  },
  {
   "cell_type": "code",
   "execution_count": 6,
   "metadata": {},
   "outputs": [],
   "source": [
    "# Ground_truth_stage = Match_result_dropna['stage']\n",
    "# PBL_predict_stage = Match_result_dropna['PBL_stage']"
   ]
  },
  {
   "cell_type": "code",
   "execution_count": 7,
   "metadata": {},
   "outputs": [
    {
     "name": "stdout",
     "output_type": "stream",
     "text": [
      "True\n",
      "590\n"
     ]
    }
   ],
   "source": [
    "#get training data name list \n",
    "Ground_truth_stage = []\n",
    "PBL_predict_stage = []\n",
    "\n",
    "if Exclude_Train_data_path == \"\":\n",
    "    for index, row in Match_result_dropna.iterrows():\n",
    "        Ground_truth_stage.append(row['stage'])\n",
    "        PBL_predict_stage.append(row['PBL_stage'])\n",
    "else:\n",
    "    img_path_list = glob.glob(Exclude_Train_data_path+'/*.PNG')\n",
    "    assert len(img_path_list) > 0, 'there is no exclude train data'\n",
    "    img_name_list = [img_path.split('/')[-1][:-4] for img_path in img_path_list]\n",
    "    print(img_name_list[0])\n",
    "    print(len(img_name_list))\n",
    "\n",
    "    for index, row in Match_result_dropna.iterrows():\n",
    "        if row['image_name'] not in img_name_list:\n",
    "            Ground_truth_stage.append(row['stage'])\n",
    "            PBL_predict_stage.append(row['PBL_stage'])\n",
    "print(len(Ground_truth_stage)==len(PBL_predict_stage))\n",
    "print(len(Ground_truth_stage))"
   ]
  },
  {
   "cell_type": "code",
   "execution_count": 8,
   "metadata": {},
   "outputs": [],
   "source": [
    "Ground_truth_stage_list = list(Ground_truth_stage) \n",
    "PBL_predict_stage_list = list(PBL_predict_stage) "
   ]
  },
  {
   "cell_type": "code",
   "execution_count": 9,
   "metadata": {},
   "outputs": [
    {
     "name": "stdout",
     "output_type": "stream",
     "text": [
      "{0.0, 1.0, 2.0, 3.0}\n",
      "{'2', '0', '1', '-999', 'No_match', '3'}\n"
     ]
    }
   ],
   "source": [
    "print(set(Ground_truth_stage_list))\n",
    "print(set(PBL_predict_stage_list))"
   ]
  },
  {
   "cell_type": "code",
   "execution_count": 10,
   "metadata": {},
   "outputs": [
    {
     "name": "stdout",
     "output_type": "stream",
     "text": [
      "13\n",
      "69\n",
      "141\n",
      "100\n"
     ]
    }
   ],
   "source": [
    "Ground_truth_stage_list_clean = []\n",
    "PBL_predict_stage_list_clean = []\n",
    "\n",
    "count0 = 0\n",
    "count1 = 0\n",
    "count2 = 0\n",
    "count3 = 0\n",
    "count999 = 0\n",
    "\n",
    "for G,P in zip(Ground_truth_stage_list,PBL_predict_stage_list):\n",
    "    if G == -99:\n",
    "        Ground_truth_stage_list_clean.append(-999)\n",
    "    else:\n",
    "        Ground_truth_stage_list_clean.append(G)\n",
    "        \n",
    "    if P == -999:\n",
    "        PBL_predict_stage_list_clean.append(-999)\n",
    "    elif P == 'No_match':\n",
    "        PBL_predict_stage_list_clean.append(-888)\n",
    "    else:\n",
    "        PBL_predict_stage_list_clean.append(int(P))\n",
    "    \n",
    "    if P!=-999 and P!='No_match':\n",
    "        if G==0 and int(P)==0:\n",
    "            count0+=1\n",
    "        elif G==1 and int(P)==1:\n",
    "            count1+=1\n",
    "        elif G==2 and int(P)==2:\n",
    "            count2+=1\n",
    "        elif G==3 and int(P)==3:\n",
    "            count3+=1     \n",
    "print(count0)\n",
    "print(count1)\n",
    "print(count2)\n",
    "print(count3)"
   ]
  },
  {
   "cell_type": "markdown",
   "metadata": {},
   "source": [
    "# Show all the set"
   ]
  },
  {
   "cell_type": "code",
   "execution_count": 11,
   "metadata": {},
   "outputs": [
    {
     "name": "stdout",
     "output_type": "stream",
     "text": [
      "{0.0, 1.0, 2.0, 3.0}\n",
      "{0, 1, 2, 3, -888, -999}\n"
     ]
    }
   ],
   "source": [
    "print(set(Ground_truth_stage_list_clean))\n",
    "print(set(PBL_predict_stage_list_clean))"
   ]
  },
  {
   "cell_type": "code",
   "execution_count": 12,
   "metadata": {},
   "outputs": [],
   "source": [
    "Ground_truth_stage_list_clean.append(-999)\n",
    "PBL_predict_stage_list_clean.append(-999)"
   ]
  },
  {
   "cell_type": "markdown",
   "metadata": {},
   "source": [
    "# Using the All classes(5 classes) to confusin matrix"
   ]
  },
  {
   "cell_type": "code",
   "execution_count": 13,
   "metadata": {},
   "outputs": [],
   "source": [
    "from sklearn.metrics import confusion_matrix\n",
    "array_5_classes  = confusion_matrix(Ground_truth_stage_list_clean, PBL_predict_stage_list_clean)"
   ]
  },
  {
   "cell_type": "code",
   "execution_count": 14,
   "metadata": {},
   "outputs": [
    {
     "data": {
      "image/png": "[encoded data removed]",
      "text/plain": [
       "<Figure size 432x288 with 2 Axes>"
      ]
     },
     "metadata": {
      "needs_background": "light"
     },
     "output_type": "display_data"
    },
    {
     "name": "stdout",
     "output_type": "stream",
     "text": [
      "Class -999 Precision:0.0% Recall_rate:nan%\n",
      "Class -888 Precision:0.0% Recall_rate:nan%\n",
      "Class 0 Precision:46.4% Recall_rate:52.0%\n",
      "Class 1 Precision:73.4% Recall_rate:41.3%\n",
      "Class 2 Precision:73.8% Recall_rate:59.5%\n",
      "Class 3 Precision:76.3% Recall_rate:62.1%\n"
     ]
    },
    {
     "name": "stderr",
     "output_type": "stream",
     "text": [
      "/opt/conda/lib/python3.6/site-packages/ipykernel_launcher.py:17: RuntimeWarning: invalid value encountered in long_scalars\n"
     ]
    }
   ],
   "source": [
    "raw_5 = ['-999','-888','0','1','2','3']\n",
    "columns_5 = ['-999','-888','0','1','2','3']\n",
    "array_5_classes_0 = array_5_classes.copy()\n",
    "array_5_classes_0[0][0] = 0\n",
    "plot_confusion_matrix(array_5_classes_0,raw_5,columns_5,'prediction','ground_truth')\n",
    "get_precision_recallrate(array_5_classes_0,raw_5)"
   ]
  },
  {
   "cell_type": "code",
   "execution_count": 15,
   "metadata": {},
   "outputs": [
    {
     "data": {
      "image/png": "[encoded data removed]",
      "text/plain": [
       "<Figure size 432x288 with 2 Axes>"
      ]
     },
     "metadata": {
      "needs_background": "light"
     },
     "output_type": "display_data"
    },
    {
     "name": "stdout",
     "output_type": "stream",
     "text": [
      "Class -999 Precision:0.0% Recall_rate:nan%\n",
      "Class 0 Precision:46.4% Recall_rate:72.2%\n",
      "Class 1 Precision:73.4% Recall_rate:60.5%\n",
      "Class 2 Precision:73.8% Recall_rate:73.4%\n",
      "Class 3 Precision:76.3% Recall_rate:82.0%\n"
     ]
    },
    {
     "name": "stderr",
     "output_type": "stream",
     "text": [
      "/opt/conda/lib/python3.6/site-packages/ipykernel_launcher.py:17: RuntimeWarning: invalid value encountered in long_scalars\n"
     ]
    }
   ],
   "source": [
    "index_list  = [[0],[2],[3],[4],[5]]\n",
    "max_column = 5\n",
    "combine_matrix = combine_class_in_matrix(array_5_classes,index_list,max_column)\n",
    "# print(array_5_classes.shape)\n",
    "# print(combine_matrix.shape)\n",
    "\n",
    "\n",
    "combine_matrix_0 = combine_matrix.copy()\n",
    "combine_matrix_0[0][0]=0\n",
    "raw_5 = ['-999','0','1','2','3']\n",
    "columns_5 = ['-999','0','1','2','3']\n",
    "plot_confusion_matrix(combine_matrix_0,raw_5,columns_5,'prediction','ground_truth')\n",
    "get_precision_recallrate(combine_matrix_0,raw_5)"
   ]
  },
  {
   "cell_type": "code",
   "execution_count": 16,
   "metadata": {},
   "outputs": [],
   "source": [
    "combine_matrix_for_3_class = combine_matrix.copy()"
   ]
  },
  {
   "cell_type": "code",
   "execution_count": 17,
   "metadata": {},
   "outputs": [
    {
     "data": {
      "image/png": "[encoded data removed]",
      "text/plain": [
       "<Figure size 432x288 with 2 Axes>"
      ]
     },
     "metadata": {
      "needs_background": "light"
     },
     "output_type": "display_data"
    },
    {
     "name": "stdout",
     "output_type": "stream",
     "text": [
      "Class -999 Precision:0.0% Recall_rate:nan%\n",
      "Class 0 Precision:84.7% Recall_rate:72.3%\n",
      "Class 1 Precision:67.8% Recall_rate:61.1%\n",
      "Class 2 Precision:59.0% Recall_rate:73.4%\n",
      "Class 3 Precision:83.5% Recall_rate:82.6%\n"
     ]
    },
    {
     "name": "stderr",
     "output_type": "stream",
     "text": [
      "/opt/conda/lib/python3.6/site-packages/ipykernel_launcher.py:17: RuntimeWarning: invalid value encountered in long_scalars\n"
     ]
    }
   ],
   "source": [
    "raw_only_stage = ['-999','0','1','2','3']\n",
    "columns_only_stage = ['-999','0','1','2','3']\n",
    "\n",
    "balance = confusion_matrix_balance(combine_matrix)\n",
    "balance[0][0]=0\n",
    "plot_confusion_matrix(balance,raw_only_stage,columns_only_stage,'prediction','ground_truth')\n",
    "get_precision_recallrate(balance,raw_only_stage)"
   ]
  },
  {
   "cell_type": "code",
   "execution_count": null,
   "metadata": {},
   "outputs": [],
   "source": []
  },
  {
   "cell_type": "code",
   "execution_count": 18,
   "metadata": {},
   "outputs": [
    {
     "data": {
      "image/png": "[encoded data removed]",
      "text/plain": [
       "<Figure size 432x288 with 2 Axes>"
      ]
     },
     "metadata": {
      "needs_background": "light"
     },
     "output_type": "display_data"
    },
    {
     "name": "stdout",
     "output_type": "stream",
     "text": [
      "Class 0 Precision:46.4% Recall_rate:72.2%\n",
      "Class 1 Precision:73.4% Recall_rate:60.5%\n",
      "Class 2 Precision:73.8% Recall_rate:73.8%\n",
      "Class 3 Precision:76.3% Recall_rate:82.6%\n"
     ]
    }
   ],
   "source": [
    "index_list  = [[2],[3],[4],[5]]\n",
    "max_column = 5\n",
    "combine_matrix = combine_class_in_matrix(array_5_classes,index_list,max_column)\n",
    "#print(combine_matrix)\n",
    "\n",
    "raw_only_stage = ['0','1','2','3']\n",
    "columns_only_stage = ['0','1','2','3']\n",
    "plot_confusion_matrix(combine_matrix,raw_only_stage,columns_only_stage,'prediction','ground_truth')\n",
    "get_precision_recallrate(combine_matrix,raw_only_stage)"
   ]
  },
  {
   "cell_type": "code",
   "execution_count": 19,
   "metadata": {},
   "outputs": [
    {
     "data": {
      "image/png": "[encoded data removed]",
      "text/plain": [
       "<Figure size 432x288 with 2 Axes>"
      ]
     },
     "metadata": {
      "needs_background": "light"
     },
     "output_type": "display_data"
    },
    {
     "name": "stdout",
     "output_type": "stream",
     "text": [
      "Class 0 Precision:84.6% Recall_rate:72.5%\n",
      "Class 1 Precision:68.0% Recall_rate:60.8%\n",
      "Class 2 Precision:59.0% Recall_rate:73.8%\n",
      "Class 3 Precision:83.5% Recall_rate:83.1%\n"
     ]
    }
   ],
   "source": [
    "index_list  = [[2],[3],[4],[5]]\n",
    "max_column = 5\n",
    "combine_matrix = combine_class_in_matrix(array_5_classes,index_list,max_column)\n",
    "#print(combine_matrix)\n",
    "\n",
    "raw_only_stage = ['0','1','2','3']\n",
    "columns_only_stage = ['0','1','2','3']\n",
    "\n",
    "balance = confusion_matrix_balance(combine_matrix)\n",
    "plot_confusion_matrix(balance,raw_only_stage,columns_only_stage,'prediction','ground_truth')\n",
    "get_precision_recallrate(balance,raw_only_stage)"
   ]
  },
  {
   "cell_type": "code",
   "execution_count": null,
   "metadata": {},
   "outputs": [],
   "source": []
  },
  {
   "cell_type": "code",
   "execution_count": null,
   "metadata": {},
   "outputs": [],
   "source": []
  },
  {
   "cell_type": "code",
   "execution_count": 20,
   "metadata": {},
   "outputs": [
    {
     "data": {
      "image/png": "[encoded data removed]",
      "text/plain": [
       "<Figure size 432x288 with 2 Axes>"
      ]
     },
     "metadata": {
      "needs_background": "light"
     },
     "output_type": "display_data"
    },
    {
     "name": "stdout",
     "output_type": "stream",
     "text": [
      "Class -999 Precision:0.0% Recall_rate:nan%\n",
      "Class 0 Precision:82.0% Recall_rate:75.8%\n",
      "Class 2 Precision:73.8% Recall_rate:73.4%\n",
      "Class 3 Precision:76.3% Recall_rate:82.0%\n"
     ]
    },
    {
     "name": "stderr",
     "output_type": "stream",
     "text": [
      "/opt/conda/lib/python3.6/site-packages/ipykernel_launcher.py:17: RuntimeWarning: invalid value encountered in long_scalars\n"
     ]
    }
   ],
   "source": [
    "index_list  = [[0],[1,2],[3],[4]]\n",
    "max_column = 4\n",
    "combine_matrix_3_class = combine_class_in_matrix(combine_matrix_for_3_class.copy(),index_list,max_column)\n",
    "#print(combine_matrix)\n",
    "combine_matrix_3_class_0 = combine_matrix_3_class.copy()\n",
    "binary = combine_matrix_3_class_0.copy()\n",
    "combine_matrix_3_class_0[0,0]=0\n",
    "raw_only_stage = ['-999','0','2','3']\n",
    "columns_only_stage = ['-999','0','2','3']\n",
    "plot_confusion_matrix(combine_matrix_3_class_0,raw_only_stage,columns_only_stage,'prediction','ground_truth')\n",
    "get_precision_recallrate(combine_matrix_3_class_0,raw_only_stage)"
   ]
  },
  {
   "cell_type": "code",
   "execution_count": 21,
   "metadata": {},
   "outputs": [
    {
     "data": {
      "image/png": "[encoded data removed]",
      "text/plain": [
       "<Figure size 432x288 with 2 Axes>"
      ]
     },
     "metadata": {
      "needs_background": "light"
     },
     "output_type": "display_data"
    },
    {
     "name": "stdout",
     "output_type": "stream",
     "text": [
      "Class -999 Precision:0.0% Recall_rate:nan%\n",
      "Class 0 Precision:86.3% Recall_rate:75.9%\n",
      "Class 2 Precision:65.6% Recall_rate:73.4%\n",
      "Class 3 Precision:83.5% Recall_rate:82.6%\n"
     ]
    },
    {
     "name": "stderr",
     "output_type": "stream",
     "text": [
      "/opt/conda/lib/python3.6/site-packages/ipykernel_launcher.py:17: RuntimeWarning: invalid value encountered in long_scalars\n"
     ]
    }
   ],
   "source": [
    "balance = confusion_matrix_balance(combine_matrix_3_class.copy())\n",
    "balance_0 = balance.copy()\n",
    "balance_0[0,0]=0\n",
    "plot_confusion_matrix(balance_0,raw_only_stage,columns_only_stage,'prediction','ground_truth')\n",
    "get_precision_recallrate(balance_0,raw_only_stage)"
   ]
  },
  {
   "cell_type": "code",
   "execution_count": 22,
   "metadata": {},
   "outputs": [
    {
     "data": {
      "image/png": "[encoded data removed]",
      "text/plain": [
       "<Figure size 432x288 with 2 Axes>"
      ]
     },
     "metadata": {
      "needs_background": "light"
     },
     "output_type": "display_data"
    },
    {
     "name": "stdout",
     "output_type": "stream",
     "text": [
      "Class -999 Precision:0.0% Recall_rate:nan%\n",
      "Class 0 Precision:91.5% Recall_rate:75.7%\n",
      "Class 1 Precision:79.2% Recall_rate:92.4%\n"
     ]
    },
    {
     "name": "stderr",
     "output_type": "stream",
     "text": [
      "/opt/conda/lib/python3.6/site-packages/ipykernel_launcher.py:17: RuntimeWarning: invalid value encountered in long_scalars\n"
     ]
    }
   ],
   "source": [
    "index_list  = [[0],[1],[2,3]]\n",
    "max_column = 3\n",
    "binary_combine_class = combine_class_in_matrix(binary.copy(),index_list,max_column)\n",
    "#print(combine_matrix)\n",
    "binary_balance_0 = confusion_matrix_balance(binary_combine_class.copy())\n",
    "binary_balance_0[0,0]=0\n",
    "raw_only_stage = ['-999','0','1']\n",
    "columns_only_stage = ['-999','0','1']\n",
    "plot_confusion_matrix(binary_balance_0,raw_only_stage,columns_only_stage,'prediction','ground_truth')\n",
    "get_precision_recallrate(binary_balance_0,raw_only_stage)"
   ]
  },
  {
   "cell_type": "code",
   "execution_count": 23,
   "metadata": {},
   "outputs": [
    {
     "data": {
      "image/png": "[encoded data removed]",
      "text/plain": [
       "<Figure size 432x288 with 2 Axes>"
      ]
     },
     "metadata": {
      "needs_background": "light"
     },
     "output_type": "display_data"
    },
    {
     "name": "stdout",
     "output_type": "stream",
     "text": [
      "Class 0 Precision:93.1% Recall_rate:88.0%\n",
      "Class 1 Precision:88.6% Recall_rate:93.5%\n"
     ]
    }
   ],
   "source": [
    "index_list  = [[0,1],[2,3]]\n",
    "max_column = 3\n",
    "combine_matrix = combine_class_in_matrix(balance,index_list,max_column)\n",
    "#print(combine_matrix)\n",
    "\n",
    "raw_only_stage = ['0','1']\n",
    "columns_only_stage = ['0','1']\n",
    "\n",
    "balance = confusion_matrix_balance(combine_matrix)\n",
    "plot_confusion_matrix(balance,raw_only_stage,columns_only_stage,'prediction','ground_truth')\n",
    "get_precision_recallrate(balance,raw_only_stage)"
   ]
  },
  {
   "cell_type": "code",
   "execution_count": 24,
   "metadata": {},
   "outputs": [
    {
     "data": {
      "image/png": "[encoded data removed]",
      "text/plain": [
       "<Figure size 432x288 with 2 Axes>"
      ]
     },
     "metadata": {
      "needs_background": "light"
     },
     "output_type": "display_data"
    },
    {
     "name": "stdout",
     "output_type": "stream",
     "text": [
      "Class 0 Precision:82.0% Recall_rate:75.8%\n",
      "Class 2 Precision:73.8% Recall_rate:73.8%\n",
      "Class 3 Precision:76.3% Recall_rate:82.6%\n"
     ]
    }
   ],
   "source": [
    "index_list  = [[2,3],[4],[5]]\n",
    "max_column = 5\n",
    "combine_matrix = combine_class_in_matrix(array_5_classes,index_list,max_column)\n",
    "#print(combine_matrix)\n",
    "\n",
    "raw_only_stage = ['0','2','3']\n",
    "columns_only_stage = ['0','2','3']\n",
    "plot_confusion_matrix(combine_matrix,raw_only_stage,columns_only_stage,'prediction','ground_truth')\n",
    "get_precision_recallrate(combine_matrix,raw_only_stage)"
   ]
  },
  {
   "cell_type": "code",
   "execution_count": 25,
   "metadata": {},
   "outputs": [
    {
     "data": {
      "image/png": "[encoded data removed]",
      "text/plain": [
       "<Figure size 432x288 with 2 Axes>"
      ]
     },
     "metadata": {
      "needs_background": "light"
     },
     "output_type": "display_data"
    },
    {
     "name": "stdout",
     "output_type": "stream",
     "text": [
      "Class 0 Precision:86.2% Recall_rate:76.2%\n",
      "Class 2 Precision:65.9% Recall_rate:73.8%\n",
      "Class 3 Precision:83.5% Recall_rate:83.1%\n"
     ]
    }
   ],
   "source": [
    "index_list  = [[2,3],[4],[5]]\n",
    "max_column = 5\n",
    "combine_matrix = combine_class_in_matrix(array_5_classes,index_list,max_column)\n",
    "#print(combine_matrix)\n",
    "\n",
    "raw_only_stage = ['0','2','3']\n",
    "columns_only_stage = ['0','2','3']\n",
    "balance = confusion_matrix_balance(combine_matrix)\n",
    "plot_confusion_matrix(balance,raw_only_stage,columns_only_stage,'prediction','ground_truth')\n",
    "get_precision_recallrate(balance,raw_only_stage)"
   ]
  },
  {
   "cell_type": "code",
   "execution_count": 26,
   "metadata": {},
   "outputs": [
    {
     "ename": "AssertionError",
     "evalue": "stop",
     "output_type": "error",
     "traceback": [
      "\u001b[0;31m---------------------------------------------------------------------------\u001b[0m",
      "\u001b[0;31mAssertionError\u001b[0m                            Traceback (most recent call last)",
      "\u001b[0;32m<ipython-input-26-5c09c6712231>\u001b[0m in \u001b[0;36m<module>\u001b[0;34m\u001b[0m\n\u001b[0;32m----> 1\u001b[0;31m \u001b[0;32massert\u001b[0m \u001b[0;32mTrue\u001b[0m \u001b[0;34m==\u001b[0m \u001b[0;32mFalse\u001b[0m \u001b[0;34m,\u001b[0m \u001b[0;34m'stop'\u001b[0m\u001b[0;34m\u001b[0m\u001b[0;34m\u001b[0m\u001b[0m\n\u001b[0m",
      "\u001b[0;31mAssertionError\u001b[0m: stop"
     ]
    }
   ],
   "source": [
    "assert True == False , 'stop'"
   ]
  },
  {
   "cell_type": "markdown",
   "metadata": {},
   "source": [
    "# Using the four classes (combine 0,1) to confusin matrix"
   ]
  },
  {
   "cell_type": "code",
   "execution_count": null,
   "metadata": {},
   "outputs": [],
   "source": [
    "def stage_(str_val):\n",
    "    try:\n",
    "        float_val = float(str_val)\n",
    "    except:\n",
    "        return -999\n",
    "    if (float_val == -999) or (float_val == --99):\n",
    "        return -999\n",
    "    elif (float_val > -99 and float_val < 0) or float_val == 0:\n",
    "        return 0\n",
    "    elif float_val < 15:\n",
    "        return 1\n",
    "    elif float_val < 33:\n",
    "        return 2\n",
    "    else:\n",
    "        return 3\n",
    "\n",
    "# def stage_(str_val):\n",
    "#     try:\n",
    "#         float_val = float(str_val)\n",
    "#     except:\n",
    "#         return -999\n",
    "#     if (float_val == -999) or (float_val == --99):\n",
    "#         return -999\n",
    "#     elif (float_val > -99 and float_val < 0) or float_val == 0:\n",
    "#         return 0\n",
    "#     elif float_val < 12:\n",
    "#         return 11\n",
    "#     elif float_val < 18:\n",
    "#         return 12\n",
    "#     elif float_val < 30:\n",
    "#         return 22\n",
    "#     elif float_val < 36:\n",
    "#         return 23\n",
    "#     else:\n",
    "#         return 33\n",
    "    \n",
    "# def GT_new_stage(val):\n",
    "#     if (val == 0):\n",
    "#         return 0\n",
    "#     elif (val == 1):\n",
    "#         return 11\n",
    "#     elif (val == 2):\n",
    "#         return 22\n",
    "#     elif (val == 3):\n",
    "#         return 33\n",
    "#     else:\n",
    "#         return val"
   ]
  },
  {
   "cell_type": "code",
   "execution_count": null,
   "metadata": {},
   "outputs": [],
   "source": [
    "Ground_truth_stage = Match_result_dropna['stage']\n",
    "Ground_truth_stage_list = list(Ground_truth_stage)\n",
    "PBL_predict_val = Match_result_dropna['PBL_value']\n",
    "PBL_predict_val_list = list(PBL_predict_val)\n",
    "print(len(Ground_truth_stage_list)==len(PBL_predict_stage_list))"
   ]
  },
  {
   "cell_type": "code",
   "execution_count": null,
   "metadata": {},
   "outputs": [],
   "source": []
  },
  {
   "cell_type": "code",
   "execution_count": null,
   "metadata": {},
   "outputs": [],
   "source": [
    "PBL_predict_stage_list = [stage_(val) for val in PBL_predict_val_list]\n",
    "# Ground_truth_stage_list = [GT_new_stage(val) for val in Ground_truth_stage_list]\n",
    "print(set(PBL_predict_stage_list))\n",
    "print(set(Ground_truth_stage_list))"
   ]
  },
  {
   "cell_type": "code",
   "execution_count": null,
   "metadata": {},
   "outputs": [],
   "source": []
  },
  {
   "cell_type": "code",
   "execution_count": null,
   "metadata": {},
   "outputs": [],
   "source": [
    "Ground_truth_stage_list_clean = []\n",
    "PBL_predict_stage_list_clean = []\n",
    "\n",
    "count = 0\n",
    "\n",
    "for G,P in zip(Ground_truth_stage_list,PBL_predict_stage_list):  \n",
    "    if (G < 0 or P < 0):\n",
    "        pass\n",
    "    else:\n",
    "        Ground_truth_stage_list_clean.append(G)\n",
    "        PBL_predict_stage_list_clean.append(P)"
   ]
  },
  {
   "cell_type": "code",
   "execution_count": null,
   "metadata": {},
   "outputs": [],
   "source": [
    "# PBL_predict_stage_list_clean.append(-999)\n",
    "# PBL_predict_stage_list_clean.append(-999)\n",
    "# PBL_predict_stage_list_clean.append(-999)\n",
    "\n",
    "# Ground_truth_stage_list_clean.append(12)\n",
    "# Ground_truth_stage_list_clean.append(23)\n",
    "# Ground_truth_stage_list_clean.append(-999)"
   ]
  },
  {
   "cell_type": "code",
   "execution_count": null,
   "metadata": {},
   "outputs": [],
   "source": [
    "print(set(PBL_predict_stage_list_clean))\n",
    "print(set(Ground_truth_stage_list_clean))"
   ]
  },
  {
   "cell_type": "code",
   "execution_count": null,
   "metadata": {},
   "outputs": [],
   "source": [
    "array_4  = confusion_matrix(Ground_truth_stage_list_clean, PBL_predict_stage_list_clean)\n",
    "# print(array_4.shape)\n",
    "raw_5 = ['-999','0','1','12','2','23','3']\n",
    "columns_5 = ['-999','0','1','12','2','23','3']\n",
    "plot_confusion_matrix(array_4,raw_5,columns_5,'prediction','ground_truth')\n",
    "get_precision_recallrate(array_4,raw_5)"
   ]
  },
  {
   "cell_type": "code",
   "execution_count": null,
   "metadata": {},
   "outputs": [],
   "source": []
  },
  {
   "cell_type": "code",
   "execution_count": null,
   "metadata": {},
   "outputs": [],
   "source": [
    "array_4  = confusion_matrix(Ground_truth_stage_list_clean, PBL_predict_stage_list_clean)\n",
    "\n",
    "\n",
    "index_list  = [[0,1],[2],[3]]\n",
    "max_column = 3\n",
    "combine_matrix = combine_class_in_matrix(array_4,index_list,max_column)\n",
    "\n",
    "raw_only_stage = ['0','2','3']\n",
    "columns_only_stage = ['0','2','3']\n",
    "plot_confusion_matrix(combine_matrix,raw_only_stage,columns_only_stage,'prediction','ground_truth')\n",
    "get_precision_recallrate(combine_matrix,raw_only_stage)"
   ]
  },
  {
   "cell_type": "code",
   "execution_count": null,
   "metadata": {},
   "outputs": [],
   "source": [
    "array_4  = confusion_matrix(Ground_truth_stage_list_clean, PBL_predict_stage_list_clean)\n",
    "\n",
    "\n",
    "index_list  = [[0,1],[2],[3]]\n",
    "max_column = 3\n",
    "combine_matrix = combine_class_in_matrix(array_4,index_list,max_column)\n",
    "\n",
    "raw_only_stage = ['0','2','3']\n",
    "columns_only_stage = ['0','2','3']\n",
    "balance = confusion_matrix_balance(combine_matrix)\n",
    "plot_confusion_matrix(balance,raw_only_stage,columns_only_stage,'prediction','ground_truth')\n",
    "get_precision_recallrate(balance,raw_only_stage)"
   ]
  },
  {
   "cell_type": "code",
   "execution_count": null,
   "metadata": {},
   "outputs": [],
   "source": []
  },
  {
   "cell_type": "markdown",
   "metadata": {},
   "source": [
    "# Compare on value"
   ]
  },
  {
   "cell_type": "code",
   "execution_count": null,
   "metadata": {},
   "outputs": [],
   "source": []
  },
  {
   "cell_type": "code",
   "execution_count": null,
   "metadata": {},
   "outputs": [],
   "source": [
    "def floval_(str_val):\n",
    "    try:\n",
    "        float_val = float(str_val)\n",
    "    except:\n",
    "        return -999\n",
    "    if (float_val == -999) or (float_val == --99):\n",
    "        return -999\n",
    "    elif (float_val > -99 and float_val < 0) or float_val == 0:\n",
    "        return 0\n",
    "    else :\n",
    "        return float_val"
   ]
  },
  {
   "cell_type": "code",
   "execution_count": null,
   "metadata": {},
   "outputs": [],
   "source": [
    "def stage_(str_val):\n",
    "    int_val = int(str_val)\n",
    "    if int_val == 0:\n",
    "        return 0\n",
    "    elif int_val < 15:\n",
    "        return 1\n",
    "    elif int_val < 33:\n",
    "        return 2\n",
    "    else:\n",
    "        return 3"
   ]
  },
  {
   "cell_type": "code",
   "execution_count": null,
   "metadata": {},
   "outputs": [],
   "source": [
    "Ground_truth_stage = Match_result_dropna['stage']\n",
    "Ground_truth_stage_list = list(Ground_truth_stage)\n",
    "PBL_predict_val = Match_result_dropna['PBL_value']\n",
    "PBL_predict_val_list = list(PBL_predict_val)\n",
    "print(len(Ground_truth_stage_list)==len(PBL_predict_stage_list))"
   ]
  },
  {
   "cell_type": "code",
   "execution_count": null,
   "metadata": {},
   "outputs": [],
   "source": [
    "PBL_predict_floval_list = [floval_(val) for val in PBL_predict_val_list]\n"
   ]
  },
  {
   "cell_type": "code",
   "execution_count": null,
   "metadata": {},
   "outputs": [],
   "source": [
    "Ground_truth_stage_list_clean = []\n",
    "PBL_predict_stage_list_clean = []\n",
    "\n",
    "count = 0\n",
    "\n",
    "for G,P in zip(Ground_truth_stage_list,PBL_predict_floval_list):  \n",
    "    if (G < 0 or P < 0 or P > 100):\n",
    "        pass\n",
    "    else:\n",
    "        Ground_truth_stage_list_clean.append(G)\n",
    "        PBL_predict_stage_list_clean.append(P)"
   ]
  },
  {
   "cell_type": "code",
   "execution_count": null,
   "metadata": {},
   "outputs": [],
   "source": [
    "#print(set(PBL_predict_stage_list_clean))\n",
    "#print(set(Ground_truth_stage_list_clean))"
   ]
  },
  {
   "cell_type": "code",
   "execution_count": null,
   "metadata": {},
   "outputs": [],
   "source": [
    "c0 = Ground_truth_stage_list_clean.count(0)\n",
    "c1 = Ground_truth_stage_list_clean.count(1)\n",
    "c2 = Ground_truth_stage_list_clean.count(2)\n",
    "c3 = Ground_truth_stage_list_clean.count(3)\n",
    "cs = c0+c1+c2+c3\n",
    "print(round((c0*100/cs),3),'%')\n",
    "print(round((c1*100/cs),3),'%')\n",
    "print(round((c2*100/cs),3),'%')\n",
    "print(round((c3*100/cs),3),'%')"
   ]
  },
  {
   "cell_type": "code",
   "execution_count": null,
   "metadata": {},
   "outputs": [],
   "source": [
    "import numpy as np\n",
    "import matplotlib.pyplot as plt\n",
    "from scipy.stats import gaussian_kde\n",
    "\n",
    "# Generate fake data\n",
    "x = PBL_predict_stage_list_clean\n",
    "y = Ground_truth_stage_list_clean\n",
    "\n",
    "# Calculate the point density\n",
    "xy = np.vstack([x,y])\n",
    "z = gaussian_kde(xy)(xy)\n",
    "\n",
    "fig, ax = plt.subplots()\n",
    "ax.scatter(x, y, c=z, s=10, edgecolor='')\n",
    "plt.title(\"stage point\")\n",
    "plt.xlabel(\"PBL_predict_value\")\n",
    "plt.ylabel(\"Ground_truth_stage\")\n",
    "plt.show()"
   ]
  },
  {
   "cell_type": "code",
   "execution_count": null,
   "metadata": {},
   "outputs": [],
   "source": [
    "#stage 0,1,2,3\n",
    "x0,y0 = [],[]\n",
    "x1,y1 = [],[]\n",
    "x2,y2 = [],[]\n",
    "x3,y3 = [],[]\n",
    "for x,y in zip(PBL_predict_stage_list_clean,Ground_truth_stage_list_clean):\n",
    "    if y == 0:\n",
    "        x0.append(x)\n",
    "        y0.append(y)\n",
    "    elif y == 1:\n",
    "        x1.append(x)\n",
    "        y1.append(y)\n",
    "    elif y == 2:\n",
    "        x2.append(x)\n",
    "        y2.append(y)\n",
    "    elif y == 3:\n",
    "        x3.append(x)\n",
    "        y3.append(y)\n",
    "x0count = x0.copy()\n",
    "y0count = y0.copy()\n",
    "x1count = x1.copy()\n",
    "y1count = y1.copy()\n",
    "x2count = x2.copy()\n",
    "y2count = y2.copy()\n",
    "x3count = x3.copy()\n",
    "y3count = y3.copy()\n",
    "\n",
    "x0.append(0)\n",
    "y0.append(1)\n",
    "x1.append(0)\n",
    "y1.append(0)\n",
    "x2.append(0)\n",
    "y2.append(0)\n",
    "x3.append(0)\n",
    "y3.append(0)\n"
   ]
  },
  {
   "cell_type": "code",
   "execution_count": null,
   "metadata": {},
   "outputs": [],
   "source": [
    " "
   ]
  },
  {
   "cell_type": "code",
   "execution_count": null,
   "metadata": {},
   "outputs": [],
   "source": [
    "# Generate fake data\n",
    "\n",
    "# Calculate the point density\n",
    "xy0 = np.vstack([x0,y0])\n",
    "z0 = gaussian_kde(xy0)(xy0)\n",
    "xy1 = np.vstack([x1,y1])\n",
    "z1 = gaussian_kde(xy1)(xy1)\n",
    "xy2 = np.vstack([x2,y2])\n",
    "z2 = gaussian_kde(xy2)(xy2)\n",
    "xy3 = np.vstack([x3,y3])\n",
    "z3 = gaussian_kde(xy3)(xy3)\n",
    "\n",
    "fig, ax = plt.subplots()\n",
    "ax.scatter(x0, y0, c=z0, s=10, edgecolor='')\n",
    "ax.scatter(x1, y1, c=z1, s=10, edgecolor='')\n",
    "ax.scatter(x2, y2, c=z2, s=10, edgecolor='')\n",
    "ax.scatter(x3, y3, c=z3, s=10, edgecolor='')\n",
    "plt.title(\"stage point\")\n",
    "plt.xlabel(\"PBL_predict_value\")\n",
    "plt.ylabel(\"Ground_truth_stage\")\n",
    "plt.show()"
   ]
  },
  {
   "cell_type": "code",
   "execution_count": null,
   "metadata": {},
   "outputs": [],
   "source": [
    "import matplotlib.pyplot as plt\n",
    "\n",
    "def get_value_count(list_,min_,max_):\n",
    "    count = 0\n",
    "    for i in list_:\n",
    "        if (i > min_ ) and (i <= max_):\n",
    "            count+=1\n",
    "    return count\n",
    "\n",
    "dict_ = {0:'lightgreen',1:'darkgreen',2:'darkorange',3:'r',}\n",
    "color = [dict_[stage_(i*3)] for i in range(34)]\n",
    "\n",
    "x = ['{}%~{}%'.format(i*3,(i+1)*3-1) for i in range(34)]\n",
    "\n",
    "y0count = [ get_value_count(x0count,i*3,(i+1)*3-1) for i in range(34)] \n",
    "y1count = [ get_value_count(x1count,i*3,(i+1)*3-1) for i in range(34)] \n",
    "y2count = [ get_value_count(x2count,i*3,(i+1)*3-1) for i in range(34)] \n",
    "y3count = [ get_value_count(x3count,i*3,(i+1)*3-1) for i in range(34)] \n",
    "\n",
    "fig = plt.figure(figsize=(15,8))\n",
    "fig, ax = plt.subplots(4, 1)\n",
    "ax[0].bar(x, y0count, color = color)\n",
    "ax[1].bar(x, y1count, color = color)\n",
    "ax[2].bar(x, y2count, color = color)\n",
    "ax[3].bar(x, y3count, color = color)\n",
    "\n",
    "ax[0].set_title(\"Stage 0 all_num:{}\".format(sum(y0count)), fontsize=20)\n",
    "ax[1].set_title(\"Stage 1 all_num:{}\".format(sum(y1count)), fontsize=20)\n",
    "ax[2].set_title(\"Stage 2 all_num:{}\".format(sum(y2count)), fontsize=20)\n",
    "ax[3].set_title(\"Stage 3 all_num:{}\".format(sum(y3count)), fontsize=20)\n",
    "\n",
    "plt.subplots_adjust(left=0.125,\n",
    "                    bottom=0.1, \n",
    "                    right=5, \n",
    "                    top=5, \n",
    "                    wspace=8, \n",
    "                    hspace=0.35)\n",
    "\n",
    "print(y0count)\n",
    "print(y1count)\n",
    "print(y2count)\n",
    "print(y3count)"
   ]
  },
  {
   "cell_type": "code",
   "execution_count": null,
   "metadata": {},
   "outputs": [],
   "source": []
  },
  {
   "cell_type": "code",
   "execution_count": null,
   "metadata": {},
   "outputs": [],
   "source": [
    "human_can_detect = Match_result_dropna['stage']\n",
    "model_can_detect = Match_result_dropna['PBL_stage']\n",
    "print(len(human_can_detect) == len(model_can_detect))\n",
    "print(len(human_can_detect))\n",
    "print(len(model_can_detect))\n",
    "human_can_detect_list = list(human_can_detect) \n",
    "model_can_detect_list = list(model_can_detect) \n",
    "print(set(human_can_detect_list))\n",
    "print(set(model_can_detect_list))"
   ]
  },
  {
   "cell_type": "code",
   "execution_count": null,
   "metadata": {},
   "outputs": [],
   "source": [
    "human_can_detect_ = []\n",
    "model_can_detect_ = []\n",
    "\n",
    "print(len(human_can_detect))\n",
    "print(len(model_can_detect))\n",
    "\n",
    "for h,m in zip(human_can_detect,model_can_detect):\n",
    "    if h == -999 or h ==-99:\n",
    "        human_can_detect_.append(0)\n",
    "    else:\n",
    "        human_can_detect_.append(1)\n",
    "\n",
    "    if str(m) == 'No_match' or str(m) == '-999':\n",
    "        model_can_detect_.append(0)\n",
    "    else:\n",
    "        model_can_detect_.append(1)"
   ]
  },
  {
   "cell_type": "code",
   "execution_count": null,
   "metadata": {},
   "outputs": [],
   "source": [
    "print(len(human_can_detect_),len(model_can_detect_))"
   ]
  },
  {
   "cell_type": "code",
   "execution_count": null,
   "metadata": {},
   "outputs": [],
   "source": [
    "from sklearn.metrics import confusion_matrix\n",
    "\n",
    "array = confusion_matrix(human_can_detect_, model_can_detect_)\n",
    "\n",
    "index = ['not','Find']\n",
    "columns = ['not','Find']\n",
    "\n",
    "plot_confusion_matrix(array,index,columns,x_label='model_detect',y_label='human_detect')\n",
    "\n",
    "print('Missing rate',(array[1][0]/sum(array[1]))*100,'%')"
   ]
  },
  {
   "cell_type": "code",
   "execution_count": null,
   "metadata": {},
   "outputs": [],
   "source": []
  },
  {
   "cell_type": "code",
   "execution_count": null,
   "metadata": {},
   "outputs": [],
   "source": []
  }
 ],
 "metadata": {
  "kernelspec": {
   "display_name": "Python 3",
   "language": "python",
   "name": "python3"
  },
  "language_info": {
   "codemirror_mode": {
    "name": "ipython",
    "version": 3
   },
   "file_extension": ".py",
   "mimetype": "text/x-python",
   "name": "python",
   "nbconvert_exporter": "python",
   "pygments_lexer": "ipython3",
   "version": "3.6.7"
  }
 },
 "nbformat": 4,
 "nbformat_minor": 4
}
