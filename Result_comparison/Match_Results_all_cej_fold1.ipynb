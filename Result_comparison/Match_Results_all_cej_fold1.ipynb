{
 "cells": [
  {
   "cell_type": "markdown",
   "metadata": {},
   "source": [
    "## Import using package"
   ]
  },
  {
   "cell_type": "code",
   "execution_count": 1,
   "metadata": {},
   "outputs": [],
   "source": [
    "import os\n",
    "import cv2\n",
    "import csv\n",
    "import time\n",
    "import json\n",
    "import glob\n",
    "import pandas as pd\n",
    "import numpy as np\n",
    "import matplotlib.pyplot as plt\n",
    "\n",
    "from tqdm.notebook import tqdm as tqdm"
   ]
  },
  {
   "cell_type": "code",
   "execution_count": 2,
   "metadata": {},
   "outputs": [],
   "source": [
    "csv_path1 = '../PBL_result_1.csv'\n",
    "csv_file1 = pd.read_csv(csv_path1)\n",
    "csv_path2 = '../PBL_result_2.csv'\n",
    "csv_file2 = pd.read_csv(csv_path2)\n",
    "csv_path3 = '../PBL_result_3.csv'\n",
    "csv_file3 = pd.read_csv(csv_path3)\n",
    "csv_path4 = '../PBL_result_4.csv'\n",
    "csv_file4 = pd.read_csv(csv_path4)\n",
    "csv_path5 = '../PBL_result_5.csv'\n",
    "csv_file5 = pd.read_csv(csv_path5)"
   ]
  },
  {
   "cell_type": "code",
   "execution_count": 3,
   "metadata": {},
   "outputs": [],
   "source": [
    "def append_list_as_row(file_name, list_of_elem):\n",
    "    # Open file in append mode\n",
    "    with open(file_name, 'a+', newline='') as write_obj:\n",
    "        # Create a writer object from csv module\n",
    "        csv_writer = csv.writer(write_obj)\n",
    "        # Add contents of list as last row in the csv file\n",
    "        csv_writer.writerow(list_of_elem)"
   ]
  },
  {
   "cell_type": "code",
   "execution_count": 4,
   "metadata": {},
   "outputs": [
    {
     "name": "stdout",
     "output_type": "stream",
     "text": [
      "Initial the csv.\n"
     ]
    }
   ],
   "source": [
    "#initial csv file\n",
    "Resave = True\n",
    "csv_file_path = '../csv_file/PBL_result_all_fold1.csv'\n",
    "\n",
    "if not Resave and os.path.exists(csv_file_path):\n",
    "    print('This csv file is exist,if want to resave please modify \"Resave\" parameter.')\n",
    "else:\n",
    "    print('Initial the csv.')\n",
    "    with open(csv_file_path, 'w', newline='\\n') as csvfile:\n",
    "        csv_writer = csv.writer(csvfile)\n",
    "        csv_writer.writerow(['Image_name', 'Tooth_num', 'LPBL(%)', 'L_Stage(int)', 'RPBL(%)', 'R_Stage(int)','Dis_L','Dis_R','Dis_root','points_info','tooth_pbl_line_path'])"
   ]
  },
  {
   "cell_type": "code",
   "execution_count": 5,
   "metadata": {},
   "outputs": [
    {
     "data": {
      "application/vnd.jupyter.widget-view+json": {
       "model_id": "d38e82f4d0b04bdaaf34754815890b24",
       "version_major": 2,
       "version_minor": 0
      },
      "text/plain": [
       "HBox(children=(FloatProgress(value=0.0, max=5.0), HTML(value='')))"
      ]
     },
     "metadata": {},
     "output_type": "display_data"
    },
    {
     "name": "stdout",
     "output_type": "stream",
     "text": [
      "\n"
     ]
    }
   ],
   "source": [
    "csv_file_list = [csv_file1, csv_file2, csv_file3, csv_file4, csv_file5]\n",
    "\n",
    "for csv_file in tqdm(csv_file_list, total = len(csv_file_list)):\n",
    "    for index, row in csv_file.iterrows():\n",
    "        img_name = row['Image_name']\n",
    "        fill_up_name = row['Tooth_num']\n",
    "        LPBL = row['LPBL(%)']\n",
    "        L_Stage = row['L_Stage(int)']\n",
    "        RPBL = row['RPBL(%)']\n",
    "        R_Stage = row['R_Stage(int)']\n",
    "        Dis_L = row['Dis_L']\n",
    "        Dis_R = row['Dis_R']\n",
    "        Dis_root = row['Dis_root']\n",
    "        points_info = row['points_info']\n",
    "        tooth_pbl_line_path = row['tooth_pbl_line_path']\n",
    "        row_contents = [img_name, fill_up_name, LPBL, L_Stage , RPBL, R_Stage,Dis_L,Dis_R,Dis_root,points_info,tooth_pbl_line_path]\n",
    "        append_list_as_row(csv_file_path, row_contents)"
   ]
  },
  {
   "cell_type": "code",
   "execution_count": null,
   "metadata": {},
   "outputs": [],
   "source": []
  },
  {
   "cell_type": "code",
   "execution_count": 6,
   "metadata": {},
   "outputs": [],
   "source": [
    "def PolygonArea(corners):\n",
    "    n = len(corners) # of corners\n",
    "    area = 0.0\n",
    "    for i in range(n):\n",
    "        j = (i + 1) % n\n",
    "        area += corners[i][0] * corners[j][1]\n",
    "        area -= corners[j][0] * corners[i][1]\n",
    "    area = abs(area) / 2.0\n",
    "    return area\n",
    "\n",
    "def point_in_box(point_boxs_list,check_point):\n",
    "    point_pair_list = [[point_boxs_list[i-1],point_boxs_list[i]] for i in range(len(point_boxs_list))]\n",
    "    box_area = PolygonArea(point_boxs_list)\n",
    "    count_area = 0\n",
    "    for edge in point_pair_list:\n",
    "        edge.append(check_point)\n",
    "        count_area = PolygonArea(edge)+count_area\n",
    "    if count_area - box_area < 1:\n",
    "        return True\n",
    "    else:\n",
    "        return False\n",
    "    \n",
    "def show_pixel_set(img_nparray):\n",
    "    a = img_nparray\n",
    "    unique, counts = np.unique(a, return_counts=True)\n",
    "    return dict(zip(unique, counts))\n",
    "\n",
    "def get_check_point(img_path):\n",
    "    img = cv2.imread(img_path)\n",
    "    img = cv2.cvtColor(np.where(img == 255,255.,0.).astype('uint8'), cv2.COLOR_BGR2GRAY)\n",
    "    img = np.where(img == 76,255,0)\n",
    "    image_name = img_path.split('/')[-1][:-7]\n",
    "    return (np.mean(np.nonzero(img)[1]),np.mean(np.nonzero(img)[0]))\n",
    "\n",
    "#print_ = False\n",
    "def get_DM(num,side):\n",
    "    '''\n",
    "    tooth_num:\n",
    "    if tooth_num <= 8 and tooth_num >= 25:\n",
    "        L = D  \n",
    "        R = M\n",
    "    else:\n",
    "        L = M\n",
    "        R = D        \n",
    "    '''\n",
    "    if ((int(num) <= 8 or int(num) >= 25) and side =='L') or (25 > int(num) > 8 and side =='R'):\n",
    "        return '{}D'.format(num)\n",
    "    else:\n",
    "        return '{}M'.format(num)\n",
    "    \n",
    "def replac_value(image_name,M_tooth_info_b,D_info):\n",
    "    D_info.loc[(D_info['image_name'] == '{}'.format(image_name)),'PBL_predict_tooth'] = '{}'.format('No_match')\n",
    "    D_info.loc[(D_info['image_name'] == '{}'.format(image_name)),'PBL_value'] = '{}'.format('No_match')\n",
    "    D_info.loc[(D_info['image_name'] == '{}'.format(image_name)),'PBL_stage'] = '{}'.format('No_match')\n",
    "    D_info.loc[(D_info['image_name'] == '{}'.format(image_name)),'tooth_path'] = '{}'.format('No_match')\n",
    "    D_info.loc[(D_info['image_name'] == '{}'.format(image_name)),'CEJ_points'] = '{}'.format('No_match')\n",
    "    D_info.loc[(D_info['image_name'] == '{}'.format(image_name)),'Bone_level_points'] = '{}'.format('No_match')\n",
    "    for tooth in M_tooth_info_b['match_tooth']:\n",
    "        if tooth != 'No_match':\n",
    "            tooth_num = tooth.split('_')[0]\n",
    "            tooth_side = tooth.split('_')[1]\n",
    "            tooth_left = get_DM(tooth_num,'L') if 'L' in tooth_side else None\n",
    "            tooth_right = get_DM(tooth_num,'R') if 'R' in tooth_side else None\n",
    "\n",
    "            LPBL = M_tooth_info_b.loc[M_tooth_info_b['match_tooth'] == '{}'.format(tooth)]['LPBL(%)'].values[0]\n",
    "            L_Stage = M_tooth_info_b.loc[M_tooth_info_b['match_tooth'] == '{}'.format(tooth)]['L_Stage(int)']\n",
    "            RPBL = M_tooth_info_b.loc[M_tooth_info_b['match_tooth'] == '{}'.format(tooth)]['RPBL(%)'].values[0]\n",
    "            R_Stage = M_tooth_info_b.loc[M_tooth_info_b['match_tooth'] == '{}'.format(tooth)]['R_Stage(int)']\n",
    "            tooth_path = M_tooth_info_b.loc[M_tooth_info_b['match_tooth'] == '{}'.format(tooth)]['Tooth_num'].values[0]\n",
    "            \n",
    "            tooth_info = M_tooth_info_b.loc[M_tooth_info_b['match_tooth'] == '{}'.format(tooth)]['points_info'].values[0][1:-1]\n",
    "            #print(tooth_info)\n",
    "            tooth_info_list = tooth_info.split(',')\n",
    "            L_points_info = tuple((tooth_info_list[0],tooth_info_list[1]))\n",
    "            R_points_info = tuple((tooth_info_list[2],tooth_info_list[3]))\n",
    "            D_info.loc[(D_info['image_name'] == '{}'.format(image_name)) & (D_info['tooth_side'] == '{}'.format(tooth_left)), 'PBL_predict_tooth'] = '{}'.format(tooth_num+'_L') \n",
    "            D_info.loc[(D_info['image_name'] == '{}'.format(image_name)) & (D_info['tooth_side'] == '{}'.format(tooth_right)), 'PBL_predict_tooth'] = '{}'.format(tooth_num+'_R')\n",
    "            D_info.loc[(D_info['image_name'] == '{}'.format(image_name)) & (D_info['tooth_side'] == '{}'.format(tooth_left)), 'PBL_value'] = '{}'.format(LPBL,'.3f') \n",
    "            D_info.loc[(D_info['image_name'] == '{}'.format(image_name)) & (D_info['tooth_side'] == '{}'.format(tooth_right)), 'PBL_value'] = '{}'.format(RPBL,'.3f')\n",
    "            D_info.loc[(D_info['image_name'] == '{}'.format(image_name)) & (D_info['tooth_side'] == '{}'.format(tooth_left)), 'PBL_stage'] = '{}'.format(L_Stage.values[0])\n",
    "            D_info.loc[(D_info['image_name'] == '{}'.format(image_name)) & (D_info['tooth_side'] == '{}'.format(tooth_right)), 'PBL_stage'] = '{}'.format(R_Stage.values[0])\n",
    "            D_info.loc[(D_info['image_name'] == '{}'.format(image_name)) & (D_info['tooth_side'] == '{}'.format(tooth_left)), 'tooth_path'] = '{}'.format(tooth_path) \n",
    "            D_info.loc[(D_info['image_name'] == '{}'.format(image_name)) & (D_info['tooth_side'] == '{}'.format(tooth_right)), 'tooth_path'] = '{}'.format(tooth_path) \n",
    "            \n",
    "            D_info.loc[(D_info['image_name'] == '{}'.format(image_name)) & (D_info['tooth_side'] == '{}'.format(tooth_left)), 'CEJ_points'] = '{}'.format(int(tooth_info_list[0])) \n",
    "            D_info.loc[(D_info['image_name'] == '{}'.format(image_name)) & (D_info['tooth_side'] == '{}'.format(tooth_right)), 'CEJ_points'] = '{}'.format(int(tooth_info_list[2]))  \n",
    "            D_info.loc[(D_info['image_name'] == '{}'.format(image_name)) & (D_info['tooth_side'] == '{}'.format(tooth_left)), 'Bone_level_points'] = '{}'.format(int(tooth_info_list[1])) \n",
    "            D_info.loc[(D_info['image_name'] == '{}'.format(image_name)) & (D_info['tooth_side'] == '{}'.format(tooth_right)), 'Bone_level_points'] = '{}'.format(int(tooth_info_list[3]))     \n",
    "    return D_info\n"
   ]
  },
  {
   "cell_type": "markdown",
   "metadata": {},
   "source": [
    "## Load model_detection csv & dentist_prediction "
   ]
  },
  {
   "cell_type": "code",
   "execution_count": 7,
   "metadata": {},
   "outputs": [],
   "source": [
    "#Model_detection_result_csv_path = '/root/notebooks/tooth_project/tooth_xray_segmention/PBL_detection/csv_file/PBL_result_512.csv'\n",
    "Model_detection_result_csv_path = '../csv_file/PBL_result_all_fold1.csv'\n",
    "# Model_detection_result_csv_path = '../csv_file/PBL_CSV_combine_result.csv'\n",
    "Dentist_predict_result_csv_path = '../csv_file/HV_stage_majority_20210201.csv'\n"
   ]
  },
  {
   "cell_type": "code",
   "execution_count": 8,
   "metadata": {},
   "outputs": [],
   "source": [
    "Model_detection = pd.read_csv(Model_detection_result_csv_path)\n",
    "Dentist_predict = pd.read_csv(Dentist_predict_result_csv_path)"
   ]
  },
  {
   "cell_type": "markdown",
   "metadata": {},
   "source": [
    "## Show info check non_Null"
   ]
  },
  {
   "cell_type": "code",
   "execution_count": 9,
   "metadata": {},
   "outputs": [],
   "source": [
    "# Model_detection.info()\n",
    "# print('------------------------------------------------')\n",
    "# Dentist_predict.info()"
   ]
  },
  {
   "cell_type": "markdown",
   "metadata": {},
   "source": [
    "## Show the first three data"
   ]
  },
  {
   "cell_type": "code",
   "execution_count": 10,
   "metadata": {},
   "outputs": [
    {
     "data": {
      "text/html": [
       "<div>\n",
       "<style scoped>\n",
       "    .dataframe tbody tr th:only-of-type {\n",
       "        vertical-align: middle;\n",
       "    }\n",
       "\n",
       "    .dataframe tbody tr th {\n",
       "        vertical-align: top;\n",
       "    }\n",
       "\n",
       "    .dataframe thead th {\n",
       "        text-align: right;\n",
       "    }\n",
       "</style>\n",
       "<table border=\"1\" class=\"dataframe\">\n",
       "  <thead>\n",
       "    <tr style=\"text-align: right;\">\n",
       "      <th></th>\n",
       "      <th>Image_name</th>\n",
       "      <th>Tooth_num</th>\n",
       "      <th>LPBL(%)</th>\n",
       "      <th>L_Stage(int)</th>\n",
       "      <th>RPBL(%)</th>\n",
       "      <th>R_Stage(int)</th>\n",
       "      <th>Dis_L</th>\n",
       "      <th>Dis_R</th>\n",
       "      <th>Dis_root</th>\n",
       "      <th>points_info</th>\n",
       "      <th>tooth_pbl_line_path</th>\n",
       "    </tr>\n",
       "  </thead>\n",
       "  <tbody>\n",
       "    <tr>\n",
       "      <th>0</th>\n",
       "      <td>158877 Patrica M Potter_190702_103630_B2D948</td>\n",
       "      <td>158877 Patrica M Potter_190702_103630_B2D948_0...</td>\n",
       "      <td>11.873</td>\n",
       "      <td>1</td>\n",
       "      <td>-999.000</td>\n",
       "      <td>-999</td>\n",
       "      <td>58.694122</td>\n",
       "      <td>-999.000000</td>\n",
       "      <td>197.448728</td>\n",
       "      <td>(1, 1, 1, 0)</td>\n",
       "      <td>./3_pattern_detection_result/158877 Patrica M ...</td>\n",
       "    </tr>\n",
       "    <tr>\n",
       "      <th>1</th>\n",
       "      <td>158877 Patrica M Potter_190702_103630_B2D948</td>\n",
       "      <td>158877 Patrica M Potter_190702_103630_B2D948_1...</td>\n",
       "      <td>-999.000</td>\n",
       "      <td>-999</td>\n",
       "      <td>0.000</td>\n",
       "      <td>0</td>\n",
       "      <td>-999.000000</td>\n",
       "      <td>17.204651</td>\n",
       "      <td>179.044687</td>\n",
       "      <td>(1, 0, 1, 1)</td>\n",
       "      <td>./3_pattern_detection_result/158877 Patrica M ...</td>\n",
       "    </tr>\n",
       "    <tr>\n",
       "      <th>2</th>\n",
       "      <td>158877 Patrica M Potter_190702_103630_B2D948</td>\n",
       "      <td>158877 Patrica M Potter_190702_103630_B2D948_2...</td>\n",
       "      <td>0.000</td>\n",
       "      <td>0</td>\n",
       "      <td>0.558</td>\n",
       "      <td>1</td>\n",
       "      <td>29.427878</td>\n",
       "      <td>41.000000</td>\n",
       "      <td>219.346757</td>\n",
       "      <td>(1, 1, 1, 1)</td>\n",
       "      <td>./3_pattern_detection_result/158877 Patrica M ...</td>\n",
       "    </tr>\n",
       "  </tbody>\n",
       "</table>\n",
       "</div>"
      ],
      "text/plain": [
       "                                     Image_name  \\\n",
       "0  158877 Patrica M Potter_190702_103630_B2D948   \n",
       "1  158877 Patrica M Potter_190702_103630_B2D948   \n",
       "2  158877 Patrica M Potter_190702_103630_B2D948   \n",
       "\n",
       "                                           Tooth_num  LPBL(%)  L_Stage(int)  \\\n",
       "0  158877 Patrica M Potter_190702_103630_B2D948_0...   11.873             1   \n",
       "1  158877 Patrica M Potter_190702_103630_B2D948_1... -999.000          -999   \n",
       "2  158877 Patrica M Potter_190702_103630_B2D948_2...    0.000             0   \n",
       "\n",
       "   RPBL(%)  R_Stage(int)       Dis_L       Dis_R    Dis_root   points_info  \\\n",
       "0 -999.000          -999   58.694122 -999.000000  197.448728  (1, 1, 1, 0)   \n",
       "1    0.000             0 -999.000000   17.204651  179.044687  (1, 0, 1, 1)   \n",
       "2    0.558             1   29.427878   41.000000  219.346757  (1, 1, 1, 1)   \n",
       "\n",
       "                                 tooth_pbl_line_path  \n",
       "0  ./3_pattern_detection_result/158877 Patrica M ...  \n",
       "1  ./3_pattern_detection_result/158877 Patrica M ...  \n",
       "2  ./3_pattern_detection_result/158877 Patrica M ...  "
      ]
     },
     "execution_count": 10,
     "metadata": {},
     "output_type": "execute_result"
    }
   ],
   "source": [
    "Model_detection.head(3)"
   ]
  },
  {
   "cell_type": "code",
   "execution_count": 11,
   "metadata": {},
   "outputs": [
    {
     "data": {
      "text/html": [
       "<div>\n",
       "<style scoped>\n",
       "    .dataframe tbody tr th:only-of-type {\n",
       "        vertical-align: middle;\n",
       "    }\n",
       "\n",
       "    .dataframe tbody tr th {\n",
       "        vertical-align: top;\n",
       "    }\n",
       "\n",
       "    .dataframe thead th {\n",
       "        text-align: right;\n",
       "    }\n",
       "</style>\n",
       "<table border=\"1\" class=\"dataframe\">\n",
       "  <thead>\n",
       "    <tr style=\"text-align: right;\">\n",
       "      <th></th>\n",
       "      <th>folder_name</th>\n",
       "      <th>image_name</th>\n",
       "      <th>tooth_side</th>\n",
       "      <th>stage</th>\n",
       "      <th>bone_loss</th>\n",
       "    </tr>\n",
       "  </thead>\n",
       "  <tbody>\n",
       "    <tr>\n",
       "      <th>0</th>\n",
       "      <td>701509 061919 x</td>\n",
       "      <td>NN_190619_104716_EA3E9</td>\n",
       "      <td>9M</td>\n",
       "      <td>1.0</td>\n",
       "      <td>1.0</td>\n",
       "    </tr>\n",
       "    <tr>\n",
       "      <th>1</th>\n",
       "      <td>701509 061919 x</td>\n",
       "      <td>NN_190619_104716_EA3E9</td>\n",
       "      <td>9D</td>\n",
       "      <td>1.0</td>\n",
       "      <td>2.0</td>\n",
       "    </tr>\n",
       "    <tr>\n",
       "      <th>2</th>\n",
       "      <td>701509 061919 x</td>\n",
       "      <td>NN_190619_104716_EA3E9</td>\n",
       "      <td>10M</td>\n",
       "      <td>3.0</td>\n",
       "      <td>2.0</td>\n",
       "    </tr>\n",
       "  </tbody>\n",
       "</table>\n",
       "</div>"
      ],
      "text/plain": [
       "       folder_name              image_name tooth_side  stage  bone_loss\n",
       "0  701509 061919 x  NN_190619_104716_EA3E9         9M    1.0        1.0\n",
       "1  701509 061919 x  NN_190619_104716_EA3E9         9D    1.0        2.0\n",
       "2  701509 061919 x  NN_190619_104716_EA3E9        10M    3.0        2.0"
      ]
     },
     "execution_count": 11,
     "metadata": {},
     "output_type": "execute_result"
    }
   ],
   "source": [
    "Dentist_predict.head(3)"
   ]
  },
  {
   "cell_type": "code",
   "execution_count": 12,
   "metadata": {},
   "outputs": [
    {
     "data": {
      "text/html": [
       "<div>\n",
       "<style scoped>\n",
       "    .dataframe tbody tr th:only-of-type {\n",
       "        vertical-align: middle;\n",
       "    }\n",
       "\n",
       "    .dataframe tbody tr th {\n",
       "        vertical-align: top;\n",
       "    }\n",
       "\n",
       "    .dataframe thead th {\n",
       "        text-align: right;\n",
       "    }\n",
       "</style>\n",
       "<table border=\"1\" class=\"dataframe\">\n",
       "  <thead>\n",
       "    <tr style=\"text-align: right;\">\n",
       "      <th></th>\n",
       "      <th>folder_name</th>\n",
       "      <th>image_name</th>\n",
       "      <th>tooth_side</th>\n",
       "      <th>stage</th>\n",
       "      <th>bone_loss</th>\n",
       "      <th>PBL_predict_tooth</th>\n",
       "      <th>PBL_value</th>\n",
       "      <th>PBL_stage</th>\n",
       "      <th>tooth_path</th>\n",
       "      <th>CEJ_points</th>\n",
       "      <th>Bone_level_points</th>\n",
       "    </tr>\n",
       "  </thead>\n",
       "  <tbody>\n",
       "    <tr>\n",
       "      <th>0</th>\n",
       "      <td>701509 061919 x</td>\n",
       "      <td>NN_190619_104716_EA3E9</td>\n",
       "      <td>9M</td>\n",
       "      <td>1.0</td>\n",
       "      <td>1.0</td>\n",
       "      <td>NaN</td>\n",
       "      <td>NaN</td>\n",
       "      <td>NaN</td>\n",
       "      <td>NaN</td>\n",
       "      <td>NaN</td>\n",
       "      <td>NaN</td>\n",
       "    </tr>\n",
       "    <tr>\n",
       "      <th>1</th>\n",
       "      <td>701509 061919 x</td>\n",
       "      <td>NN_190619_104716_EA3E9</td>\n",
       "      <td>9D</td>\n",
       "      <td>1.0</td>\n",
       "      <td>2.0</td>\n",
       "      <td>NaN</td>\n",
       "      <td>NaN</td>\n",
       "      <td>NaN</td>\n",
       "      <td>NaN</td>\n",
       "      <td>NaN</td>\n",
       "      <td>NaN</td>\n",
       "    </tr>\n",
       "    <tr>\n",
       "      <th>2</th>\n",
       "      <td>701509 061919 x</td>\n",
       "      <td>NN_190619_104716_EA3E9</td>\n",
       "      <td>10M</td>\n",
       "      <td>3.0</td>\n",
       "      <td>2.0</td>\n",
       "      <td>NaN</td>\n",
       "      <td>NaN</td>\n",
       "      <td>NaN</td>\n",
       "      <td>NaN</td>\n",
       "      <td>NaN</td>\n",
       "      <td>NaN</td>\n",
       "    </tr>\n",
       "  </tbody>\n",
       "</table>\n",
       "</div>"
      ],
      "text/plain": [
       "       folder_name              image_name tooth_side  stage  bone_loss  \\\n",
       "0  701509 061919 x  NN_190619_104716_EA3E9         9M    1.0        1.0   \n",
       "1  701509 061919 x  NN_190619_104716_EA3E9         9D    1.0        2.0   \n",
       "2  701509 061919 x  NN_190619_104716_EA3E9        10M    3.0        2.0   \n",
       "\n",
       "   PBL_predict_tooth  PBL_value  PBL_stage  tooth_path  CEJ_points  \\\n",
       "0                NaN        NaN        NaN         NaN         NaN   \n",
       "1                NaN        NaN        NaN         NaN         NaN   \n",
       "2                NaN        NaN        NaN         NaN         NaN   \n",
       "\n",
       "   Bone_level_points  \n",
       "0                NaN  \n",
       "1                NaN  \n",
       "2                NaN  "
      ]
     },
     "execution_count": 12,
     "metadata": {},
     "output_type": "execute_result"
    }
   ],
   "source": [
    "D_tooth_info = Dentist_predict\n",
    "D_tooth_info[\"PBL_predict_tooth\"] = np.nan\n",
    "D_tooth_info[\"PBL_value\"] = np.nan\n",
    "D_tooth_info[\"PBL_stage\"] = np.nan\n",
    "D_tooth_info[\"tooth_path\"] = np.nan\n",
    "D_tooth_info[\"CEJ_points\"] = np.nan\n",
    "D_tooth_info[\"Bone_level_points\"] = np.nan\n",
    "D_tooth_info.head(3)"
   ]
  },
  {
   "cell_type": "code",
   "execution_count": null,
   "metadata": {},
   "outputs": [],
   "source": []
  },
  {
   "cell_type": "markdown",
   "metadata": {},
   "source": [
    "## Check comparsion image name"
   ]
  },
  {
   "cell_type": "code",
   "execution_count": 14,
   "metadata": {},
   "outputs": [
    {
     "data": {
      "application/vnd.jupyter.widget-view+json": {
       "model_id": "b8a045728d6c443cb61f66c287ab5e88",
       "version_major": 2,
       "version_minor": 0
      },
      "text/plain": [
       "HBox(children=(FloatProgress(value=0.0, max=2306.0), HTML(value='')))"
      ]
     },
     "metadata": {},
     "output_type": "display_data"
    },
    {
     "name": "stderr",
     "output_type": "stream",
     "text": [
      "/opt/conda/lib/python3.6/site-packages/ipykernel_launcher.py:35: SettingWithCopyWarning: \n",
      "A value is trying to be set on a copy of a slice from a DataFrame.\n",
      "Try using .loc[row_indexer,col_indexer] = value instead\n",
      "\n",
      "See the caveats in the documentation: http://pandas.pydata.org/pandas-docs/stable/indexing.html#indexing-view-versus-copy\n"
     ]
    },
    {
     "name": "stdout",
     "output_type": "stream",
     "text": [
      "\n",
      "7420\n"
     ]
    }
   ],
   "source": [
    "list_image_name = list(set(list(Model_detection['Image_name'])))\n",
    "list_image_name.sort()\n",
    "\n",
    "json_save_path = '/root/notebooks/jeff/json_file/*.json'\n",
    "json_file_list = glob.glob(json_save_path)\n",
    "\n",
    "show = True\n",
    "json_ = True\n",
    "\n",
    "count = 0\n",
    "\n",
    "for image_name in tqdm(list_image_name ,total=len(list_image_name)):\n",
    "    match_tooth = []\n",
    "    M_tooth_info = Model_detection.loc[(Model_detection['Image_name'] == image_name)]\n",
    "    if True:\n",
    "        for index, img_path in enumerate(M_tooth_info[['tooth_pbl_line_path'][0]]):\n",
    "            check_in_box = False\n",
    "            True_tooth_label = \"No_match\"\n",
    "            if json_:\n",
    "                #check_path = ('.'+img_path).replace(\"3_pattern_detection_result\",\"2_seg_img_with_cej\")\n",
    "                check_path = ('.'+img_path).replace(\"3_keypoint_test/2_seg_img_with_cej\",\"2_seg_img_with_cej\")\n",
    "                check_point = get_check_point(check_path)\n",
    "                json_file_path = [json_name for json_name in json_file_list if image_name in json_name]\n",
    "                if json_file_path != []:\n",
    "                    with open(json_file_path[0], 'r') as file:\n",
    "                        json_file = json.load(file)\n",
    "                    for tooth in json_file['shapes']:\n",
    "                        check_in_box = point_in_box(tooth['points'],check_point)\n",
    "                        if check_in_box:   \n",
    "                            True_tooth_label = tooth['label']\n",
    "                            break\n",
    "            count += 1\n",
    "            match_tooth.append(True_tooth_label)\n",
    "    tooth = match_tooth\n",
    "    M_tooth_info['match_tooth'] = tooth\n",
    "    D_tooth_info = replac_value(image_name,M_tooth_info,D_tooth_info)\n",
    "print(count)"
   ]
  },
  {
   "cell_type": "code",
   "execution_count": null,
   "metadata": {},
   "outputs": [],
   "source": []
  },
  {
   "cell_type": "code",
   "execution_count": 15,
   "metadata": {},
   "outputs": [],
   "source": [
    "D_tooth_info_b = D_tooth_info[['image_name','tooth_side','stage','PBL_predict_tooth','PBL_value','PBL_stage','tooth_path','CEJ_points','Bone_level_points']]\n",
    "M_tooth_info_b = M_tooth_info[['Image_name','LPBL(%)','L_Stage(int)','RPBL(%)','R_Stage(int)']]"
   ]
  },
  {
   "cell_type": "code",
   "execution_count": 20,
   "metadata": {},
   "outputs": [],
   "source": [
    "D_tooth_info_b = pd.DataFrame(D_tooth_info_b)\n",
    "# D_tooth_info_b.to_csv('../csv_file/PBL_match_result_all_cej_bone_0815_poor_weight_test.csv')\n",
    "D_tooth_info_b.to_csv('../csv_file/PBL_match_result_all_cej_bone_fold1.csv')"
   ]
  },
  {
   "cell_type": "code",
   "execution_count": 17,
   "metadata": {},
   "outputs": [],
   "source": [
    "Dentist_predict_image_name = Dentist_predict[\"image_name\"]"
   ]
  },
  {
   "cell_type": "code",
   "execution_count": 18,
   "metadata": {},
   "outputs": [
    {
     "data": {
      "text/plain": [
       "0    NN_190619_104716_EA3E9\n",
       "1    NN_190619_104716_EA3E9\n",
       "2    NN_190619_104716_EA3E9\n",
       "3    NN_190619_104716_EA3E9\n",
       "4    NN_190619_104720_EA3E7\n",
       "Name: image_name, dtype: object"
      ]
     },
     "execution_count": 18,
     "metadata": {},
     "output_type": "execute_result"
    }
   ],
   "source": [
    "Dentist_predict_image_name.head()"
   ]
  },
  {
   "cell_type": "code",
   "execution_count": null,
   "metadata": {},
   "outputs": [],
   "source": []
  }
 ],
 "metadata": {
  "kernelspec": {
   "display_name": "Python 3",
   "language": "python",
   "name": "python3"
  },
  "language_info": {
   "codemirror_mode": {
    "name": "ipython",
    "version": 3
   },
   "file_extension": ".py",
   "mimetype": "text/x-python",
   "name": "python",
   "nbconvert_exporter": "python",
   "pygments_lexer": "ipython3",
   "version": "3.6.7"
  }
 },
 "nbformat": 4,
 "nbformat_minor": 4
}
