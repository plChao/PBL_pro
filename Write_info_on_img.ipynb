{
 "cells": [
  {
   "cell_type": "code",
   "execution_count": 8,
   "metadata": {},
   "outputs": [],
   "source": [
    "import os\n",
    "import cv2\n",
    "import math\n",
    "import glob\n",
    "import pandas as pd\n",
    "import shutil\n",
    "import random\n",
    "import itertools\n",
    "\n",
    "import numpy as np\n",
    "import pandas as pd\n",
    "\n",
    "\n",
    "from matplotlib import pyplot as plt\n",
    "from PIL import Image, ImageDraw, ImageFont\n",
    "\n",
    "from Roots_point_detect_tool import *\n",
    "from pattern_detection_tool import*\n",
    "\n",
    "from tqdm.notebook import tqdm as tqdm"
   ]
  },
  {
   "cell_type": "code",
   "execution_count": null,
   "metadata": {},
   "outputs": [],
   "source": []
  },
  {
   "cell_type": "code",
   "execution_count": 2,
   "metadata": {},
   "outputs": [],
   "source": [
    "Match_result_csv_path = os.path.join('./csv_file/PBL_match_result_all_cej_bone_dilation1_replace_area_rm_300_dropna.csv')\n",
    "Match_result_csv = pd.read_csv(Match_result_csv_path)\n",
    "Match_result_csv['PBL_stage'] = pd.to_numeric(Match_result_csv['PBL_stage'],errors='coerce')\n",
    "Match_result_csv['PBL_stage'] = Match_result_csv['PBL_stage'].fillna(-999).astype(int)\n",
    "# Match_result_csv.to_csv('./lawrence_compare.csv')"
   ]
  },
  {
   "cell_type": "code",
   "execution_count": null,
   "metadata": {},
   "outputs": [],
   "source": []
  },
  {
   "cell_type": "code",
   "execution_count": 3,
   "metadata": {},
   "outputs": [],
   "source": [
    "os_sys = '/root/notebooks/'"
   ]
  },
  {
   "cell_type": "code",
   "execution_count": 4,
   "metadata": {},
   "outputs": [
    {
     "name": "stdout",
     "output_type": "stream",
     "text": [
      "2973\n"
     ]
    },
    {
     "data": {
      "application/vnd.jupyter.widget-view+json": {
       "model_id": "f02a584f05db484ca5ac93d02c3907ff",
       "version_major": 2,
       "version_minor": 0
      },
      "text/plain": [
       "HBox(children=(IntProgress(value=0, max=2973), HTML(value='')))"
      ]
     },
     "metadata": {},
     "output_type": "display_data"
    },
    {
     "name": "stdout",
     "output_type": "stream",
     "text": [
      "\n"
     ]
    }
   ],
   "source": [
    "json_file_list = glob.glob('/root/notebooks/tooth_thsis_experiment/PBL_detection/Data/json_file/*.json')\n",
    "print(len(json_file_list))\n",
    "dest_folder = './4_result_with_label'\n",
    "\n",
    "for json_path in tqdm(json_file_list):\n",
    "    src_files = json_path\n",
    "    dest_path = os.path.join(dest_folder, json_path.split('/')[-1])\n",
    "    #shutil.copyfile(src_files, dest_path)"
   ]
  },
  {
   "cell_type": "code",
   "execution_count": 9,
   "metadata": {},
   "outputs": [],
   "source": [
    "import os\n",
    "import shutil\n",
    "\n",
    "def remove_check_point(path):\n",
    "    for file_name in os.listdir(path):\n",
    "        #print(file_name)\n",
    "        if 'checkpoints' in file_name:\n",
    "            shutil.rmtree(os.path.join(path, file_name))\n",
    "        if '__pycache__' in file_name:\n",
    "            shutil.rmtree(os.path.join(path, file_name))"
   ]
  },
  {
   "cell_type": "code",
   "execution_count": 10,
   "metadata": {},
   "outputs": [
    {
     "data": {
      "application/vnd.jupyter.widget-view+json": {
       "model_id": "27d4d033f9034dcdb3e04f1c6ac55706",
       "version_major": 2,
       "version_minor": 0
      },
      "text/plain": [
       "HBox(children=(IntProgress(value=0, max=31), HTML(value='')))"
      ]
     },
     "metadata": {},
     "output_type": "display_data"
    },
    {
     "name": "stdout",
     "output_type": "stream",
     "text": [
      "Find 12 files in [.git] folder\n",
      "Find 2511 files in [1_o_image] folder\n",
      "Find 8972 files in [1_roots_mask] folder\n",
      "Find 2511 files in [1_seg_image] folder\n",
      "Find 8969 files in [2_seg_img_with_cej] folder\n",
      "Find 0 files in [3_draw_all_points_on_o_img] folder\n",
      "Find 0 files in [3_draw_all_points_on_seg_img] folder\n",
      "Find 746 files in [3_pattern_detection_result] folder\n",
      "Find 0 files in [4_result_with_label] folder\n",
      "Find 25 files in [Result_comparison] folder\n",
      "Find 3 files in [Show_case] folder\n",
      "Find 41 files in [csv_file] folder\n",
      "\n"
     ]
    }
   ],
   "source": [
    "parent_folder_path = './'\n",
    "remove_check_point(parent_folder_path)\n",
    "\n",
    "for folder_name in tqdm(sorted(os.listdir(parent_folder_path)), total = len(os.listdir(parent_folder_path))):\n",
    "    if os.path.isdir(os.path.join(parent_folder_path, folder_name)):\n",
    "        remove_check_point(os.path.join(parent_folder_path, folder_name))\n",
    "        print('Find {} files in [{}] folder'.format(len(os.listdir(os.path.join(parent_folder_path, folder_name))),folder_name))"
   ]
  },
  {
   "cell_type": "markdown",
   "metadata": {},
   "source": [
    "#### In 1_ is \n",
    "- 1.Original image.\n",
    "- 2.Unet find root image.\n",
    "- 3.Unet 3 class segmentation.\n",
    "\n",
    "#### In 2_ is \n",
    "- 1.Split all color block in root image to image_name_x.\n",
    "- 2.So one image would become many images.\n",
    "\n",
    "#### In 3_ 826-469=357 \n",
    "- 1.If 2_ non_zero pixel < 5000 or abs(slope(moment of inertia)) < 1.5 would filter out.\n",
    "- 2.Filled up the remaining image by it's moment of inertia scale by it's hight and width.\n",
    "- 3.Using segmentaiton tooth class (green pixel) to be mask to modify the over area filled up tooth.\n",
    "\n",
    "#### In 4_ paste the 2_ image in segmentation image  \n",
    "- 1.If 2_ non_zero pixel < 5000 or abs(slope(moment of inertia)) < 1.5 would filter out.\n",
    "- 2.The remaining root would be paste on segmentation image\n",
    "\n",
    "#### In 5_ using "
   ]
  },
  {
   "cell_type": "code",
   "execution_count": null,
   "metadata": {},
   "outputs": [],
   "source": []
  },
  {
   "cell_type": "code",
   "execution_count": null,
   "metadata": {},
   "outputs": [],
   "source": []
  },
  {
   "cell_type": "code",
   "execution_count": null,
   "metadata": {},
   "outputs": [],
   "source": []
  },
  {
   "cell_type": "code",
   "execution_count": 7,
   "metadata": {},
   "outputs": [],
   "source": [
    "Match_result_csv_path = os.path.join(parent_folder_path,'csv_file/PBL_match_result_all_cej_bone_dilation1_replace_area_rm_300_dropna.csv')\n",
    "Match_result_csv = pd.read_csv(Match_result_csv_path)\n"
   ]
  },
  {
   "cell_type": "code",
   "execution_count": 8,
   "metadata": {},
   "outputs": [],
   "source": [
    "# def write_info_on_image(image_path,tabel,save_path,count):\n",
    "#     image_name = get_name_from_path(image_path,True)\n",
    "#     image_name_False = get_name_from_path(image_path,False)\n",
    "#     #print(image_name)\n",
    "#     image_shape = cv2.imread(image_path).shape\n",
    "#     image = Image.open(image_path)\n",
    "#     draw = ImageDraw.Draw(image)\n",
    "#     if image_shape[1]<600:\n",
    "#         font = ImageFont.truetype('Roboto-Bold.ttf', size=25)\n",
    "#     else:\n",
    "#         font = ImageFont.truetype('Roboto-Bold.ttf', size=35)\n",
    "#     (x, y) = (20, 10)\n",
    "#     error_ = False\n",
    "#     error_value = None\n",
    "#     if not tabel.loc[(tabel['tooth_path'] == '{}'.format(image_name))].empty:\n",
    "#         tooth_name = tabel.loc[(tabel['tooth_path'] == '{}'.format(image_name))]['PBL_predict_tooth'].values[0].split('_')[0]\n",
    "#         #print(tooth_name)\n",
    "#         try:\n",
    "#             LPBL = tabel.loc[(tabel['tooth_path'] == '{}'.format(image_name)) & (tabel['PBL_predict_tooth'].isin(['{}_L'.format(tooth_name)]))]['PBL_value'].values[0]\n",
    "#             L_predict_stage = tabel.loc[(tabel['tooth_path'] == '{}'.format(image_name)) & (tabel['PBL_predict_tooth'].isin(['{}_L'.format(tooth_name)]))]['PBL_stage'].values[0]\n",
    "#             L_Label_stage = tabel.loc[(tabel['tooth_path'] == '{}'.format(image_name)) & (tabel['PBL_predict_tooth'].isin(['{}_L'.format(tooth_name)]))]['state'].values[0]\n",
    "#         except:\n",
    "#             LPBL = -888\n",
    "#             L_predict_stage = -888\n",
    "#             L_Label_stage = -888\n",
    "#         try:\n",
    "#             RPBL = tabel.loc[(tabel['tooth_path'] == '{}'.format(image_name)) & (tabel['PBL_predict_tooth'].isin(['{}_R'.format(tooth_name)]))]['PBL_value'].values[0]\n",
    "#             R_predict_stage = tabel.loc[(tabel['tooth_path'] == '{}'.format(image_name)) & (tabel['PBL_predict_tooth'].isin(['{}_R'.format(tooth_name)]))]['PBL_stage'].values[0]\n",
    "#             R_Label_stage = tabel.loc[(tabel['tooth_path'] == '{}'.format(image_name)) & (tabel['PBL_predict_tooth'].isin(['{}_R'.format(tooth_name)]))]['state'].values[0]\n",
    "#         except:\n",
    "#             RPBL = -888\n",
    "#             R_predict_stage = -888\n",
    "#             R_Label_stage = -888\n",
    "#         #print(L_predict_stage,R_predict_stage,L_Label_stage,R_Label_stage)\n",
    "#         if L_predict_stage != L_Label_stage or R_predict_stage != R_Label_stage:\n",
    "#             error_ = True\n",
    "#             if L_predict_stage == -999 and L_Label_stage != -999:\n",
    "#                 error_value = 11##human can find model can't\n",
    "#             elif R_predict_stage == -999 and R_Label_stage != -999:\n",
    "#                 error_value = 12##human can find model can't\n",
    "#             elif L_predict_stage == -999 and L_Label_stage != -999 and R_predict_stage == -999 and R_Label_stage != -999:\n",
    "#                 error_value = 1##human can find model can't\n",
    "#             elif L_predict_stage != -999 and L_Label_stage == -999:\n",
    "#                 error_value = 21##model can find human can't\n",
    "#             elif R_predict_stage != -999 and R_Label_stage == -999:\n",
    "#                 error_value = 22##model can find human can't\n",
    "#             elif L_predict_stage != -999 and L_Label_stage == -999 and R_predict_stage != -999 and R_Label_stage == -999:\n",
    "#                 error_value = 2##model can find human can't\n",
    "#             elif L_predict_stage == -888 and L_Label_stage == -888:\n",
    "#                 error_value = 31##one PBL = -888\n",
    "#             elif R_predict_stage == -888 and R_Label_stage == -888:\n",
    "#                 error_value = 32##one PBL = -888\n",
    "#             elif L_predict_stage == -888 and L_Label_stage == -888 and R_predict_stage == -888 and R_Label_stage == -888:\n",
    "#                 error_value = 3##one PBL = -888\n",
    "#             elif L_predict_stage != -999 and L_predict_stage != -888 and L_Label_stage != -999 and L_Label_stage != -888:\n",
    "#                 error_value = 0##error_value            \n",
    "#             elif R_predict_stage != -999 and R_predict_stage != -888 and R_Label_stage != -999 and R_Label_stage != -888:\n",
    "#                 error_value = 0##error_value            \n",
    "#             elif L_predict_stage != -999 and L_predict_stage != -888 and L_Label_stage != -999 and L_Label_stage != -888 and R_predict_stage != -999 and R_predict_stage != -888 and R_Label_stage != -999 and R_Label_stage != -888:\n",
    "#                 error_value = 0##error_value  \n",
    "#             else:\n",
    "#                 print('class error!!!')\n",
    "#                 print(L_predict_stage,L_Label_stage,R_predict_stage,R_Label_stage)\n",
    "#         message = \"LPBL:{}% P_S:{} L_S:{}\\nRPBL:{}% P_S:{} L_S:{}\".format(round(float(LPBL),2),int(L_predict_stage),int(L_Label_stage),round(float(RPBL),2),int(R_predict_stage),int(R_Label_stage))\n",
    "#         color = 'rgb(255, 0, 0)'\n",
    "#         draw.text((x, y), message, fill=color, font=font)\n",
    "#     else:\n",
    "#         count+=1\n",
    "#         pass\n",
    "#     if error_:\n",
    "#         #print(error_value)\n",
    "#         if error_value ==0:\n",
    "#             image.save(os.path.join(save_path,image_name_False+'_err00.PNG'))\n",
    "#         elif error_value ==1:\n",
    "#             image.save(os.path.join(save_path,image_name_False+'_err10.PNG'))\n",
    "#         elif error_value ==11:\n",
    "#             image.save(os.path.join(save_path,image_name_False+'_err11.PNG'))\n",
    "#         elif error_value ==12:\n",
    "#             image.save(os.path.join(save_path,image_name_False+'_err12.PNG'))\n",
    "#         elif error_value ==2:\n",
    "#             image.save(os.path.join(save_path,image_name_False+'_err20.PNG'))\n",
    "#         elif error_value ==21:\n",
    "#             image.save(os.path.join(save_path,image_name_False+'_err21.PNG'))\n",
    "#         elif error_value ==22:\n",
    "#             image.save(os.path.join(save_path,image_name_False+'_err22.PNG'))\n",
    "#         elif error_value ==3:\n",
    "#             image.save(os.path.join(save_path,image_name_False+'_err30.PNG'))\n",
    "#         elif error_value ==31:\n",
    "#             image.save(os.path.join(save_path,image_name_False+'_err31.PNG'))\n",
    "#         elif error_value ==32:\n",
    "#             image.save(os.path.join(save_path,image_name_False+'_err32.PNG'))\n",
    "#         else:\n",
    "#             print('error_value error')\n",
    "#     else:\n",
    "#         image.save(os.path.join(save_path,image_name_False+'.PNG'))\n",
    "#     return count"
   ]
  },
  {
   "cell_type": "code",
   "execution_count": 9,
   "metadata": {},
   "outputs": [],
   "source": [
    "def write_info_on_image(image_path,tabel,save_path,count):\n",
    "    image_name = get_name_from_path(image_path,True)\n",
    "    #print(image_name)\n",
    "    image_name_False = get_name_from_path(image_path,False)\n",
    "    #print(image_name)\n",
    "    image_shape = cv2.imread(image_path).shape\n",
    "    image = Image.open(image_path)\n",
    "    draw = ImageDraw.Draw(image)\n",
    "    image_left = Image.open(image_path)\n",
    "    draw_left = ImageDraw.Draw(image_left)\n",
    "    image_right = Image.open(image_path)\n",
    "    draw_right = ImageDraw.Draw(image_right)\n",
    "    if image_shape[1]<600:\n",
    "        font = ImageFont.truetype('Roboto-Bold.ttf', size=25)\n",
    "    else:\n",
    "        font = ImageFont.truetype('Roboto-Bold.ttf', size=35)\n",
    "    (x, y) = (20, 10)\n",
    "    error_ = False\n",
    "    error_value = None\n",
    "    if not tabel.loc[(tabel['tooth_path'] == '{}'.format(image_name))].empty:\n",
    "        tooth_name = tabel.loc[(tabel['tooth_path'] == '{}'.format(image_name))]['PBL_predict_tooth'].values[0].split('_')[0]\n",
    "        #print(tooth_name)\n",
    "        try:\n",
    "            LPBL = tabel.loc[(tabel['tooth_path'] == '{}'.format(image_name)) & (tabel['PBL_predict_tooth'].isin(['{}_L'.format(tooth_name)]))]['PBL_value'].values[0]\n",
    "            L_predict_stage = tabel.loc[(tabel['tooth_path'] == '{}'.format(image_name)) & (tabel['PBL_predict_tooth'].isin(['{}_L'.format(tooth_name)]))]['PBL_stage'].values[0]\n",
    "            L_Label_stage = tabel.loc[(tabel['tooth_path'] == '{}'.format(image_name)) & (tabel['PBL_predict_tooth'].isin(['{}_L'.format(tooth_name)]))]['stage'].values[0]\n",
    "            #print(L_predict_stage,L_Label_stage)\n",
    "            LPBL = float(LPBL)\n",
    "            L_predict_stage = float(L_predict_stage)\n",
    "            L_Label_stage = float(L_Label_stage)\n",
    "            #print('Left side get')\n",
    "        except:\n",
    "            #print('Left side No_match')\n",
    "            LPBL = -888\n",
    "            L_predict_stage = -888\n",
    "            L_Label_stage = -888\n",
    "        try:\n",
    "            RPBL = tabel.loc[(tabel['tooth_path'] == '{}'.format(image_name)) & (tabel['PBL_predict_tooth'].isin(['{}_R'.format(tooth_name)]))]['PBL_value'].values[0]\n",
    "            R_predict_stage = tabel.loc[(tabel['tooth_path'] == '{}'.format(image_name)) & (tabel['PBL_predict_tooth'].isin(['{}_R'.format(tooth_name)]))]['PBL_stage'].values[0]\n",
    "            R_Label_stage = tabel.loc[(tabel['tooth_path'] == '{}'.format(image_name)) & (tabel['PBL_predict_tooth'].isin(['{}_R'.format(tooth_name)]))]['stage'].values[0]\n",
    "            #print(R_predict_stage,R_Label_stage)\n",
    "            RPBL = float(RPBL)\n",
    "            R_predict_stage = float(R_predict_stage)\n",
    "            R_Label_stage = float(R_Label_stage)\n",
    "            #print('Rright side get')\n",
    "        except:\n",
    "            #print('Rright side No_match')\n",
    "            RPBL = -888\n",
    "            R_predict_stage = -888\n",
    "            R_Label_stage = -888\n",
    "        #print(L_predict_stage,L_Label_stage,R_predict_stage,R_Label_stage,error_value)\n",
    "        color = 'rgb(255, 0, 0)'\n",
    "        \n",
    "        if(L_predict_stage != -999 and L_Label_stage != -999 and L_predict_stage != -888 and L_Label_stage != -888):  \n",
    "            message = \"tooth:{}\\nLPBL:{}% P_S:{} L_S:{}\".format(tooth_name,round(float(LPBL),2),int(L_predict_stage),int(L_Label_stage))\n",
    "            draw_left.text((x, y), message, fill=color, font=font)\n",
    "            image_left.save(os.path.join(save_path,image_name_False+'kkk_Relabel_Left.PNG'))\n",
    "        if(R_predict_stage != -999 and R_Label_stage != -999 and R_predict_stage != -888 and R_Label_stage != -888):  \n",
    "            message = \"tooth:{}\\nRPBL:{}% P_S:{} L_S:{}\".format(tooth_name,round(float(RPBL),2),int(R_predict_stage),int(R_Label_stage))\n",
    "            draw_right.text((x, y), message, fill=color, font=font)\n",
    "            image_right.save(os.path.join(save_path,image_name_False+'kkk_Relabel_Right.PNG'))\n",
    "            \n",
    "        message = \"tooth:{}\\nLPBL:{}% P_S:{} L_S:{}\\nRPBL:{}% P_S:{} L_S:{}\".format(tooth_name,round(float(LPBL),2),int(L_predict_stage),int(L_Label_stage),round(float(RPBL),2),int(R_predict_stage),int(R_Label_stage))\n",
    "        draw.text((x, y), message, fill=color, font=font)\n",
    "        if (L_predict_stage != L_Label_stage) or (R_predict_stage != R_Label_stage):\n",
    "            error_value = 0\n",
    "            if (L_predict_stage == -999 and L_Label_stage != -999) or (R_predict_stage == -999 and R_Label_stage != -999):\n",
    "                error_value = 1##human can find model can't\n",
    "                #print('err1')\n",
    "                image.save(os.path.join(save_path,image_name_False+'kkk_cannot_model.PNG'))\n",
    "                \n",
    "            if (L_predict_stage != -999 and L_Label_stage == -999) or (R_predict_stage != -999 and R_Label_stage == -999):\n",
    "                error_value = 1##model can find human can't\n",
    "                #print('err2')\n",
    "                image.save(os.path.join(save_path,image_name_False+'kkk_cannot_human.PNG'))\n",
    "                \n",
    "            if (L_predict_stage == -888 and L_Label_stage == -888) or (R_predict_stage == -888 and R_Label_stage == -888):\n",
    "                error_value = 1##have loss side of tooth\n",
    "                #print('err3')\n",
    "                image.save(os.path.join(save_path,image_name_False+'kkk_loss_side.PNG'))\n",
    "                \n",
    "            if ((int(L_predict_stage) >= 0) and (int(L_Label_stage) >= 0)):\n",
    "                if (int(L_predict_stage) > int(L_Label_stage)):\n",
    "                    L_d = max(0,L_predict_stage)-max(0,L_Label_stage)\n",
    "                    if os.path.isfile(os.path.join(save_path,image_name_False+'kkk_diff_over_predict_{}.PNG'.format(int(L_d)))):\n",
    "                        image.save(os.path.join(save_path,image_name_False+'kkk_diff_over_predict_r{}.PNG'.format(int(L_d))))\n",
    "                    else:\n",
    "                        image.save(os.path.join(save_path,image_name_False+'kkk_diff_over_predict_{}.PNG'.format(int(L_d))))\n",
    "                if (int(L_predict_stage) < int(L_Label_stage)):\n",
    "                    L_d = max(0,L_Label_stage)-max(0,L_predict_stage)\n",
    "                    if os.path.isfile(os.path.join(save_path,image_name_False+'kkk_diff_under_predict_{}.PNG'.format(int(L_d)))):\n",
    "                        image.save(os.path.join(save_path,image_name_False+'kkk_diff_under_predict_r{}.PNG'.format(int(L_d))))\n",
    "                    else:\n",
    "                        image.save(os.path.join(save_path,image_name_False+'kkk_diff_under_predict_{}.PNG'.format(int(L_d))))\n",
    "                if (int(L_predict_stage) == int(L_Label_stage)):\n",
    "                    if os.path.isfile(os.path.join(save_path,image_name_False+'kkk_R_side_diff_L_side_same.PNG')):\n",
    "                        image.save(os.path.join(save_path,image_name_False+'kkk_R_side_diff_L_side_samer.PNG'))\n",
    "                    else:\n",
    "                        image.save(os.path.join(save_path,image_name_False+'kkk_R_side_diff_L_side_same.PNG'))\n",
    "                        \n",
    "            if ((int(R_predict_stage) >= 0) and (int(R_Label_stage) >= 0)):\n",
    "                if (int(R_predict_stage) > int(R_Label_stage)):\n",
    "                    R_d = max(0,R_predict_stage)-max(0,R_Label_stage)\n",
    "                    if os.path.isfile(os.path.join(save_path,image_name_False+'kkk_diff_over_predict_{}.PNG'.format(int(R_d)))):\n",
    "                        image.save(os.path.join(save_path,image_name_False+'kkk_diff_over_predict_r{}.PNG'.format(int(R_d))))\n",
    "                    else:\n",
    "                        image.save(os.path.join(save_path,image_name_False+'kkk_diff_over_predict_{}.PNG'.format(int(R_d))))\n",
    "                if (int(R_predict_stage) < int(R_Label_stage)):\n",
    "                    R_d = max(0,R_Label_stage)-max(0,R_predict_stage)\n",
    "                    if os.path.isfile(os.path.join(save_path,image_name_False+'kkk_diff_under_predict_{}.PNG'.format(int(R_d)))):\n",
    "                        image.save(os.path.join(save_path,image_name_False+'kkk_diff_under_predict_r{}.PNG'.format(int(R_d))))\n",
    "                    else:\n",
    "                        image.save(os.path.join(save_path,image_name_False+'kkk_diff_under_predict_{}.PNG'.format(int(R_d))))\n",
    "                if (int(R_predict_stage) == int(R_Label_stage)):\n",
    "                    if os.path.isfile(os.path.join(save_path,image_name_False+'kkk_L_side_diff_R_side_same.PNG')):\n",
    "                        image.save(os.path.join(save_path,image_name_False+'kkk_L_side_diff_R_side_samer.PNG'))\n",
    "                    else:\n",
    "                        image.save(os.path.join(save_path,image_name_False+'kkk_L_side_diff_R_side_same.PNG'))\n",
    "        else:\n",
    "            image.save(os.path.join(save_path,image_name_False+'kkk_same_judg.PNG'))\n",
    "    else:\n",
    "        message = \"no any tooth match(json false)\"\n",
    "        color = 'rgb(0, 0, 255)'\n",
    "        draw.text((x, y), message, fill=color, font=font)\n",
    "        image.save(os.path.join(save_path,image_name_False+'kkk_match_f.PNG'))\n",
    "    return count"
   ]
  },
  {
   "cell_type": "code",
   "execution_count": null,
   "metadata": {},
   "outputs": [],
   "source": []
  },
  {
   "cell_type": "code",
   "execution_count": 10,
   "metadata": {},
   "outputs": [
    {
     "data": {
      "application/vnd.jupyter.widget-view+json": {
       "model_id": "fc060a878d164e209b22a466910e859c",
       "version_major": 2,
       "version_minor": 0
      },
      "text/plain": [
       "HBox(children=(IntProgress(value=0, max=7420), HTML(value='')))"
      ]
     },
     "metadata": {},
     "output_type": "display_data"
    },
    {
     "name": "stdout",
     "output_type": "stream",
     "text": [
      "\n",
      "0\n"
     ]
    }
   ],
   "source": [
    "#Write info of all detect result on image\n",
    "path = os.path.join(parent_folder_path,'3_pattern_detection_result/*.PNG')\n",
    "image_path_list = glob.glob(path)\n",
    "image_path_list.sort()\n",
    "\n",
    "save_path = os.path.join(parent_folder_path,'4_result_with_label')\n",
    "\n",
    "count = 0\n",
    "\n",
    "for index,image_path in tqdm(enumerate(image_path_list),total=len(image_path_list)):\n",
    "#     if 'NN_180829_111336_16DC2D' not in image_path:\n",
    "#         continue\n",
    "    count = write_info_on_image(image_path,Match_result_csv,save_path,count)\n",
    "print(count)"
   ]
  },
  {
   "cell_type": "code",
   "execution_count": 11,
   "metadata": {},
   "outputs": [
    {
     "name": "stdout",
     "output_type": "stream",
     "text": [
      "84\n"
     ]
    }
   ],
   "source": [
    "count = 84\n",
    "print(count)"
   ]
  },
  {
   "cell_type": "code",
   "execution_count": 12,
   "metadata": {},
   "outputs": [
    {
     "name": "stdout",
     "output_type": "stream",
     "text": [
      "19240\n"
     ]
    },
    {
     "data": {
      "application/vnd.jupyter.widget-view+json": {
       "model_id": "197996ca7150413bb8485e02773eaaf9",
       "version_major": 2,
       "version_minor": 0
      },
      "text/plain": [
       "HBox(children=(IntProgress(value=0, max=19240), HTML(value='')))"
      ]
     },
     "metadata": {},
     "output_type": "display_data"
    },
    {
     "name": "stdout",
     "output_type": "stream",
     "text": [
      "\n",
      "237\n"
     ]
    }
   ],
   "source": [
    "#Show the difference between the prediction and the doctor's judgment\n",
    "o_img_folder = os.path.join(parent_folder_path,'1_o_image')\n",
    "seg_img_folder = os.path.join(parent_folder_path,'1_seg_image')\n",
    "\n",
    "path = os.path.join(parent_folder_path,'4_result_with_label')\n",
    "image_path_list = glob.glob(path+'/*.PNG')\n",
    "image_path_list.sort()\n",
    "\n",
    "print(len(image_path_list))\n",
    "count = 0\n",
    "for index,image_path in tqdm(enumerate(image_path_list),total=len(image_path_list)):\n",
    "    image_name = get_name_from_path(image_path,False)\n",
    "\n",
    "    try:\n",
    "        value = image_name[-1]\n",
    "        value = int(value)\n",
    "    except:\n",
    "        value = 0\n",
    "        \n",
    "    if value == 2 :\n",
    "#         print(image_path)\n",
    "#         o_image_name = image_name.split('kkk')[0][:-2]\n",
    "#         print('Predict got different value')\n",
    "#         o_image_path = os.path.join(o_img_folder,o_image_name+'.PNG')\n",
    "#         seg_image_path = os.path.join(seg_img_folder,o_image_name+'.PNG')\n",
    "#         plt.figure(figsize=(15,15))\n",
    "#         plt.subplot(131)\n",
    "#         plt.imshow(cv2.cvtColor(cv2.imread(image_path), cv2.COLOR_BGR2RGB))\n",
    "#         plt.subplot(132)\n",
    "#         plt.imshow(cv2.imread(o_image_path,0),cmap='gray')\n",
    "#         plt.subplot(133)\n",
    "#         plt.imshow(cv2.cvtColor(cv2.imread(seg_image_path), cv2.COLOR_BGR2RGB))\n",
    "#         plt.show()\n",
    "        count +=1\n",
    "    else:\n",
    "        pass\n",
    "print(count)"
   ]
  },
  {
   "cell_type": "code",
   "execution_count": null,
   "metadata": {},
   "outputs": [],
   "source": []
  },
  {
   "cell_type": "code",
   "execution_count": 13,
   "metadata": {},
   "outputs": [],
   "source": [
    "# #Show the difference between the prediction and the doctor's judgment\n",
    "# o_img_folder = os.path.join(parent_folder_path,'1_o_image')\n",
    "# seg_img_folder = os.path.join(parent_folder_path,'1_seg_image')\n",
    "\n",
    "# path = os.path.join(parent_folder_path,'4_result_with_label')\n",
    "# image_path_list = glob.glob(path+'/*.PNG')\n",
    "# image_path_list.sort()\n",
    "\n",
    "# print(len(image_path_list))\n",
    "# count = 0\n",
    "# for index,image_path in tqdm(enumerate(image_path_list),total=len(image_path_list)):\n",
    "#     image_name = get_name_from_path(image_path,False)\n",
    "\n",
    "#     try:\n",
    "#         value = image_name[-1]\n",
    "#         value = int(value)\n",
    "#     except:\n",
    "#         value = 0\n",
    "        \n",
    "#     #if value == 2 and count <200:\n",
    "#     if value == 2:\n",
    "#         print(image_path)\n",
    "#         o_image_name = image_name.split('kkk')[0][:-2]\n",
    "#         print('Predict got different value')\n",
    "#         o_image_path = os.path.join(o_img_folder,o_image_name+'.PNG')\n",
    "#         seg_image_path = os.path.join(seg_img_folder,o_image_name+'.PNG')\n",
    "#         plt.figure(figsize=(15,15))\n",
    "#         plt.subplot(131)\n",
    "#         plt.imshow(cv2.cvtColor(cv2.imread(image_path), cv2.COLOR_BGR2RGB))\n",
    "#         plt.subplot(132)\n",
    "#         plt.imshow(cv2.imread(o_image_path,0),cmap='gray')\n",
    "#         plt.subplot(133)\n",
    "#         plt.imshow(cv2.cvtColor(cv2.imread(seg_image_path), cv2.COLOR_BGR2RGB))\n",
    "#         plt.show()\n",
    "#         count +=1\n",
    "#     else:\n",
    "#         pass\n",
    "# print(count)"
   ]
  },
  {
   "cell_type": "code",
   "execution_count": null,
   "metadata": {},
   "outputs": [],
   "source": []
  },
  {
   "cell_type": "code",
   "execution_count": null,
   "metadata": {},
   "outputs": [],
   "source": []
  },
  {
   "cell_type": "code",
   "execution_count": 14,
   "metadata": {},
   "outputs": [
    {
     "name": "stdout",
     "output_type": "stream",
     "text": [
      "0\n"
     ]
    }
   ],
   "source": [
    "root_folder_path = \"./PBL_detection/4_result_with_label/*.PNG\"\n",
    "root_img_path_list = glob.glob(root_folder_path)\n",
    "print(len(root_img_path_list))"
   ]
  },
  {
   "cell_type": "code",
   "execution_count": 15,
   "metadata": {},
   "outputs": [
    {
     "ename": "IndexError",
     "evalue": "list index out of range",
     "output_type": "error",
     "traceback": [
      "\u001b[0;31m---------------------------------------------------------------------------\u001b[0m",
      "\u001b[0;31mIndexError\u001b[0m                                Traceback (most recent call last)",
      "\u001b[0;32m<ipython-input-15-5f1e97be9fbc>\u001b[0m in \u001b[0;36m<module>\u001b[0;34m\u001b[0m\n\u001b[0;32m----> 1\u001b[0;31m \u001b[0mroot_img\u001b[0m \u001b[0;34m=\u001b[0m \u001b[0mcv2\u001b[0m\u001b[0;34m.\u001b[0m\u001b[0mimread\u001b[0m\u001b[0;34m(\u001b[0m\u001b[0mroot_img_path_list\u001b[0m\u001b[0;34m[\u001b[0m\u001b[0;36m0\u001b[0m\u001b[0;34m]\u001b[0m\u001b[0;34m,\u001b[0m\u001b[0;36m0\u001b[0m\u001b[0;34m)\u001b[0m\u001b[0;34m\u001b[0m\u001b[0;34m\u001b[0m\u001b[0m\n\u001b[0m\u001b[1;32m      2\u001b[0m \u001b[0mprint\u001b[0m\u001b[0;34m(\u001b[0m\u001b[0mroot_img\u001b[0m\u001b[0;34m.\u001b[0m\u001b[0mshape\u001b[0m\u001b[0;34m)\u001b[0m\u001b[0;34m\u001b[0m\u001b[0;34m\u001b[0m\u001b[0m\n\u001b[1;32m      3\u001b[0m \u001b[0mprint\u001b[0m\u001b[0;34m(\u001b[0m\u001b[0mshow_pixel_set\u001b[0m\u001b[0;34m(\u001b[0m\u001b[0mroot_img\u001b[0m\u001b[0;34m)\u001b[0m\u001b[0;34m)\u001b[0m\u001b[0;34m\u001b[0m\u001b[0;34m\u001b[0m\u001b[0m\n\u001b[1;32m      4\u001b[0m \u001b[0;34m\u001b[0m\u001b[0m\n\u001b[1;32m      5\u001b[0m \u001b[0mret\u001b[0m\u001b[0;34m,\u001b[0m\u001b[0mthresh\u001b[0m \u001b[0;34m=\u001b[0m \u001b[0mcv2\u001b[0m\u001b[0;34m.\u001b[0m\u001b[0mthreshold\u001b[0m\u001b[0;34m(\u001b[0m\u001b[0mroot_img\u001b[0m\u001b[0;34m,\u001b[0m\u001b[0;36m127\u001b[0m\u001b[0;34m,\u001b[0m\u001b[0;36m255\u001b[0m\u001b[0;34m,\u001b[0m\u001b[0;36m0\u001b[0m\u001b[0;34m)\u001b[0m\u001b[0;34m\u001b[0m\u001b[0;34m\u001b[0m\u001b[0m\n",
      "\u001b[0;31mIndexError\u001b[0m: list index out of range"
     ]
    }
   ],
   "source": [
    "root_img = cv2.imread(root_img_path_list[0],0)\n",
    "print(root_img.shape)\n",
    "print(show_pixel_set(root_img))\n",
    "\n",
    "ret,thresh = cv2.threshold(root_img,127,255,0)\n",
    "contours_all,hierarchy = cv2.findContours(thresh,cv2.RETR_TREE, cv2.CHAIN_APPROX_SIMPLE)\n",
    "\n",
    "point_x = []\n",
    "point_y = []\n",
    "for contours in contours_all:\n",
    "    if(len(contours))==2:\n",
    "        continue\n",
    "    idx_list = []\n",
    "    \n",
    "    for idx in range(len(contours)):\n",
    "        im = cv2.cvtColor(root_img,cv2.COLOR_GRAY2BGR)\n",
    "        point = contours[idx][0]\n",
    "        point_x.append(point[0])\n",
    "        point_y.append(point[1])\n",
    "\n",
    "        \n",
    "        \n",
    "plt.subplot(131)\n",
    "plt.imshow(root_img)\n",
    "plt.scatter(x=point_x, y=point_y, c='r', s=1)\n",
    "plt.subplot(132)\n",
    "plt.imshow(root_img)\n",
    "plt.subplot(133)\n",
    "plt.imshow(root_img)\n",
    "plt.show()"
   ]
  },
  {
   "cell_type": "code",
   "execution_count": null,
   "metadata": {},
   "outputs": [],
   "source": []
  }
 ],
 "metadata": {
  "kernelspec": {
   "display_name": "Python 3",
   "language": "python",
   "name": "python3"
  },
  "language_info": {
   "codemirror_mode": {
    "name": "ipython",
    "version": 3
   },
   "file_extension": ".py",
   "mimetype": "text/x-python",
   "name": "python",
   "nbconvert_exporter": "python",
   "pygments_lexer": "ipython3",
   "version": "3.6.7"
  }
 },
 "nbformat": 4,
 "nbformat_minor": 4
}
